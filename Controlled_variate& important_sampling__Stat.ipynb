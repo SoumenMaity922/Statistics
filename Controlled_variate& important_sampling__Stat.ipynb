{
 "cells": [
  {
   "cell_type": "code",
   "execution_count": 1,
   "id": "e04f79af",
   "metadata": {},
   "outputs": [],
   "source": [
    "using Statistics,StatsPlots,Distributions,Plots;"
   ]
  },
  {
   "cell_type": "code",
   "execution_count": 2,
   "id": "80b5e8dd",
   "metadata": {},
   "outputs": [],
   "source": [
    "using LaTeXStrings;"
   ]
  },
  {
   "cell_type": "markdown",
   "id": "09fd96be",
   "metadata": {},
   "source": [
    "#### controlled Variate Method"
   ]
  },
  {
   "cell_type": "markdown",
   "id": "90f10335",
   "metadata": {},
   "source": [
    "Let  we want to approximate the integral $g(x) = \\int_{0}^{1} e^x dx$. So, here we compute the exact integration by taking $f(X) \\sim {U}(0,1)$. Choose $\\psi(x)$ is follow Uniform distribution. Let, $\\hat{\\theta_{c}} = g(x) + c(\\psi(x) - \\mu)$, where $\\mu = E_{f}[\\psi(x)],X \\sim f$.Then $E[\\hat{\\theta_{c}}] = E_{f}[g(X)]$ , that means $\\hat{\\theta_c}$ is unbiased for $g(x)$ and var$(\\hat{\\theta_{c}})=$  var$(g(X) + c^{2}$var$\\psi(X)$+ $2$cov$(g(X),\\psi(X))$. \n",
    "\n",
    "We want the variance should be minimum. So we find that for $c = -\\frac{Cov(g(X),\\psi(X))}{Var(\\psi(X))}$ the variance is minimum,call it as $c^{*}$.\n",
    "\n",
    "Then $\\hat{\\theta_{c}} = g(X) - \\frac{Cov(g(X),\\psi(X))}{Var(\\psi(X))}(\\psi(X) - \\mu)$.\n",
    "\n",
    "If we take the sample mean estimator is $\\hat{\\theta}$, then $\\hat{\\theta} = \\sum_{1}^m g(X_{i})$ and variance of this estimator is var($\\hat{\\theta})$ = Var$(\\frac{Var(g(X))}{m})$. \n",
    "\n",
    "But for the new estimator $\\hat{\\theta_{c}}$ = Var$\\frac{(g(X))}{m}$ - $\\frac{2}{m}$$\\frac{(Cov(g(X),\\psi(X)))^{2}}{Var(\\psi(X))}$. So $\\frac{(Cov(g(X),\\psi(X)))^{2}}{Var(\\psi(X))}$ this is quantity of reduction of variance. \n",
    "\n",
    "$\\% $ reduction in variance is = $100 \\times \\frac{(Var(\\hat{\\theta}) - Var(\\hat{\\theta_{c}}))}{Var(\\hat{\\theta})} = 100 \\times \\rho$, where $\\rho =$ Correlation coefficient of $(g(X),\\psi(Y))$.\n",
    "\n",
    "Here we call that $\\psi(x)$ function as **Controlled Variable**."
   ]
  },
  {
   "cell_type": "code",
   "execution_count": 3,
   "id": "e92c5a85",
   "metadata": {},
   "outputs": [
    {
     "data": {
      "text/plain": [
       "0.015332358968861384"
      ]
     },
     "execution_count": 3,
     "metadata": {},
     "output_type": "execute_result"
    }
   ],
   "source": [
    "m = 1000\n",
    "\n",
    "x = rand(Uniform(),m)\n",
    "y = exp.(x)\n",
    "theta_hat = mean(y)\n",
    "se_theta_hat = std(y)/sqrt(m)\n"
   ]
  },
  {
   "cell_type": "code",
   "execution_count": 4,
   "id": "12b68a41",
   "metadata": {},
   "outputs": [
    {
     "data": {
      "text/plain": [
       "1.7245887384266463"
      ]
     },
     "execution_count": 4,
     "metadata": {},
     "output_type": "execute_result"
    }
   ],
   "source": [
    "mean(y)"
   ]
  },
  {
   "cell_type": "code",
   "execution_count": 5,
   "id": "9b0190fe",
   "metadata": {},
   "outputs": [
    {
     "data": {
      "text/plain": [
       "(1.7202900068514115, 1.7202900068514122)"
      ]
     },
     "execution_count": 5,
     "metadata": {},
     "output_type": "execute_result"
    }
   ],
   "source": [
    "c_star = -6*(3 - exp(1))\n",
    "\n",
    "m1 = 10000\n",
    "U = rand(Uniform(),m1)\n",
    "T1 = exp.(U)\n",
    "T2 = exp.(U) + c_star*(U .- mean(U));\n",
    "mean(T1),mean(T2)"
   ]
  },
  {
   "cell_type": "code",
   "execution_count": 6,
   "id": "c48f92f9",
   "metadata": {},
   "outputs": [
    {
     "data": {
      "text/plain": [
       "0.5081087554178858"
      ]
     },
     "execution_count": 6,
     "metadata": {},
     "output_type": "execute_result"
    }
   ],
   "source": [
    "U = rand(Uniform(),m)\n",
    "mean(U)"
   ]
  },
  {
   "cell_type": "code",
   "execution_count": 7,
   "id": "d5f7b640",
   "metadata": {},
   "outputs": [
    {
     "data": {
      "text/plain": [
       "0.0019916889785531744"
      ]
     },
     "execution_count": 7,
     "metadata": {},
     "output_type": "execute_result"
    }
   ],
   "source": [
    "variance_monte_carlo = std(T1)/sqrt(m)\n",
    "variance_psi = std(T2)/sqrt(m)"
   ]
  },
  {
   "cell_type": "code",
   "execution_count": 8,
   "id": "c8b1c9cb",
   "metadata": {},
   "outputs": [
    {
     "name": "stdout",
     "output_type": "stream",
     "text": [
      "0.491961051939191\n",
      "0.06298273562882281\n"
     ]
    }
   ],
   "source": [
    "println(std(T1))\n",
    "println(std(T2))"
   ]
  },
  {
   "cell_type": "code",
   "execution_count": 9,
   "id": "b6e93e66",
   "metadata": {},
   "outputs": [
    {
     "data": {
      "text/plain": [
       "87.1976174982633"
      ]
     },
     "execution_count": 9,
     "metadata": {},
     "output_type": "execute_result"
    }
   ],
   "source": [
    "percentage_reduction = (((std(T1)) - std(T2))/(std(T1)))*100"
   ]
  },
  {
   "cell_type": "markdown",
   "id": "02af733c",
   "metadata": {},
   "source": [
    "### Important Sampling Mehtod"
   ]
  },
  {
   "cell_type": "markdown",
   "id": "9019eaf9",
   "metadata": {},
   "source": [
    "**Problem :** We want to integrate $\\int_{0}^{1} \\frac{e^{-x}}{1 + x^2} dx$. We take five different functions \n",
    "* $f_{0}(x) = 1,0 < x<1$\n",
    "* $f_{1}(x) = e^{(-x)}, 0 <x<\\infty$\n",
    "* $f_{2}(x) = \\frac{1}{\\pi}\\frac{1}{1 +x^2} , -\\infty < x < \\infty$\n",
    "* $f_{3}(x) = \\frac{e^{-x}}{1 - e^{-1}}, 0 < x< 1$\n",
    "* $f_{4}(x) = \\frac{4}{\\pi}\\frac{1}{1 + x^2} , 0 <x < 1$.\n",
    "\n",
    "Here all these functions are probability density functions.\n",
    "We need to find that probability density functions for which the variance of $\\frac{g(x)}{f_{i}(x)}$ is minimum for $i = 0,1,2,3,4$.\n",
    "\n",
    "Assume that, we don't know how to generate random samples from $f_{i} ,\\forall i, 0 \\le i \\le 4$. So we generate samples  from unifrom distributions and then use inverse distribution function to generate from the original $f$.\n",
    "\n",
    "Finally we also draw the graphs of $\\frac{g(x)}{f_{i}(x)}$ for $i = 0,1,2,3,4$ to look at that for which $i$ this ratio comes as approximately constant as $E[g(X)] = \\int_{0}^{1} g(x)dx = \\int_{0}^{1} \\frac{g(x)}{f(x)}f(x) dx$. So if the ratio  $\\frac{g(x)}{f(x)}$ is more likely constant, then $E[g(X)]$ is will become an integral of a  density function, that is easy to computing."
   ]
  },
  {
   "cell_type": "code",
   "execution_count": 10,
   "id": "04ba9ac1",
   "metadata": {},
   "outputs": [
    {
     "data": {
      "text/plain": [
       "g (generic function with 1 method)"
      ]
     },
     "execution_count": 10,
     "metadata": {},
     "output_type": "execute_result"
    }
   ],
   "source": [
    "function g(x)\n",
    "    if (0 < x < 1)\n",
    "        exp(-x)/(1 + x^2)\n",
    "    else\n",
    "        return 0\n",
    "    end\n",
    "end\n"
   ]
  },
  {
   "cell_type": "code",
   "execution_count": 11,
   "id": "c9a9bb09",
   "metadata": {},
   "outputs": [
    {
     "data": {
      "text/plain": [
       "0.2246241214036459"
      ]
     },
     "execution_count": 11,
     "metadata": {},
     "output_type": "execute_result"
    }
   ],
   "source": [
    "g(0.9)"
   ]
  },
  {
   "cell_type": "code",
   "execution_count": 12,
   "id": "dfe4c3c5",
   "metadata": {},
   "outputs": [
    {
     "data": {
      "text/plain": [
       "f0 (generic function with 1 method)"
      ]
     },
     "execution_count": 12,
     "metadata": {},
     "output_type": "execute_result"
    }
   ],
   "source": [
    "function f0(x)\n",
    "    1*(0<x<1)\n",
    "end\n",
    "        "
   ]
  },
  {
   "cell_type": "code",
   "execution_count": 13,
   "id": "a99ba8b1",
   "metadata": {},
   "outputs": [
    {
     "data": {
      "text/plain": [
       "f1 (generic function with 1 method)"
      ]
     },
     "execution_count": 13,
     "metadata": {},
     "output_type": "execute_result"
    }
   ],
   "source": [
    "function f1(x)\n",
    "        exp(-x)*(x>0)\n",
    "end"
   ]
  },
  {
   "cell_type": "code",
   "execution_count": 14,
   "id": "d7cea4b6",
   "metadata": {},
   "outputs": [
    {
     "data": {
      "text/plain": [
       "f2 (generic function with 1 method)"
      ]
     },
     "execution_count": 14,
     "metadata": {},
     "output_type": "execute_result"
    }
   ],
   "source": [
    "function f2(x)\n",
    "    (1/pi)*(1/(1 + x^2))\n",
    "end"
   ]
  },
  {
   "cell_type": "code",
   "execution_count": 15,
   "id": "924805a9",
   "metadata": {},
   "outputs": [
    {
     "data": {
      "text/plain": [
       "f3 (generic function with 1 method)"
      ]
     },
     "execution_count": 15,
     "metadata": {},
     "output_type": "execute_result"
    }
   ],
   "source": [
    "function f3(x)\n",
    "    (exp(-x)/(1 - exp(-1)))*(x>0)*(x<1)\n",
    "end"
   ]
  },
  {
   "cell_type": "code",
   "execution_count": 16,
   "id": "794be374",
   "metadata": {},
   "outputs": [
    {
     "data": {
      "text/plain": [
       "f4 (generic function with 1 method)"
      ]
     },
     "execution_count": 16,
     "metadata": {},
     "output_type": "execute_result"
    }
   ],
   "source": [
    "function f4(x)\n",
    "    (4/pi)*(1/(1 + x^2))*(x> 0)*(x<1)\n",
    "end"
   ]
  },
  {
   "cell_type": "code",
   "execution_count": 17,
   "id": "2b999be4",
   "metadata": {},
   "outputs": [
    {
     "data": {
      "image/svg+xml": [
       "<?xml version=\"1.0\" encoding=\"utf-8\"?>\n",
       "<svg xmlns=\"http://www.w3.org/2000/svg\" xmlns:xlink=\"http://www.w3.org/1999/xlink\" width=\"600\" height=\"400\" viewBox=\"0 0 2400 1600\">\n",
       "<defs>\n",
       "  <clipPath id=\"clip630\">\n",
       "    <rect x=\"0\" y=\"0\" width=\"2400\" height=\"1600\"/>\n",
       "  </clipPath>\n",
       "</defs>\n",
       "<path clip-path=\"url(#clip630)\" d=\"\n",
       "M0 1600 L2400 1600 L2400 0 L0 0  Z\n",
       "  \" fill=\"#ffffff\" fill-rule=\"evenodd\" fill-opacity=\"1\"/>\n",
       "<defs>\n",
       "  <clipPath id=\"clip631\">\n",
       "    <rect x=\"480\" y=\"0\" width=\"1681\" height=\"1600\"/>\n",
       "  </clipPath>\n",
       "</defs>\n",
       "<path clip-path=\"url(#clip630)\" d=\"\n",
       "M186.274 419.781 L1152.76 419.781 L1152.76 47.2441 L186.274 47.2441  Z\n",
       "  \" fill=\"#ffffff\" fill-rule=\"evenodd\" fill-opacity=\"1\"/>\n",
       "<defs>\n",
       "  <clipPath id=\"clip632\">\n",
       "    <rect x=\"186\" y=\"47\" width=\"967\" height=\"374\"/>\n",
       "  </clipPath>\n",
       "</defs>\n",
       "<polyline clip-path=\"url(#clip632)\" style=\"stroke:#000000; stroke-linecap:round; stroke-linejoin:round; stroke-width:2; stroke-opacity:0.1; fill:none\" points=\"\n",
       "  213.627,419.781 213.627,47.2441 \n",
       "  \"/>\n",
       "<polyline clip-path=\"url(#clip632)\" style=\"stroke:#000000; stroke-linecap:round; stroke-linejoin:round; stroke-width:2; stroke-opacity:0.1; fill:none\" points=\"\n",
       "  517.552,419.781 517.552,47.2441 \n",
       "  \"/>\n",
       "<polyline clip-path=\"url(#clip632)\" style=\"stroke:#000000; stroke-linecap:round; stroke-linejoin:round; stroke-width:2; stroke-opacity:0.1; fill:none\" points=\"\n",
       "  821.478,419.781 821.478,47.2441 \n",
       "  \"/>\n",
       "<polyline clip-path=\"url(#clip632)\" style=\"stroke:#000000; stroke-linecap:round; stroke-linejoin:round; stroke-width:2; stroke-opacity:0.1; fill:none\" points=\"\n",
       "  1125.4,419.781 1125.4,47.2441 \n",
       "  \"/>\n",
       "<polyline clip-path=\"url(#clip630)\" style=\"stroke:#000000; stroke-linecap:round; stroke-linejoin:round; stroke-width:4; stroke-opacity:1; fill:none\" points=\"\n",
       "  186.274,419.781 1152.76,419.781 \n",
       "  \"/>\n",
       "<polyline clip-path=\"url(#clip630)\" style=\"stroke:#000000; stroke-linecap:round; stroke-linejoin:round; stroke-width:4; stroke-opacity:1; fill:none\" points=\"\n",
       "  213.627,419.781 213.627,400.884 \n",
       "  \"/>\n",
       "<polyline clip-path=\"url(#clip630)\" style=\"stroke:#000000; stroke-linecap:round; stroke-linejoin:round; stroke-width:4; stroke-opacity:1; fill:none\" points=\"\n",
       "  517.552,419.781 517.552,400.884 \n",
       "  \"/>\n",
       "<polyline clip-path=\"url(#clip630)\" style=\"stroke:#000000; stroke-linecap:round; stroke-linejoin:round; stroke-width:4; stroke-opacity:1; fill:none\" points=\"\n",
       "  821.478,419.781 821.478,400.884 \n",
       "  \"/>\n",
       "<polyline clip-path=\"url(#clip630)\" style=\"stroke:#000000; stroke-linecap:round; stroke-linejoin:round; stroke-width:4; stroke-opacity:1; fill:none\" points=\"\n",
       "  1125.4,419.781 1125.4,400.884 \n",
       "  \"/>\n",
       "<path clip-path=\"url(#clip630)\" d=\"M183.384 465.353 L213.06 465.353 L213.06 469.288 L183.384 469.288 L183.384 465.353 Z\" fill=\"#000000\" fill-rule=\"evenodd\" fill-opacity=\"1\" /><path clip-path=\"url(#clip630)\" d=\"M223.963 478.246 L231.602 478.246 L231.602 451.88 L223.292 453.547 L223.292 449.288 L231.555 447.621 L236.231 447.621 L236.231 478.246 L243.87 478.246 L243.87 482.181 L223.963 482.181 L223.963 478.246 Z\" fill=\"#000000\" fill-rule=\"evenodd\" fill-opacity=\"1\" /><path clip-path=\"url(#clip630)\" d=\"M517.552 450.7 Q513.941 450.7 512.113 454.265 Q510.307 457.806 510.307 464.936 Q510.307 472.042 512.113 475.607 Q513.941 479.149 517.552 479.149 Q521.187 479.149 522.992 475.607 Q524.821 472.042 524.821 464.936 Q524.821 457.806 522.992 454.265 Q521.187 450.7 517.552 450.7 M517.552 446.996 Q523.363 446.996 526.418 451.603 Q529.497 456.186 529.497 464.936 Q529.497 473.663 526.418 478.269 Q523.363 482.853 517.552 482.853 Q511.742 482.853 508.664 478.269 Q505.608 473.663 505.608 464.936 Q505.608 456.186 508.664 451.603 Q511.742 446.996 517.552 446.996 Z\" fill=\"#000000\" fill-rule=\"evenodd\" fill-opacity=\"1\" /><path clip-path=\"url(#clip630)\" d=\"M811.86 478.246 L819.498 478.246 L819.498 451.88 L811.188 453.547 L811.188 449.288 L819.452 447.621 L824.128 447.621 L824.128 478.246 L831.767 478.246 L831.767 482.181 L811.86 482.181 L811.86 478.246 Z\" fill=\"#000000\" fill-rule=\"evenodd\" fill-opacity=\"1\" /><path clip-path=\"url(#clip630)\" d=\"M1120.06 478.246 L1136.37 478.246 L1136.37 482.181 L1114.43 482.181 L1114.43 478.246 Q1117.09 475.491 1121.68 470.862 Q1126.28 466.209 1127.46 464.866 Q1129.71 462.343 1130.59 460.607 Q1131.49 458.848 1131.49 457.158 Q1131.49 454.404 1129.55 452.667 Q1127.62 450.931 1124.52 450.931 Q1122.32 450.931 1119.87 451.695 Q1117.44 452.459 1114.66 454.01 L1114.66 449.288 Q1117.49 448.154 1119.94 447.575 Q1122.39 446.996 1124.43 446.996 Q1129.8 446.996 1133 449.681 Q1136.19 452.367 1136.19 456.857 Q1136.19 458.987 1135.38 460.908 Q1134.59 462.806 1132.49 465.399 Q1131.91 466.07 1128.81 469.288 Q1125.7 472.482 1120.06 478.246 Z\" fill=\"#000000\" fill-rule=\"evenodd\" fill-opacity=\"1\" /><polyline clip-path=\"url(#clip632)\" style=\"stroke:#000000; stroke-linecap:round; stroke-linejoin:round; stroke-width:2; stroke-opacity:0.1; fill:none\" points=\"\n",
       "  186.274,409.238 1152.76,409.238 \n",
       "  \"/>\n",
       "<polyline clip-path=\"url(#clip632)\" style=\"stroke:#000000; stroke-linecap:round; stroke-linejoin:round; stroke-width:2; stroke-opacity:0.1; fill:none\" points=\"\n",
       "  186.274,321.343 1152.76,321.343 \n",
       "  \"/>\n",
       "<polyline clip-path=\"url(#clip632)\" style=\"stroke:#000000; stroke-linecap:round; stroke-linejoin:round; stroke-width:2; stroke-opacity:0.1; fill:none\" points=\"\n",
       "  186.274,233.448 1152.76,233.448 \n",
       "  \"/>\n",
       "<polyline clip-path=\"url(#clip632)\" style=\"stroke:#000000; stroke-linecap:round; stroke-linejoin:round; stroke-width:2; stroke-opacity:0.1; fill:none\" points=\"\n",
       "  186.274,145.553 1152.76,145.553 \n",
       "  \"/>\n",
       "<polyline clip-path=\"url(#clip632)\" style=\"stroke:#000000; stroke-linecap:round; stroke-linejoin:round; stroke-width:2; stroke-opacity:0.1; fill:none\" points=\"\n",
       "  186.274,57.658 1152.76,57.658 \n",
       "  \"/>\n",
       "<polyline clip-path=\"url(#clip630)\" style=\"stroke:#000000; stroke-linecap:round; stroke-linejoin:round; stroke-width:4; stroke-opacity:1; fill:none\" points=\"\n",
       "  186.274,419.781 186.274,47.2441 \n",
       "  \"/>\n",
       "<polyline clip-path=\"url(#clip630)\" style=\"stroke:#000000; stroke-linecap:round; stroke-linejoin:round; stroke-width:4; stroke-opacity:1; fill:none\" points=\"\n",
       "  186.274,409.238 205.172,409.238 \n",
       "  \"/>\n",
       "<polyline clip-path=\"url(#clip630)\" style=\"stroke:#000000; stroke-linecap:round; stroke-linejoin:round; stroke-width:4; stroke-opacity:1; fill:none\" points=\"\n",
       "  186.274,321.343 205.172,321.343 \n",
       "  \"/>\n",
       "<polyline clip-path=\"url(#clip630)\" style=\"stroke:#000000; stroke-linecap:round; stroke-linejoin:round; stroke-width:4; stroke-opacity:1; fill:none\" points=\"\n",
       "  186.274,233.448 205.172,233.448 \n",
       "  \"/>\n",
       "<polyline clip-path=\"url(#clip630)\" style=\"stroke:#000000; stroke-linecap:round; stroke-linejoin:round; stroke-width:4; stroke-opacity:1; fill:none\" points=\"\n",
       "  186.274,145.553 205.172,145.553 \n",
       "  \"/>\n",
       "<polyline clip-path=\"url(#clip630)\" style=\"stroke:#000000; stroke-linecap:round; stroke-linejoin:round; stroke-width:4; stroke-opacity:1; fill:none\" points=\"\n",
       "  186.274,57.658 205.172,57.658 \n",
       "  \"/>\n",
       "<path clip-path=\"url(#clip630)\" d=\"M62.9365 395.036 Q59.3254 395.036 57.4967 398.601 Q55.6912 402.143 55.6912 409.272 Q55.6912 416.379 57.4967 419.944 Q59.3254 423.485 62.9365 423.485 Q66.5707 423.485 68.3763 419.944 Q70.205 416.379 70.205 409.272 Q70.205 402.143 68.3763 398.601 Q66.5707 395.036 62.9365 395.036 M62.9365 391.333 Q68.7467 391.333 71.8022 395.939 Q74.8809 400.522 74.8809 409.272 Q74.8809 417.999 71.8022 422.606 Q68.7467 427.189 62.9365 427.189 Q57.1264 427.189 54.0477 422.606 Q50.9921 417.999 50.9921 409.272 Q50.9921 400.522 54.0477 395.939 Q57.1264 391.333 62.9365 391.333 Z\" fill=\"#000000\" fill-rule=\"evenodd\" fill-opacity=\"1\" /><path clip-path=\"url(#clip630)\" d=\"M83.0984 420.638 L87.9827 420.638 L87.9827 426.518 L83.0984 426.518 L83.0984 420.638 Z\" fill=\"#000000\" fill-rule=\"evenodd\" fill-opacity=\"1\" /><path clip-path=\"url(#clip630)\" d=\"M108.168 395.036 Q104.557 395.036 102.728 398.601 Q100.922 402.143 100.922 409.272 Q100.922 416.379 102.728 419.944 Q104.557 423.485 108.168 423.485 Q111.802 423.485 113.608 419.944 Q115.436 416.379 115.436 409.272 Q115.436 402.143 113.608 398.601 Q111.802 395.036 108.168 395.036 M108.168 391.333 Q113.978 391.333 117.033 395.939 Q120.112 400.522 120.112 409.272 Q120.112 417.999 117.033 422.606 Q113.978 427.189 108.168 427.189 Q102.358 427.189 99.2789 422.606 Q96.2234 417.999 96.2234 409.272 Q96.2234 400.522 99.2789 395.939 Q102.358 391.333 108.168 391.333 Z\" fill=\"#000000\" fill-rule=\"evenodd\" fill-opacity=\"1\" /><path clip-path=\"url(#clip630)\" d=\"M138.33 395.036 Q134.719 395.036 132.89 398.601 Q131.084 402.143 131.084 409.272 Q131.084 416.379 132.89 419.944 Q134.719 423.485 138.33 423.485 Q141.964 423.485 143.769 419.944 Q145.598 416.379 145.598 409.272 Q145.598 402.143 143.769 398.601 Q141.964 395.036 138.33 395.036 M138.33 391.333 Q144.14 391.333 147.195 395.939 Q150.274 400.522 150.274 409.272 Q150.274 417.999 147.195 422.606 Q144.14 427.189 138.33 427.189 Q132.519 427.189 129.441 422.606 Q126.385 417.999 126.385 409.272 Q126.385 400.522 129.441 395.939 Q132.519 391.333 138.33 391.333 Z\" fill=\"#000000\" fill-rule=\"evenodd\" fill-opacity=\"1\" /><path clip-path=\"url(#clip630)\" d=\"M63.9319 307.141 Q60.3208 307.141 58.4921 310.706 Q56.6865 314.248 56.6865 321.378 Q56.6865 328.484 58.4921 332.049 Q60.3208 335.59 63.9319 335.59 Q67.5661 335.59 69.3717 332.049 Q71.2004 328.484 71.2004 321.378 Q71.2004 314.248 69.3717 310.706 Q67.5661 307.141 63.9319 307.141 M63.9319 303.438 Q69.742 303.438 72.7976 308.044 Q75.8763 312.628 75.8763 321.378 Q75.8763 330.104 72.7976 334.711 Q69.742 339.294 63.9319 339.294 Q58.1217 339.294 55.043 334.711 Q51.9875 330.104 51.9875 321.378 Q51.9875 312.628 55.043 308.044 Q58.1217 303.438 63.9319 303.438 Z\" fill=\"#000000\" fill-rule=\"evenodd\" fill-opacity=\"1\" /><path clip-path=\"url(#clip630)\" d=\"M84.0938 332.743 L88.978 332.743 L88.978 338.623 L84.0938 338.623 L84.0938 332.743 Z\" fill=\"#000000\" fill-rule=\"evenodd\" fill-opacity=\"1\" /><path clip-path=\"url(#clip630)\" d=\"M103.191 334.688 L119.51 334.688 L119.51 338.623 L97.566 338.623 L97.566 334.688 Q100.228 331.933 104.811 327.303 Q109.418 322.651 110.598 321.308 Q112.844 318.785 113.723 317.049 Q114.626 315.29 114.626 313.6 Q114.626 310.845 112.682 309.109 Q110.76 307.373 107.658 307.373 Q105.459 307.373 103.006 308.137 Q100.575 308.901 97.7974 310.452 L97.7974 305.729 Q100.621 304.595 103.075 304.016 Q105.529 303.438 107.566 303.438 Q112.936 303.438 116.131 306.123 Q119.325 308.808 119.325 313.299 Q119.325 315.428 118.515 317.35 Q117.728 319.248 115.621 321.84 Q115.043 322.512 111.941 325.729 Q108.839 328.924 103.191 334.688 Z\" fill=\"#000000\" fill-rule=\"evenodd\" fill-opacity=\"1\" /><path clip-path=\"url(#clip630)\" d=\"M129.371 304.063 L147.728 304.063 L147.728 307.998 L133.654 307.998 L133.654 316.47 Q134.672 316.123 135.691 315.961 Q136.709 315.776 137.728 315.776 Q143.515 315.776 146.894 318.947 Q150.274 322.118 150.274 327.535 Q150.274 333.114 146.802 336.215 Q143.33 339.294 137.01 339.294 Q134.834 339.294 132.566 338.924 Q130.32 338.553 127.913 337.813 L127.913 333.114 Q129.996 334.248 132.219 334.803 Q134.441 335.359 136.918 335.359 Q140.922 335.359 143.26 333.252 Q145.598 331.146 145.598 327.535 Q145.598 323.924 143.26 321.817 Q140.922 319.711 136.918 319.711 Q135.043 319.711 133.168 320.128 Q131.316 320.544 129.371 321.424 L129.371 304.063 Z\" fill=\"#000000\" fill-rule=\"evenodd\" fill-opacity=\"1\" /><path clip-path=\"url(#clip630)\" d=\"M62.9365 219.247 Q59.3254 219.247 57.4967 222.811 Q55.6912 226.353 55.6912 233.483 Q55.6912 240.589 57.4967 244.154 Q59.3254 247.695 62.9365 247.695 Q66.5707 247.695 68.3763 244.154 Q70.205 240.589 70.205 233.483 Q70.205 226.353 68.3763 222.811 Q66.5707 219.247 62.9365 219.247 M62.9365 215.543 Q68.7467 215.543 71.8022 220.149 Q74.8809 224.733 74.8809 233.483 Q74.8809 242.209 71.8022 246.816 Q68.7467 251.399 62.9365 251.399 Q57.1264 251.399 54.0477 246.816 Q50.9921 242.209 50.9921 233.483 Q50.9921 224.733 54.0477 220.149 Q57.1264 215.543 62.9365 215.543 Z\" fill=\"#000000\" fill-rule=\"evenodd\" fill-opacity=\"1\" /><path clip-path=\"url(#clip630)\" d=\"M83.0984 244.848 L87.9827 244.848 L87.9827 250.728 L83.0984 250.728 L83.0984 244.848 Z\" fill=\"#000000\" fill-rule=\"evenodd\" fill-opacity=\"1\" /><path clip-path=\"url(#clip630)\" d=\"M98.2141 216.168 L116.57 216.168 L116.57 220.103 L102.496 220.103 L102.496 228.575 Q103.515 228.228 104.534 228.066 Q105.552 227.881 106.571 227.881 Q112.358 227.881 115.737 231.052 Q119.117 234.223 119.117 239.64 Q119.117 245.219 115.645 248.32 Q112.172 251.399 105.853 251.399 Q103.677 251.399 101.409 251.029 Q99.1632 250.658 96.7558 249.918 L96.7558 245.219 Q98.8391 246.353 101.061 246.908 Q103.284 247.464 105.76 247.464 Q109.765 247.464 112.103 245.358 Q114.441 243.251 114.441 239.64 Q114.441 236.029 112.103 233.922 Q109.765 231.816 105.76 231.816 Q103.885 231.816 102.01 232.233 Q100.159 232.649 98.2141 233.529 L98.2141 216.168 Z\" fill=\"#000000\" fill-rule=\"evenodd\" fill-opacity=\"1\" /><path clip-path=\"url(#clip630)\" d=\"M138.33 219.247 Q134.719 219.247 132.89 222.811 Q131.084 226.353 131.084 233.483 Q131.084 240.589 132.89 244.154 Q134.719 247.695 138.33 247.695 Q141.964 247.695 143.769 244.154 Q145.598 240.589 145.598 233.483 Q145.598 226.353 143.769 222.811 Q141.964 219.247 138.33 219.247 M138.33 215.543 Q144.14 215.543 147.195 220.149 Q150.274 224.733 150.274 233.483 Q150.274 242.209 147.195 246.816 Q144.14 251.399 138.33 251.399 Q132.519 251.399 129.441 246.816 Q126.385 242.209 126.385 233.483 Q126.385 224.733 129.441 220.149 Q132.519 215.543 138.33 215.543 Z\" fill=\"#000000\" fill-rule=\"evenodd\" fill-opacity=\"1\" /><path clip-path=\"url(#clip630)\" d=\"M63.9319 131.352 Q60.3208 131.352 58.4921 134.916 Q56.6865 138.458 56.6865 145.588 Q56.6865 152.694 58.4921 156.259 Q60.3208 159.801 63.9319 159.801 Q67.5661 159.801 69.3717 156.259 Q71.2004 152.694 71.2004 145.588 Q71.2004 138.458 69.3717 134.916 Q67.5661 131.352 63.9319 131.352 M63.9319 127.648 Q69.742 127.648 72.7976 132.254 Q75.8763 136.838 75.8763 145.588 Q75.8763 154.314 72.7976 158.921 Q69.742 163.504 63.9319 163.504 Q58.1217 163.504 55.043 158.921 Q51.9875 154.314 51.9875 145.588 Q51.9875 136.838 55.043 132.254 Q58.1217 127.648 63.9319 127.648 Z\" fill=\"#000000\" fill-rule=\"evenodd\" fill-opacity=\"1\" /><path clip-path=\"url(#clip630)\" d=\"M84.0938 156.953 L88.978 156.953 L88.978 162.833 L84.0938 162.833 L84.0938 156.953 Z\" fill=\"#000000\" fill-rule=\"evenodd\" fill-opacity=\"1\" /><path clip-path=\"url(#clip630)\" d=\"M97.9826 128.273 L120.205 128.273 L120.205 130.264 L107.658 162.833 L102.774 162.833 L114.58 132.208 L97.9826 132.208 L97.9826 128.273 Z\" fill=\"#000000\" fill-rule=\"evenodd\" fill-opacity=\"1\" /><path clip-path=\"url(#clip630)\" d=\"M129.371 128.273 L147.728 128.273 L147.728 132.208 L133.654 132.208 L133.654 140.68 Q134.672 140.333 135.691 140.171 Q136.709 139.986 137.728 139.986 Q143.515 139.986 146.894 143.157 Q150.274 146.328 150.274 151.745 Q150.274 157.324 146.802 160.426 Q143.33 163.504 137.01 163.504 Q134.834 163.504 132.566 163.134 Q130.32 162.763 127.913 162.023 L127.913 157.324 Q129.996 158.458 132.219 159.014 Q134.441 159.569 136.918 159.569 Q140.922 159.569 143.26 157.463 Q145.598 155.356 145.598 151.745 Q145.598 148.134 143.26 146.027 Q140.922 143.921 136.918 143.921 Q135.043 143.921 133.168 144.338 Q131.316 144.754 129.371 145.634 L129.371 128.273 Z\" fill=\"#000000\" fill-rule=\"evenodd\" fill-opacity=\"1\" /><path clip-path=\"url(#clip630)\" d=\"M53.7467 71.0029 L61.3856 71.0029 L61.3856 44.6373 L53.0754 46.3039 L53.0754 42.0447 L61.3393 40.378 L66.0152 40.378 L66.0152 71.0029 L73.654 71.0029 L73.654 74.938 L53.7467 74.938 L53.7467 71.0029 Z\" fill=\"#000000\" fill-rule=\"evenodd\" fill-opacity=\"1\" /><path clip-path=\"url(#clip630)\" d=\"M83.0984 69.0584 L87.9827 69.0584 L87.9827 74.938 L83.0984 74.938 L83.0984 69.0584 Z\" fill=\"#000000\" fill-rule=\"evenodd\" fill-opacity=\"1\" /><path clip-path=\"url(#clip630)\" d=\"M108.168 43.4567 Q104.557 43.4567 102.728 47.0215 Q100.922 50.5631 100.922 57.6927 Q100.922 64.7992 102.728 68.364 Q104.557 71.9056 108.168 71.9056 Q111.802 71.9056 113.608 68.364 Q115.436 64.7992 115.436 57.6927 Q115.436 50.5631 113.608 47.0215 Q111.802 43.4567 108.168 43.4567 M108.168 39.753 Q113.978 39.753 117.033 44.3595 Q120.112 48.9428 120.112 57.6927 Q120.112 66.4195 117.033 71.026 Q113.978 75.6093 108.168 75.6093 Q102.358 75.6093 99.2789 71.026 Q96.2234 66.4195 96.2234 57.6927 Q96.2234 48.9428 99.2789 44.3595 Q102.358 39.753 108.168 39.753 Z\" fill=\"#000000\" fill-rule=\"evenodd\" fill-opacity=\"1\" /><path clip-path=\"url(#clip630)\" d=\"M138.33 43.4567 Q134.719 43.4567 132.89 47.0215 Q131.084 50.5631 131.084 57.6927 Q131.084 64.7992 132.89 68.364 Q134.719 71.9056 138.33 71.9056 Q141.964 71.9056 143.769 68.364 Q145.598 64.7992 145.598 57.6927 Q145.598 50.5631 143.769 47.0215 Q141.964 43.4567 138.33 43.4567 M138.33 39.753 Q144.14 39.753 147.195 44.3595 Q150.274 48.9428 150.274 57.6927 Q150.274 66.4195 147.195 71.026 Q144.14 75.6093 138.33 75.6093 Q132.519 75.6093 129.441 71.026 Q126.385 66.4195 126.385 57.6927 Q126.385 48.9428 129.441 44.3595 Q132.519 39.753 138.33 39.753 Z\" fill=\"#000000\" fill-rule=\"evenodd\" fill-opacity=\"1\" /><polyline clip-path=\"url(#clip632)\" style=\"stroke:#009af9; stroke-linecap:round; stroke-linejoin:round; stroke-width:8; stroke-opacity:1; fill:none\" stroke-dasharray=\"32, 16, 4, 16\" points=\"\n",
       "  213.627,409.238 219.563,409.238 274.452,409.238 307.437,409.238 335.326,409.238 365.621,409.238 393.551,409.238 423.494,409.238 458.187,409.238 473.602,409.238 \n",
       "  489.017,409.238 495.776,409.238 502.535,409.238 505.914,409.238 509.294,409.238 510.983,409.238 512.673,409.238 513.518,409.238 514.363,409.238 515.208,409.238 \n",
       "  516.052,409.238 516.513,409.238 516.974,409.238 517.204,409.238 517.434,409.238 517.664,57.7876 517.895,58.0542 518.125,58.321 518.355,58.588 518.586,58.8551 \n",
       "  518.816,59.1225 519.276,59.6579 519.737,60.194 521.579,62.3463 523.421,64.5107 527.106,68.8739 530.79,73.2804 538.159,82.2094 545.528,91.2699 560.354,109.781 \n",
       "  575.179,128.476 591.571,149.084 607.963,169.351 623.559,188.088 639.155,206.11 647.263,215.148 655.371,223.939 663.479,232.469 671.588,240.728 678.413,247.465 \n",
       "  685.238,254.001 692.064,260.335 698.889,266.465 707.222,273.672 715.555,280.577 723.888,287.182 732.221,293.493 739.855,299.019 747.488,304.308 755.122,309.364 \n",
       "  762.755,314.195 776.856,322.548 790.956,330.198 798.098,333.819 805.239,337.277 808.81,338.947 812.381,340.579 814.166,341.381 815.952,342.173 816.844,342.566 \n",
       "  817.737,342.957 818.63,343.345 819.523,343.731 820.023,343.946 820.523,344.161 820.773,344.268 821.023,344.375 821.273,344.481 821.524,409.238 821.774,409.238 \n",
       "  822.024,409.238 822.274,409.238 822.524,409.238 823.024,409.238 823.524,409.238 825.525,409.238 827.526,409.238 831.528,409.238 835.53,409.238 843.534,409.238 \n",
       "  851.538,409.238 866.043,409.238 880.548,409.238 913.764,409.238 944.518,409.238 974.838,409.238 1004.28,409.238 1034.45,409.238 1067.52,409.238 1115.55,409.238 \n",
       "  1125.4,409.238 \n",
       "  \"/>\n",
       "<path clip-path=\"url(#clip630)\" d=\"\n",
       "M218.49 163.342 L338.309 163.342 L338.309 59.662 L218.49 59.662  Z\n",
       "  \" fill=\"#ffffff\" fill-rule=\"evenodd\" fill-opacity=\"1\"/>\n",
       "<polyline clip-path=\"url(#clip630)\" style=\"stroke:#000000; stroke-linecap:round; stroke-linejoin:round; stroke-width:4; stroke-opacity:0; fill:none\" points=\"\n",
       "  218.49,163.342 338.309,163.342 338.309,59.662 218.49,59.662 218.49,163.342 \n",
       "  \"/>\n",
       "<polyline clip-path=\"url(#clip630)\" style=\"stroke:#009af9; stroke-linecap:round; stroke-linejoin:round; stroke-width:8; stroke-opacity:1; fill:none\" stroke-dasharray=\"32, 16, 4, 16\" points=\"\n",
       "  229.229,111.502 293.661,111.502 \n",
       "  \"/>\n",
       "<path clip-path=\"url(#clip630)\" d=\"M323.312 115.518 Q323.312 110.889 321.39 108.342 Q319.492 105.796 316.043 105.796 Q312.617 105.796 310.696 108.342 Q308.798 110.889 308.798 115.518 Q308.798 120.125 310.696 122.671 Q312.617 125.217 316.043 125.217 Q319.492 125.217 321.39 122.671 Q323.312 120.125 323.312 115.518 M327.571 125.564 Q327.571 132.185 324.631 135.402 Q321.691 138.643 315.626 138.643 Q313.381 138.643 311.39 138.296 Q309.4 137.972 307.525 137.277 L307.525 133.134 Q309.4 134.152 311.228 134.638 Q313.057 135.125 314.955 135.125 Q319.145 135.125 321.228 132.925 Q323.312 130.75 323.312 126.328 L323.312 124.222 Q321.992 126.513 319.932 127.648 Q317.872 128.782 315.001 128.782 Q310.233 128.782 307.316 125.148 Q304.4 121.514 304.4 115.518 Q304.4 109.5 307.316 105.865 Q310.233 102.231 315.001 102.231 Q317.872 102.231 319.932 103.365 Q321.992 104.5 323.312 106.791 L323.312 102.856 L327.571 102.856 L327.571 125.564 Z\" fill=\"#000000\" fill-rule=\"evenodd\" fill-opacity=\"1\" /><path clip-path=\"url(#clip630)\" d=\"\n",
       "M1386.27 419.781 L2352.76 419.781 L2352.76 47.2441 L1386.27 47.2441  Z\n",
       "  \" fill=\"#ffffff\" fill-rule=\"evenodd\" fill-opacity=\"1\"/>\n",
       "<defs>\n",
       "  <clipPath id=\"clip633\">\n",
       "    <rect x=\"1386\" y=\"47\" width=\"967\" height=\"374\"/>\n",
       "  </clipPath>\n",
       "</defs>\n",
       "<polyline clip-path=\"url(#clip633)\" style=\"stroke:#000000; stroke-linecap:round; stroke-linejoin:round; stroke-width:2; stroke-opacity:0.1; fill:none\" points=\"\n",
       "  1504.8,419.781 1504.8,47.2441 \n",
       "  \"/>\n",
       "<polyline clip-path=\"url(#clip633)\" style=\"stroke:#000000; stroke-linecap:round; stroke-linejoin:round; stroke-width:2; stroke-opacity:0.1; fill:none\" points=\"\n",
       "  1687.16,419.781 1687.16,47.2441 \n",
       "  \"/>\n",
       "<polyline clip-path=\"url(#clip633)\" style=\"stroke:#000000; stroke-linecap:round; stroke-linejoin:round; stroke-width:2; stroke-opacity:0.1; fill:none\" points=\"\n",
       "  1869.51,419.781 1869.51,47.2441 \n",
       "  \"/>\n",
       "<polyline clip-path=\"url(#clip633)\" style=\"stroke:#000000; stroke-linecap:round; stroke-linejoin:round; stroke-width:2; stroke-opacity:0.1; fill:none\" points=\"\n",
       "  2051.87,419.781 2051.87,47.2441 \n",
       "  \"/>\n",
       "<polyline clip-path=\"url(#clip633)\" style=\"stroke:#000000; stroke-linecap:round; stroke-linejoin:round; stroke-width:2; stroke-opacity:0.1; fill:none\" points=\"\n",
       "  2234.23,419.781 2234.23,47.2441 \n",
       "  \"/>\n",
       "<polyline clip-path=\"url(#clip630)\" style=\"stroke:#000000; stroke-linecap:round; stroke-linejoin:round; stroke-width:4; stroke-opacity:1; fill:none\" points=\"\n",
       "  1386.27,419.781 2352.76,419.781 \n",
       "  \"/>\n",
       "<polyline clip-path=\"url(#clip630)\" style=\"stroke:#000000; stroke-linecap:round; stroke-linejoin:round; stroke-width:4; stroke-opacity:1; fill:none\" points=\"\n",
       "  1504.8,419.781 1504.8,400.884 \n",
       "  \"/>\n",
       "<polyline clip-path=\"url(#clip630)\" style=\"stroke:#000000; stroke-linecap:round; stroke-linejoin:round; stroke-width:4; stroke-opacity:1; fill:none\" points=\"\n",
       "  1687.16,419.781 1687.16,400.884 \n",
       "  \"/>\n",
       "<polyline clip-path=\"url(#clip630)\" style=\"stroke:#000000; stroke-linecap:round; stroke-linejoin:round; stroke-width:4; stroke-opacity:1; fill:none\" points=\"\n",
       "  1869.51,419.781 1869.51,400.884 \n",
       "  \"/>\n",
       "<polyline clip-path=\"url(#clip630)\" style=\"stroke:#000000; stroke-linecap:round; stroke-linejoin:round; stroke-width:4; stroke-opacity:1; fill:none\" points=\"\n",
       "  2051.87,419.781 2051.87,400.884 \n",
       "  \"/>\n",
       "<polyline clip-path=\"url(#clip630)\" style=\"stroke:#000000; stroke-linecap:round; stroke-linejoin:round; stroke-width:4; stroke-opacity:1; fill:none\" points=\"\n",
       "  2234.23,419.781 2234.23,400.884 \n",
       "  \"/>\n",
       "<path clip-path=\"url(#clip630)\" d=\"M1473.71 465.353 L1503.38 465.353 L1503.38 469.288 L1473.71 469.288 L1473.71 465.353 Z\" fill=\"#000000\" fill-rule=\"evenodd\" fill-opacity=\"1\" /><path clip-path=\"url(#clip630)\" d=\"M1526.32 451.695 L1514.52 470.144 L1526.32 470.144 L1526.32 451.695 M1525.09 447.621 L1530.97 447.621 L1530.97 470.144 L1535.9 470.144 L1535.9 474.033 L1530.97 474.033 L1530.97 482.181 L1526.32 482.181 L1526.32 474.033 L1510.72 474.033 L1510.72 469.519 L1525.09 447.621 Z\" fill=\"#000000\" fill-rule=\"evenodd\" fill-opacity=\"1\" /><path clip-path=\"url(#clip630)\" d=\"M1657.1 465.353 L1686.78 465.353 L1686.78 469.288 L1657.1 469.288 L1657.1 465.353 Z\" fill=\"#000000\" fill-rule=\"evenodd\" fill-opacity=\"1\" /><path clip-path=\"url(#clip630)\" d=\"M1700.9 478.246 L1717.22 478.246 L1717.22 482.181 L1695.27 482.181 L1695.27 478.246 Q1697.94 475.491 1702.52 470.862 Q1707.13 466.209 1708.31 464.866 Q1710.55 462.343 1711.43 460.607 Q1712.33 458.848 1712.33 457.158 Q1712.33 454.404 1710.39 452.667 Q1708.47 450.931 1705.37 450.931 Q1703.17 450.931 1700.71 451.695 Q1698.28 452.459 1695.5 454.01 L1695.5 449.288 Q1698.33 448.154 1700.78 447.575 Q1703.24 446.996 1705.27 446.996 Q1710.64 446.996 1713.84 449.681 Q1717.03 452.367 1717.03 456.857 Q1717.03 458.987 1716.22 460.908 Q1715.44 462.806 1713.33 465.399 Q1712.75 466.07 1709.65 469.288 Q1706.55 472.482 1700.9 478.246 Z\" fill=\"#000000\" fill-rule=\"evenodd\" fill-opacity=\"1\" /><path clip-path=\"url(#clip630)\" d=\"M1869.51 450.7 Q1865.9 450.7 1864.08 454.265 Q1862.27 457.806 1862.27 464.936 Q1862.27 472.042 1864.08 475.607 Q1865.9 479.149 1869.51 479.149 Q1873.15 479.149 1874.95 475.607 Q1876.78 472.042 1876.78 464.936 Q1876.78 457.806 1874.95 454.265 Q1873.15 450.7 1869.51 450.7 M1869.51 446.996 Q1875.33 446.996 1878.38 451.603 Q1881.46 456.186 1881.46 464.936 Q1881.46 473.663 1878.38 478.269 Q1875.33 482.853 1869.51 482.853 Q1863.7 482.853 1860.63 478.269 Q1857.57 473.663 1857.57 464.936 Q1857.57 456.186 1860.63 451.603 Q1863.7 446.996 1869.51 446.996 Z\" fill=\"#000000\" fill-rule=\"evenodd\" fill-opacity=\"1\" /><path clip-path=\"url(#clip630)\" d=\"M2046.52 478.246 L2062.84 478.246 L2062.84 482.181 L2040.9 482.181 L2040.9 478.246 Q2043.56 475.491 2048.14 470.862 Q2052.75 466.209 2053.93 464.866 Q2056.18 462.343 2057.06 460.607 Q2057.96 458.848 2057.96 457.158 Q2057.96 454.404 2056.01 452.667 Q2054.09 450.931 2050.99 450.931 Q2048.79 450.931 2046.34 451.695 Q2043.91 452.459 2041.13 454.01 L2041.13 449.288 Q2043.95 448.154 2046.41 447.575 Q2048.86 446.996 2050.9 446.996 Q2056.27 446.996 2059.46 449.681 Q2062.66 452.367 2062.66 456.857 Q2062.66 458.987 2061.85 460.908 Q2061.06 462.806 2058.95 465.399 Q2058.37 466.07 2055.27 469.288 Q2052.17 472.482 2046.52 478.246 Z\" fill=\"#000000\" fill-rule=\"evenodd\" fill-opacity=\"1\" /><path clip-path=\"url(#clip630)\" d=\"M2237.23 451.695 L2225.43 470.144 L2237.23 470.144 L2237.23 451.695 M2236.01 447.621 L2241.89 447.621 L2241.89 470.144 L2246.82 470.144 L2246.82 474.033 L2241.89 474.033 L2241.89 482.181 L2237.23 482.181 L2237.23 474.033 L2221.63 474.033 L2221.63 469.519 L2236.01 447.621 Z\" fill=\"#000000\" fill-rule=\"evenodd\" fill-opacity=\"1\" /><polyline clip-path=\"url(#clip633)\" style=\"stroke:#000000; stroke-linecap:round; stroke-linejoin:round; stroke-width:2; stroke-opacity:0.1; fill:none\" points=\"\n",
       "  1386.27,409.238 2352.76,409.238 \n",
       "  \"/>\n",
       "<polyline clip-path=\"url(#clip633)\" style=\"stroke:#000000; stroke-linecap:round; stroke-linejoin:round; stroke-width:2; stroke-opacity:0.1; fill:none\" points=\"\n",
       "  1386.27,321.375 2352.76,321.375 \n",
       "  \"/>\n",
       "<polyline clip-path=\"url(#clip633)\" style=\"stroke:#000000; stroke-linecap:round; stroke-linejoin:round; stroke-width:2; stroke-opacity:0.1; fill:none\" points=\"\n",
       "  1386.27,233.513 2352.76,233.513 \n",
       "  \"/>\n",
       "<polyline clip-path=\"url(#clip633)\" style=\"stroke:#000000; stroke-linecap:round; stroke-linejoin:round; stroke-width:2; stroke-opacity:0.1; fill:none\" points=\"\n",
       "  1386.27,145.65 2352.76,145.65 \n",
       "  \"/>\n",
       "<polyline clip-path=\"url(#clip633)\" style=\"stroke:#000000; stroke-linecap:round; stroke-linejoin:round; stroke-width:2; stroke-opacity:0.1; fill:none\" points=\"\n",
       "  1386.27,57.7876 2352.76,57.7876 \n",
       "  \"/>\n",
       "<polyline clip-path=\"url(#clip630)\" style=\"stroke:#000000; stroke-linecap:round; stroke-linejoin:round; stroke-width:4; stroke-opacity:1; fill:none\" points=\"\n",
       "  1386.27,419.781 1386.27,47.2441 \n",
       "  \"/>\n",
       "<polyline clip-path=\"url(#clip630)\" style=\"stroke:#000000; stroke-linecap:round; stroke-linejoin:round; stroke-width:4; stroke-opacity:1; fill:none\" points=\"\n",
       "  1386.27,409.238 1405.17,409.238 \n",
       "  \"/>\n",
       "<polyline clip-path=\"url(#clip630)\" style=\"stroke:#000000; stroke-linecap:round; stroke-linejoin:round; stroke-width:4; stroke-opacity:1; fill:none\" points=\"\n",
       "  1386.27,321.375 1405.17,321.375 \n",
       "  \"/>\n",
       "<polyline clip-path=\"url(#clip630)\" style=\"stroke:#000000; stroke-linecap:round; stroke-linejoin:round; stroke-width:4; stroke-opacity:1; fill:none\" points=\"\n",
       "  1386.27,233.513 1405.17,233.513 \n",
       "  \"/>\n",
       "<polyline clip-path=\"url(#clip630)\" style=\"stroke:#000000; stroke-linecap:round; stroke-linejoin:round; stroke-width:4; stroke-opacity:1; fill:none\" points=\"\n",
       "  1386.27,145.65 1405.17,145.65 \n",
       "  \"/>\n",
       "<polyline clip-path=\"url(#clip630)\" style=\"stroke:#000000; stroke-linecap:round; stroke-linejoin:round; stroke-width:4; stroke-opacity:1; fill:none\" points=\"\n",
       "  1386.27,57.7876 1405.17,57.7876 \n",
       "  \"/>\n",
       "<path clip-path=\"url(#clip630)\" d=\"M1262.94 395.036 Q1259.33 395.036 1257.5 398.601 Q1255.69 402.143 1255.69 409.272 Q1255.69 416.379 1257.5 419.944 Q1259.33 423.485 1262.94 423.485 Q1266.57 423.485 1268.38 419.944 Q1270.2 416.379 1270.2 409.272 Q1270.2 402.143 1268.38 398.601 Q1266.57 395.036 1262.94 395.036 M1262.94 391.333 Q1268.75 391.333 1271.8 395.939 Q1274.88 400.522 1274.88 409.272 Q1274.88 417.999 1271.8 422.606 Q1268.75 427.189 1262.94 427.189 Q1257.13 427.189 1254.05 422.606 Q1250.99 417.999 1250.99 409.272 Q1250.99 400.522 1254.05 395.939 Q1257.13 391.333 1262.94 391.333 Z\" fill=\"#000000\" fill-rule=\"evenodd\" fill-opacity=\"1\" /><path clip-path=\"url(#clip630)\" d=\"M1283.1 420.638 L1287.98 420.638 L1287.98 426.518 L1283.1 426.518 L1283.1 420.638 Z\" fill=\"#000000\" fill-rule=\"evenodd\" fill-opacity=\"1\" /><path clip-path=\"url(#clip630)\" d=\"M1308.17 395.036 Q1304.56 395.036 1302.73 398.601 Q1300.92 402.143 1300.92 409.272 Q1300.92 416.379 1302.73 419.944 Q1304.56 423.485 1308.17 423.485 Q1311.8 423.485 1313.61 419.944 Q1315.44 416.379 1315.44 409.272 Q1315.44 402.143 1313.61 398.601 Q1311.8 395.036 1308.17 395.036 M1308.17 391.333 Q1313.98 391.333 1317.03 395.939 Q1320.11 400.522 1320.11 409.272 Q1320.11 417.999 1317.03 422.606 Q1313.98 427.189 1308.17 427.189 Q1302.36 427.189 1299.28 422.606 Q1296.22 417.999 1296.22 409.272 Q1296.22 400.522 1299.28 395.939 Q1302.36 391.333 1308.17 391.333 Z\" fill=\"#000000\" fill-rule=\"evenodd\" fill-opacity=\"1\" /><path clip-path=\"url(#clip630)\" d=\"M1338.33 395.036 Q1334.72 395.036 1332.89 398.601 Q1331.08 402.143 1331.08 409.272 Q1331.08 416.379 1332.89 419.944 Q1334.72 423.485 1338.33 423.485 Q1341.96 423.485 1343.77 419.944 Q1345.6 416.379 1345.6 409.272 Q1345.6 402.143 1343.77 398.601 Q1341.96 395.036 1338.33 395.036 M1338.33 391.333 Q1344.14 391.333 1347.2 395.939 Q1350.27 400.522 1350.27 409.272 Q1350.27 417.999 1347.2 422.606 Q1344.14 427.189 1338.33 427.189 Q1332.52 427.189 1329.44 422.606 Q1326.39 417.999 1326.39 409.272 Q1326.39 400.522 1329.44 395.939 Q1332.52 391.333 1338.33 391.333 Z\" fill=\"#000000\" fill-rule=\"evenodd\" fill-opacity=\"1\" /><path clip-path=\"url(#clip630)\" d=\"M1263.93 307.174 Q1260.32 307.174 1258.49 310.739 Q1256.69 314.28 1256.69 321.41 Q1256.69 328.516 1258.49 332.081 Q1260.32 335.623 1263.93 335.623 Q1267.57 335.623 1269.37 332.081 Q1271.2 328.516 1271.2 321.41 Q1271.2 314.28 1269.37 310.739 Q1267.57 307.174 1263.93 307.174 M1263.93 303.47 Q1269.74 303.47 1272.8 308.077 Q1275.88 312.66 1275.88 321.41 Q1275.88 330.137 1272.8 334.743 Q1269.74 339.326 1263.93 339.326 Q1258.12 339.326 1255.04 334.743 Q1251.99 330.137 1251.99 321.41 Q1251.99 312.66 1255.04 308.077 Q1258.12 303.47 1263.93 303.47 Z\" fill=\"#000000\" fill-rule=\"evenodd\" fill-opacity=\"1\" /><path clip-path=\"url(#clip630)\" d=\"M1284.09 332.776 L1288.98 332.776 L1288.98 338.655 L1284.09 338.655 L1284.09 332.776 Z\" fill=\"#000000\" fill-rule=\"evenodd\" fill-opacity=\"1\" /><path clip-path=\"url(#clip630)\" d=\"M1303.19 334.72 L1319.51 334.72 L1319.51 338.655 L1297.57 338.655 L1297.57 334.72 Q1300.23 331.965 1304.81 327.336 Q1309.42 322.683 1310.6 321.34 Q1312.84 318.817 1313.72 317.081 Q1314.63 315.322 1314.63 313.632 Q1314.63 310.878 1312.68 309.141 Q1310.76 307.405 1307.66 307.405 Q1305.46 307.405 1303.01 308.169 Q1300.58 308.933 1297.8 310.484 L1297.8 305.762 Q1300.62 304.628 1303.08 304.049 Q1305.53 303.47 1307.57 303.47 Q1312.94 303.47 1316.13 306.155 Q1319.33 308.841 1319.33 313.331 Q1319.33 315.461 1318.51 317.382 Q1317.73 319.28 1315.62 321.873 Q1315.04 322.544 1311.94 325.762 Q1308.84 328.956 1303.19 334.72 Z\" fill=\"#000000\" fill-rule=\"evenodd\" fill-opacity=\"1\" /><path clip-path=\"url(#clip630)\" d=\"M1329.37 304.095 L1347.73 304.095 L1347.73 308.03 L1333.65 308.03 L1333.65 316.503 Q1334.67 316.155 1335.69 315.993 Q1336.71 315.808 1337.73 315.808 Q1343.51 315.808 1346.89 318.979 Q1350.27 322.151 1350.27 327.567 Q1350.27 333.146 1346.8 336.248 Q1343.33 339.326 1337.01 339.326 Q1334.83 339.326 1332.57 338.956 Q1330.32 338.586 1327.91 337.845 L1327.91 333.146 Q1330 334.28 1332.22 334.836 Q1334.44 335.391 1336.92 335.391 Q1340.92 335.391 1343.26 333.285 Q1345.6 331.178 1345.6 327.567 Q1345.6 323.956 1343.26 321.85 Q1340.92 319.743 1336.92 319.743 Q1335.04 319.743 1333.17 320.16 Q1331.32 320.577 1329.37 321.456 L1329.37 304.095 Z\" fill=\"#000000\" fill-rule=\"evenodd\" fill-opacity=\"1\" /><path clip-path=\"url(#clip630)\" d=\"M1262.94 219.311 Q1259.33 219.311 1257.5 222.876 Q1255.69 226.418 1255.69 233.547 Q1255.69 240.654 1257.5 244.219 Q1259.33 247.76 1262.94 247.76 Q1266.57 247.76 1268.38 244.219 Q1270.2 240.654 1270.2 233.547 Q1270.2 226.418 1268.38 222.876 Q1266.57 219.311 1262.94 219.311 M1262.94 215.608 Q1268.75 215.608 1271.8 220.214 Q1274.88 224.797 1274.88 233.547 Q1274.88 242.274 1271.8 246.881 Q1268.75 251.464 1262.94 251.464 Q1257.13 251.464 1254.05 246.881 Q1250.99 242.274 1250.99 233.547 Q1250.99 224.797 1254.05 220.214 Q1257.13 215.608 1262.94 215.608 Z\" fill=\"#000000\" fill-rule=\"evenodd\" fill-opacity=\"1\" /><path clip-path=\"url(#clip630)\" d=\"M1283.1 244.913 L1287.98 244.913 L1287.98 250.793 L1283.1 250.793 L1283.1 244.913 Z\" fill=\"#000000\" fill-rule=\"evenodd\" fill-opacity=\"1\" /><path clip-path=\"url(#clip630)\" d=\"M1298.21 216.233 L1316.57 216.233 L1316.57 220.168 L1302.5 220.168 L1302.5 228.64 Q1303.51 228.293 1304.53 228.131 Q1305.55 227.946 1306.57 227.946 Q1312.36 227.946 1315.74 231.117 Q1319.12 234.288 1319.12 239.705 Q1319.12 245.283 1315.64 248.385 Q1312.17 251.464 1305.85 251.464 Q1303.68 251.464 1301.41 251.094 Q1299.16 250.723 1296.76 249.982 L1296.76 245.283 Q1298.84 246.418 1301.06 246.973 Q1303.28 247.529 1305.76 247.529 Q1309.76 247.529 1312.1 245.422 Q1314.44 243.316 1314.44 239.705 Q1314.44 236.094 1312.1 233.987 Q1309.76 231.881 1305.76 231.881 Q1303.89 231.881 1302.01 232.297 Q1300.16 232.714 1298.21 233.594 L1298.21 216.233 Z\" fill=\"#000000\" fill-rule=\"evenodd\" fill-opacity=\"1\" /><path clip-path=\"url(#clip630)\" d=\"M1338.33 219.311 Q1334.72 219.311 1332.89 222.876 Q1331.08 226.418 1331.08 233.547 Q1331.08 240.654 1332.89 244.219 Q1334.72 247.76 1338.33 247.76 Q1341.96 247.76 1343.77 244.219 Q1345.6 240.654 1345.6 233.547 Q1345.6 226.418 1343.77 222.876 Q1341.96 219.311 1338.33 219.311 M1338.33 215.608 Q1344.14 215.608 1347.2 220.214 Q1350.27 224.797 1350.27 233.547 Q1350.27 242.274 1347.2 246.881 Q1344.14 251.464 1338.33 251.464 Q1332.52 251.464 1329.44 246.881 Q1326.39 242.274 1326.39 233.547 Q1326.39 224.797 1329.44 220.214 Q1332.52 215.608 1338.33 215.608 Z\" fill=\"#000000\" fill-rule=\"evenodd\" fill-opacity=\"1\" /><path clip-path=\"url(#clip630)\" d=\"M1263.93 131.449 Q1260.32 131.449 1258.49 135.014 Q1256.69 138.555 1256.69 145.685 Q1256.69 152.791 1258.49 156.356 Q1260.32 159.898 1263.93 159.898 Q1267.57 159.898 1269.37 156.356 Q1271.2 152.791 1271.2 145.685 Q1271.2 138.555 1269.37 135.014 Q1267.57 131.449 1263.93 131.449 M1263.93 127.745 Q1269.74 127.745 1272.8 132.352 Q1275.88 136.935 1275.88 145.685 Q1275.88 154.412 1272.8 159.018 Q1269.74 163.601 1263.93 163.601 Q1258.12 163.601 1255.04 159.018 Q1251.99 154.412 1251.99 145.685 Q1251.99 136.935 1255.04 132.352 Q1258.12 127.745 1263.93 127.745 Z\" fill=\"#000000\" fill-rule=\"evenodd\" fill-opacity=\"1\" /><path clip-path=\"url(#clip630)\" d=\"M1284.09 157.051 L1288.98 157.051 L1288.98 162.93 L1284.09 162.93 L1284.09 157.051 Z\" fill=\"#000000\" fill-rule=\"evenodd\" fill-opacity=\"1\" /><path clip-path=\"url(#clip630)\" d=\"M1297.98 128.37 L1320.2 128.37 L1320.2 130.361 L1307.66 162.93 L1302.77 162.93 L1314.58 132.305 L1297.98 132.305 L1297.98 128.37 Z\" fill=\"#000000\" fill-rule=\"evenodd\" fill-opacity=\"1\" /><path clip-path=\"url(#clip630)\" d=\"M1329.37 128.37 L1347.73 128.37 L1347.73 132.305 L1333.65 132.305 L1333.65 140.777 Q1334.67 140.43 1335.69 140.268 Q1336.71 140.083 1337.73 140.083 Q1343.51 140.083 1346.89 143.254 Q1350.27 146.426 1350.27 151.842 Q1350.27 157.421 1346.8 160.523 Q1343.33 163.601 1337.01 163.601 Q1334.83 163.601 1332.57 163.231 Q1330.32 162.861 1327.91 162.12 L1327.91 157.421 Q1330 158.555 1332.22 159.111 Q1334.44 159.666 1336.92 159.666 Q1340.92 159.666 1343.26 157.56 Q1345.6 155.453 1345.6 151.842 Q1345.6 148.231 1343.26 146.125 Q1340.92 144.018 1336.92 144.018 Q1335.04 144.018 1333.17 144.435 Q1331.32 144.852 1329.37 145.731 L1329.37 128.37 Z\" fill=\"#000000\" fill-rule=\"evenodd\" fill-opacity=\"1\" /><path clip-path=\"url(#clip630)\" d=\"M1253.75 71.1324 L1261.39 71.1324 L1261.39 44.7668 L1253.08 46.4335 L1253.08 42.1743 L1261.34 40.5076 L1266.02 40.5076 L1266.02 71.1324 L1273.65 71.1324 L1273.65 75.0676 L1253.75 75.0676 L1253.75 71.1324 Z\" fill=\"#000000\" fill-rule=\"evenodd\" fill-opacity=\"1\" /><path clip-path=\"url(#clip630)\" d=\"M1283.1 69.188 L1287.98 69.188 L1287.98 75.0676 L1283.1 75.0676 L1283.1 69.188 Z\" fill=\"#000000\" fill-rule=\"evenodd\" fill-opacity=\"1\" /><path clip-path=\"url(#clip630)\" d=\"M1308.17 43.5863 Q1304.56 43.5863 1302.73 47.1511 Q1300.92 50.6927 1300.92 57.8223 Q1300.92 64.9288 1302.73 68.4936 Q1304.56 72.0352 1308.17 72.0352 Q1311.8 72.0352 1313.61 68.4936 Q1315.44 64.9288 1315.44 57.8223 Q1315.44 50.6927 1313.61 47.1511 Q1311.8 43.5863 1308.17 43.5863 M1308.17 39.8826 Q1313.98 39.8826 1317.03 44.4891 Q1320.11 49.0724 1320.11 57.8223 Q1320.11 66.5491 1317.03 71.1556 Q1313.98 75.7389 1308.17 75.7389 Q1302.36 75.7389 1299.28 71.1556 Q1296.22 66.5491 1296.22 57.8223 Q1296.22 49.0724 1299.28 44.4891 Q1302.36 39.8826 1308.17 39.8826 Z\" fill=\"#000000\" fill-rule=\"evenodd\" fill-opacity=\"1\" /><path clip-path=\"url(#clip630)\" d=\"M1338.33 43.5863 Q1334.72 43.5863 1332.89 47.1511 Q1331.08 50.6927 1331.08 57.8223 Q1331.08 64.9288 1332.89 68.4936 Q1334.72 72.0352 1338.33 72.0352 Q1341.96 72.0352 1343.77 68.4936 Q1345.6 64.9288 1345.6 57.8223 Q1345.6 50.6927 1343.77 47.1511 Q1341.96 43.5863 1338.33 43.5863 M1338.33 39.8826 Q1344.14 39.8826 1347.2 44.4891 Q1350.27 49.0724 1350.27 57.8223 Q1350.27 66.5491 1347.2 71.1556 Q1344.14 75.7389 1338.33 75.7389 Q1332.52 75.7389 1329.44 71.1556 Q1326.39 66.5491 1326.39 57.8223 Q1326.39 49.0724 1329.44 44.4891 Q1332.52 39.8826 1338.33 39.8826 Z\" fill=\"#000000\" fill-rule=\"evenodd\" fill-opacity=\"1\" /><polyline clip-path=\"url(#clip633)\" style=\"stroke:#e26f46; stroke-linecap:round; stroke-linejoin:round; stroke-width:8; stroke-opacity:1; fill:none\" stroke-dasharray=\"32, 16, 4, 16, 4, 16\" points=\"\n",
       "  1413.63,409.238 1419.56,409.238 1474.45,409.238 1507.44,409.238 1535.33,409.238 1565.62,409.238 1593.55,409.238 1623.49,409.238 1658.19,409.238 1689.02,409.238 \n",
       "  1716.05,409.238 1745.53,409.238 1775.18,409.238 1791.57,409.238 1807.96,409.238 1823.56,409.238 1839.15,409.238 1847.26,409.238 1855.37,409.238 1859.43,409.238 \n",
       "  1863.48,409.238 1864.49,409.238 1865.51,409.238 1866.52,409.238 1867.53,409.238 1868.04,409.238 1868.55,409.238 1868.8,409.238 1869.05,409.238 1869.31,409.238 \n",
       "  1869.56,57.7876 1869.81,57.7876 1870.07,57.7876 1870.32,57.7876 1870.57,57.7876 1871.08,57.7876 1871.59,57.7876 1873.29,57.7876 1875,57.7876 1876.71,57.7876 \n",
       "  1878.41,57.7876 1881.83,57.7876 1885.24,57.7876 1892.06,57.7876 1898.89,57.7876 1915.56,57.7876 1932.22,57.7876 1939.85,57.7876 1947.49,57.7876 1951.31,57.7876 \n",
       "  1955.12,57.7876 1956.08,57.7876 1957.03,57.7876 1957.98,57.7876 1958.94,57.7876 1959.42,57.7876 1959.89,57.7876 1960.13,57.7876 1960.37,57.7876 1960.61,57.7876 \n",
       "  1960.85,409.238 1961.09,409.238 1961.32,409.238 1961.56,409.238 1961.8,409.238 1962.28,409.238 1962.76,409.238 1964.52,409.238 1966.28,409.238 1968.04,409.238 \n",
       "  1969.81,409.238 1973.33,409.238 1976.86,409.238 1983.91,409.238 1990.96,409.238 2005.24,409.238 2019.52,409.238 2051.54,409.238 2080.55,409.238 2113.76,409.238 \n",
       "  2144.52,409.238 2174.84,409.238 2204.28,409.238 2234.45,409.238 2267.52,409.238 2315.55,409.238 2325.4,409.238 \n",
       "  \"/>\n",
       "<path clip-path=\"url(#clip630)\" d=\"\n",
       "M1418.49 163.342 L1557.75 163.342 L1557.75 59.662 L1418.49 59.662  Z\n",
       "  \" fill=\"#ffffff\" fill-rule=\"evenodd\" fill-opacity=\"1\"/>\n",
       "<polyline clip-path=\"url(#clip630)\" style=\"stroke:#000000; stroke-linecap:round; stroke-linejoin:round; stroke-width:4; stroke-opacity:0; fill:none\" points=\"\n",
       "  1418.49,163.342 1557.75,163.342 1557.75,59.662 1418.49,59.662 1418.49,163.342 \n",
       "  \"/>\n",
       "<polyline clip-path=\"url(#clip630)\" style=\"stroke:#e26f46; stroke-linecap:round; stroke-linejoin:round; stroke-width:8; stroke-opacity:1; fill:none\" stroke-dasharray=\"32, 16, 4, 16, 4, 16\" points=\"\n",
       "  1429.23,111.502 1493.66,111.502 \n",
       "  \"/>\n",
       "<path clip-path=\"url(#clip630)\" d=\"M1520.9 92.7637 L1520.9 96.3053 L1516.83 96.3053 Q1514.54 96.3053 1513.64 97.2312 Q1512.76 98.1572 1512.76 100.565 L1512.76 102.856 L1519.77 102.856 L1519.77 106.166 L1512.76 106.166 L1512.76 128.782 L1508.47 128.782 L1508.47 106.166 L1504.4 106.166 L1504.4 102.856 L1508.47 102.856 L1508.47 101.051 Q1508.47 96.722 1510.49 94.7544 Q1512.5 92.7637 1516.88 92.7637 L1520.9 92.7637 Z\" fill=\"#000000\" fill-rule=\"evenodd\" fill-opacity=\"1\" /><path clip-path=\"url(#clip630)\" d=\"M1535.07 97.3007 Q1531.46 97.3007 1529.63 100.865 Q1527.83 104.407 1527.83 111.537 Q1527.83 118.643 1529.63 122.208 Q1531.46 125.75 1535.07 125.75 Q1538.7 125.75 1540.51 122.208 Q1542.34 118.643 1542.34 111.537 Q1542.34 104.407 1540.51 100.865 Q1538.7 97.3007 1535.07 97.3007 M1535.07 93.597 Q1540.88 93.597 1543.94 98.2035 Q1547.02 102.787 1547.02 111.537 Q1547.02 120.264 1543.94 124.87 Q1540.88 129.453 1535.07 129.453 Q1529.26 129.453 1526.18 124.87 Q1523.13 120.264 1523.13 111.537 Q1523.13 102.787 1526.18 98.2035 Q1529.26 93.597 1535.07 93.597 Z\" fill=\"#000000\" fill-rule=\"evenodd\" fill-opacity=\"1\" /><path clip-path=\"url(#clip630)\" d=\"\n",
       "M186.274 953.115 L1152.76 953.115 L1152.76 580.577 L186.274 580.577  Z\n",
       "  \" fill=\"#ffffff\" fill-rule=\"evenodd\" fill-opacity=\"1\"/>\n",
       "<defs>\n",
       "  <clipPath id=\"clip634\">\n",
       "    <rect x=\"186\" y=\"580\" width=\"967\" height=\"374\"/>\n",
       "  </clipPath>\n",
       "</defs>\n",
       "<polyline clip-path=\"url(#clip634)\" style=\"stroke:#000000; stroke-linecap:round; stroke-linejoin:round; stroke-width:2; stroke-opacity:0.1; fill:none\" points=\"\n",
       "  304.805,953.115 304.805,580.577 \n",
       "  \"/>\n",
       "<polyline clip-path=\"url(#clip634)\" style=\"stroke:#000000; stroke-linecap:round; stroke-linejoin:round; stroke-width:2; stroke-opacity:0.1; fill:none\" points=\"\n",
       "  487.16,953.115 487.16,580.577 \n",
       "  \"/>\n",
       "<polyline clip-path=\"url(#clip634)\" style=\"stroke:#000000; stroke-linecap:round; stroke-linejoin:round; stroke-width:2; stroke-opacity:0.1; fill:none\" points=\"\n",
       "  669.515,953.115 669.515,580.577 \n",
       "  \"/>\n",
       "<polyline clip-path=\"url(#clip634)\" style=\"stroke:#000000; stroke-linecap:round; stroke-linejoin:round; stroke-width:2; stroke-opacity:0.1; fill:none\" points=\"\n",
       "  851.87,953.115 851.87,580.577 \n",
       "  \"/>\n",
       "<polyline clip-path=\"url(#clip634)\" style=\"stroke:#000000; stroke-linecap:round; stroke-linejoin:round; stroke-width:2; stroke-opacity:0.1; fill:none\" points=\"\n",
       "  1034.23,953.115 1034.23,580.577 \n",
       "  \"/>\n",
       "<polyline clip-path=\"url(#clip630)\" style=\"stroke:#000000; stroke-linecap:round; stroke-linejoin:round; stroke-width:4; stroke-opacity:1; fill:none\" points=\"\n",
       "  186.274,953.115 1152.76,953.115 \n",
       "  \"/>\n",
       "<polyline clip-path=\"url(#clip630)\" style=\"stroke:#000000; stroke-linecap:round; stroke-linejoin:round; stroke-width:4; stroke-opacity:1; fill:none\" points=\"\n",
       "  304.805,953.115 304.805,934.217 \n",
       "  \"/>\n",
       "<polyline clip-path=\"url(#clip630)\" style=\"stroke:#000000; stroke-linecap:round; stroke-linejoin:round; stroke-width:4; stroke-opacity:1; fill:none\" points=\"\n",
       "  487.16,953.115 487.16,934.217 \n",
       "  \"/>\n",
       "<polyline clip-path=\"url(#clip630)\" style=\"stroke:#000000; stroke-linecap:round; stroke-linejoin:round; stroke-width:4; stroke-opacity:1; fill:none\" points=\"\n",
       "  669.515,953.115 669.515,934.217 \n",
       "  \"/>\n",
       "<polyline clip-path=\"url(#clip630)\" style=\"stroke:#000000; stroke-linecap:round; stroke-linejoin:round; stroke-width:4; stroke-opacity:1; fill:none\" points=\"\n",
       "  851.87,953.115 851.87,934.217 \n",
       "  \"/>\n",
       "<polyline clip-path=\"url(#clip630)\" style=\"stroke:#000000; stroke-linecap:round; stroke-linejoin:round; stroke-width:4; stroke-opacity:1; fill:none\" points=\"\n",
       "  1034.23,953.115 1034.23,934.217 \n",
       "  \"/>\n",
       "<path clip-path=\"url(#clip630)\" d=\"M273.705 998.686 L303.381 998.686 L303.381 1002.62 L273.705 1002.62 L273.705 998.686 Z\" fill=\"#000000\" fill-rule=\"evenodd\" fill-opacity=\"1\" /><path clip-path=\"url(#clip630)\" d=\"M326.321 985.029 L314.515 1003.48 L326.321 1003.48 L326.321 985.029 M325.094 980.955 L330.974 980.955 L330.974 1003.48 L335.904 1003.48 L335.904 1007.37 L330.974 1007.37 L330.974 1015.51 L326.321 1015.51 L326.321 1007.37 L310.719 1007.37 L310.719 1002.85 L325.094 980.955 Z\" fill=\"#000000\" fill-rule=\"evenodd\" fill-opacity=\"1\" /><path clip-path=\"url(#clip630)\" d=\"M457.102 998.686 L486.778 998.686 L486.778 1002.62 L457.102 1002.62 L457.102 998.686 Z\" fill=\"#000000\" fill-rule=\"evenodd\" fill-opacity=\"1\" /><path clip-path=\"url(#clip630)\" d=\"M500.898 1011.58 L517.218 1011.58 L517.218 1015.51 L495.273 1015.51 L495.273 1011.58 Q497.935 1008.82 502.519 1004.2 Q507.125 999.542 508.306 998.2 Q510.551 995.677 511.431 993.941 Q512.333 992.181 512.333 990.492 Q512.333 987.737 510.389 986.001 Q508.468 984.265 505.366 984.265 Q503.167 984.265 500.713 985.029 Q498.283 985.792 495.505 987.343 L495.505 982.621 Q498.329 981.487 500.782 980.908 Q503.236 980.33 505.273 980.33 Q510.644 980.33 513.838 983.015 Q517.032 985.7 517.032 990.191 Q517.032 992.32 516.222 994.242 Q515.435 996.14 513.329 998.732 Q512.75 999.404 509.648 1002.62 Q506.546 1005.82 500.898 1011.58 Z\" fill=\"#000000\" fill-rule=\"evenodd\" fill-opacity=\"1\" /><path clip-path=\"url(#clip630)\" d=\"M669.515 984.033 Q665.904 984.033 664.075 987.598 Q662.27 991.14 662.27 998.269 Q662.27 1005.38 664.075 1008.94 Q665.904 1012.48 669.515 1012.48 Q673.149 1012.48 674.955 1008.94 Q676.783 1005.38 676.783 998.269 Q676.783 991.14 674.955 987.598 Q673.149 984.033 669.515 984.033 M669.515 980.33 Q675.325 980.33 678.381 984.936 Q681.459 989.519 681.459 998.269 Q681.459 1007 678.381 1011.6 Q675.325 1016.19 669.515 1016.19 Q663.705 1016.19 660.626 1011.6 Q657.571 1007 657.571 998.269 Q657.571 989.519 660.626 984.936 Q663.705 980.33 669.515 980.33 Z\" fill=\"#000000\" fill-rule=\"evenodd\" fill-opacity=\"1\" /><path clip-path=\"url(#clip630)\" d=\"M846.523 1011.58 L862.842 1011.58 L862.842 1015.51 L840.898 1015.51 L840.898 1011.58 Q843.56 1008.82 848.143 1004.2 Q852.75 999.542 853.93 998.2 Q856.176 995.677 857.055 993.941 Q857.958 992.181 857.958 990.492 Q857.958 987.737 856.014 986.001 Q854.092 984.265 850.99 984.265 Q848.791 984.265 846.338 985.029 Q843.907 985.792 841.129 987.343 L841.129 982.621 Q843.953 981.487 846.407 980.908 Q848.861 980.33 850.898 980.33 Q856.268 980.33 859.463 983.015 Q862.657 985.7 862.657 990.191 Q862.657 992.32 861.847 994.242 Q861.06 996.14 858.953 998.732 Q858.375 999.404 855.273 1002.62 Q852.171 1005.82 846.523 1011.58 Z\" fill=\"#000000\" fill-rule=\"evenodd\" fill-opacity=\"1\" /><path clip-path=\"url(#clip630)\" d=\"M1037.23 985.029 L1025.43 1003.48 L1037.23 1003.48 L1037.23 985.029 M1036.01 980.955 L1041.89 980.955 L1041.89 1003.48 L1046.82 1003.48 L1046.82 1007.37 L1041.89 1007.37 L1041.89 1015.51 L1037.23 1015.51 L1037.23 1007.37 L1021.63 1007.37 L1021.63 1002.85 L1036.01 980.955 Z\" fill=\"#000000\" fill-rule=\"evenodd\" fill-opacity=\"1\" /><polyline clip-path=\"url(#clip634)\" style=\"stroke:#000000; stroke-linecap:round; stroke-linejoin:round; stroke-width:2; stroke-opacity:0.1; fill:none\" points=\"\n",
       "  186.274,942.571 1152.76,942.571 \n",
       "  \"/>\n",
       "<polyline clip-path=\"url(#clip634)\" style=\"stroke:#000000; stroke-linecap:round; stroke-linejoin:round; stroke-width:2; stroke-opacity:0.1; fill:none\" points=\"\n",
       "  186.274,854.664 1152.76,854.664 \n",
       "  \"/>\n",
       "<polyline clip-path=\"url(#clip634)\" style=\"stroke:#000000; stroke-linecap:round; stroke-linejoin:round; stroke-width:2; stroke-opacity:0.1; fill:none\" points=\"\n",
       "  186.274,766.758 1152.76,766.758 \n",
       "  \"/>\n",
       "<polyline clip-path=\"url(#clip634)\" style=\"stroke:#000000; stroke-linecap:round; stroke-linejoin:round; stroke-width:2; stroke-opacity:0.1; fill:none\" points=\"\n",
       "  186.274,678.851 1152.76,678.851 \n",
       "  \"/>\n",
       "<polyline clip-path=\"url(#clip634)\" style=\"stroke:#000000; stroke-linecap:round; stroke-linejoin:round; stroke-width:2; stroke-opacity:0.1; fill:none\" points=\"\n",
       "  186.274,590.945 1152.76,590.945 \n",
       "  \"/>\n",
       "<polyline clip-path=\"url(#clip630)\" style=\"stroke:#000000; stroke-linecap:round; stroke-linejoin:round; stroke-width:4; stroke-opacity:1; fill:none\" points=\"\n",
       "  186.274,953.115 186.274,580.577 \n",
       "  \"/>\n",
       "<polyline clip-path=\"url(#clip630)\" style=\"stroke:#000000; stroke-linecap:round; stroke-linejoin:round; stroke-width:4; stroke-opacity:1; fill:none\" points=\"\n",
       "  186.274,942.571 205.172,942.571 \n",
       "  \"/>\n",
       "<polyline clip-path=\"url(#clip630)\" style=\"stroke:#000000; stroke-linecap:round; stroke-linejoin:round; stroke-width:4; stroke-opacity:1; fill:none\" points=\"\n",
       "  186.274,854.664 205.172,854.664 \n",
       "  \"/>\n",
       "<polyline clip-path=\"url(#clip630)\" style=\"stroke:#000000; stroke-linecap:round; stroke-linejoin:round; stroke-width:4; stroke-opacity:1; fill:none\" points=\"\n",
       "  186.274,766.758 205.172,766.758 \n",
       "  \"/>\n",
       "<polyline clip-path=\"url(#clip630)\" style=\"stroke:#000000; stroke-linecap:round; stroke-linejoin:round; stroke-width:4; stroke-opacity:1; fill:none\" points=\"\n",
       "  186.274,678.851 205.172,678.851 \n",
       "  \"/>\n",
       "<polyline clip-path=\"url(#clip630)\" style=\"stroke:#000000; stroke-linecap:round; stroke-linejoin:round; stroke-width:4; stroke-opacity:1; fill:none\" points=\"\n",
       "  186.274,590.945 205.172,590.945 \n",
       "  \"/>\n",
       "<path clip-path=\"url(#clip630)\" d=\"M62.9365 928.37 Q59.3254 928.37 57.4967 931.935 Q55.6912 935.476 55.6912 942.606 Q55.6912 949.712 57.4967 953.277 Q59.3254 956.819 62.9365 956.819 Q66.5707 956.819 68.3763 953.277 Q70.205 949.712 70.205 942.606 Q70.205 935.476 68.3763 931.935 Q66.5707 928.37 62.9365 928.37 M62.9365 924.666 Q68.7467 924.666 71.8022 929.272 Q74.8809 933.856 74.8809 942.606 Q74.8809 951.333 71.8022 955.939 Q68.7467 960.522 62.9365 960.522 Q57.1264 960.522 54.0477 955.939 Q50.9921 951.333 50.9921 942.606 Q50.9921 933.856 54.0477 929.272 Q57.1264 924.666 62.9365 924.666 Z\" fill=\"#000000\" fill-rule=\"evenodd\" fill-opacity=\"1\" /><path clip-path=\"url(#clip630)\" d=\"M83.0984 953.971 L87.9827 953.971 L87.9827 959.851 L83.0984 959.851 L83.0984 953.971 Z\" fill=\"#000000\" fill-rule=\"evenodd\" fill-opacity=\"1\" /><path clip-path=\"url(#clip630)\" d=\"M108.168 928.37 Q104.557 928.37 102.728 931.935 Q100.922 935.476 100.922 942.606 Q100.922 949.712 102.728 953.277 Q104.557 956.819 108.168 956.819 Q111.802 956.819 113.608 953.277 Q115.436 949.712 115.436 942.606 Q115.436 935.476 113.608 931.935 Q111.802 928.37 108.168 928.37 M108.168 924.666 Q113.978 924.666 117.033 929.272 Q120.112 933.856 120.112 942.606 Q120.112 951.333 117.033 955.939 Q113.978 960.522 108.168 960.522 Q102.358 960.522 99.2789 955.939 Q96.2234 951.333 96.2234 942.606 Q96.2234 933.856 99.2789 929.272 Q102.358 924.666 108.168 924.666 Z\" fill=\"#000000\" fill-rule=\"evenodd\" fill-opacity=\"1\" /><path clip-path=\"url(#clip630)\" d=\"M138.33 928.37 Q134.719 928.37 132.89 931.935 Q131.084 935.476 131.084 942.606 Q131.084 949.712 132.89 953.277 Q134.719 956.819 138.33 956.819 Q141.964 956.819 143.769 953.277 Q145.598 949.712 145.598 942.606 Q145.598 935.476 143.769 931.935 Q141.964 928.37 138.33 928.37 M138.33 924.666 Q144.14 924.666 147.195 929.272 Q150.274 933.856 150.274 942.606 Q150.274 951.333 147.195 955.939 Q144.14 960.522 138.33 960.522 Q132.519 960.522 129.441 955.939 Q126.385 951.333 126.385 942.606 Q126.385 933.856 129.441 929.272 Q132.519 924.666 138.33 924.666 Z\" fill=\"#000000\" fill-rule=\"evenodd\" fill-opacity=\"1\" /><path clip-path=\"url(#clip630)\" d=\"M63.9319 840.463 Q60.3208 840.463 58.4921 844.028 Q56.6865 847.57 56.6865 854.699 Q56.6865 861.806 58.4921 865.37 Q60.3208 868.912 63.9319 868.912 Q67.5661 868.912 69.3717 865.37 Q71.2004 861.806 71.2004 854.699 Q71.2004 847.57 69.3717 844.028 Q67.5661 840.463 63.9319 840.463 M63.9319 836.759 Q69.742 836.759 72.7976 841.366 Q75.8763 845.949 75.8763 854.699 Q75.8763 863.426 72.7976 868.032 Q69.742 872.616 63.9319 872.616 Q58.1217 872.616 55.043 868.032 Q51.9875 863.426 51.9875 854.699 Q51.9875 845.949 55.043 841.366 Q58.1217 836.759 63.9319 836.759 Z\" fill=\"#000000\" fill-rule=\"evenodd\" fill-opacity=\"1\" /><path clip-path=\"url(#clip630)\" d=\"M84.0938 866.065 L88.978 866.065 L88.978 871.944 L84.0938 871.944 L84.0938 866.065 Z\" fill=\"#000000\" fill-rule=\"evenodd\" fill-opacity=\"1\" /><path clip-path=\"url(#clip630)\" d=\"M103.191 868.009 L119.51 868.009 L119.51 871.944 L97.566 871.944 L97.566 868.009 Q100.228 865.255 104.811 860.625 Q109.418 855.972 110.598 854.63 Q112.844 852.107 113.723 850.371 Q114.626 848.611 114.626 846.921 Q114.626 844.167 112.682 842.431 Q110.76 840.695 107.658 840.695 Q105.459 840.695 103.006 841.459 Q100.575 842.222 97.7974 843.773 L97.7974 839.051 Q100.621 837.917 103.075 837.338 Q105.529 836.759 107.566 836.759 Q112.936 836.759 116.131 839.445 Q119.325 842.13 119.325 846.621 Q119.325 848.75 118.515 850.671 Q117.728 852.57 115.621 855.162 Q115.043 855.833 111.941 859.051 Q108.839 862.245 103.191 868.009 Z\" fill=\"#000000\" fill-rule=\"evenodd\" fill-opacity=\"1\" /><path clip-path=\"url(#clip630)\" d=\"M129.371 837.384 L147.728 837.384 L147.728 841.32 L133.654 841.32 L133.654 849.792 Q134.672 849.445 135.691 849.283 Q136.709 849.097 137.728 849.097 Q143.515 849.097 146.894 852.269 Q150.274 855.44 150.274 860.857 Q150.274 866.435 146.802 869.537 Q143.33 872.616 137.01 872.616 Q134.834 872.616 132.566 872.245 Q130.32 871.875 127.913 871.134 L127.913 866.435 Q129.996 867.569 132.219 868.125 Q134.441 868.681 136.918 868.681 Q140.922 868.681 143.26 866.574 Q145.598 864.468 145.598 860.857 Q145.598 857.245 143.26 855.139 Q140.922 853.033 136.918 853.033 Q135.043 853.033 133.168 853.449 Q131.316 853.866 129.371 854.745 L129.371 837.384 Z\" fill=\"#000000\" fill-rule=\"evenodd\" fill-opacity=\"1\" /><path clip-path=\"url(#clip630)\" d=\"M62.9365 752.557 Q59.3254 752.557 57.4967 756.121 Q55.6912 759.663 55.6912 766.793 Q55.6912 773.899 57.4967 777.464 Q59.3254 781.006 62.9365 781.006 Q66.5707 781.006 68.3763 777.464 Q70.205 773.899 70.205 766.793 Q70.205 759.663 68.3763 756.121 Q66.5707 752.557 62.9365 752.557 M62.9365 748.853 Q68.7467 748.853 71.8022 753.459 Q74.8809 758.043 74.8809 766.793 Q74.8809 775.519 71.8022 780.126 Q68.7467 784.709 62.9365 784.709 Q57.1264 784.709 54.0477 780.126 Q50.9921 775.519 50.9921 766.793 Q50.9921 758.043 54.0477 753.459 Q57.1264 748.853 62.9365 748.853 Z\" fill=\"#000000\" fill-rule=\"evenodd\" fill-opacity=\"1\" /><path clip-path=\"url(#clip630)\" d=\"M83.0984 778.158 L87.9827 778.158 L87.9827 784.038 L83.0984 784.038 L83.0984 778.158 Z\" fill=\"#000000\" fill-rule=\"evenodd\" fill-opacity=\"1\" /><path clip-path=\"url(#clip630)\" d=\"M98.2141 749.478 L116.57 749.478 L116.57 753.413 L102.496 753.413 L102.496 761.885 Q103.515 761.538 104.534 761.376 Q105.552 761.191 106.571 761.191 Q112.358 761.191 115.737 764.362 Q119.117 767.533 119.117 772.95 Q119.117 778.529 115.645 781.631 Q112.172 784.709 105.853 784.709 Q103.677 784.709 101.409 784.339 Q99.1632 783.968 96.7558 783.228 L96.7558 778.529 Q98.8391 779.663 101.061 780.218 Q103.284 780.774 105.76 780.774 Q109.765 780.774 112.103 778.668 Q114.441 776.561 114.441 772.95 Q114.441 769.339 112.103 767.232 Q109.765 765.126 105.76 765.126 Q103.885 765.126 102.01 765.543 Q100.159 765.959 98.2141 766.839 L98.2141 749.478 Z\" fill=\"#000000\" fill-rule=\"evenodd\" fill-opacity=\"1\" /><path clip-path=\"url(#clip630)\" d=\"M138.33 752.557 Q134.719 752.557 132.89 756.121 Q131.084 759.663 131.084 766.793 Q131.084 773.899 132.89 777.464 Q134.719 781.006 138.33 781.006 Q141.964 781.006 143.769 777.464 Q145.598 773.899 145.598 766.793 Q145.598 759.663 143.769 756.121 Q141.964 752.557 138.33 752.557 M138.33 748.853 Q144.14 748.853 147.195 753.459 Q150.274 758.043 150.274 766.793 Q150.274 775.519 147.195 780.126 Q144.14 784.709 138.33 784.709 Q132.519 784.709 129.441 780.126 Q126.385 775.519 126.385 766.793 Q126.385 758.043 129.441 753.459 Q132.519 748.853 138.33 748.853 Z\" fill=\"#000000\" fill-rule=\"evenodd\" fill-opacity=\"1\" /><path clip-path=\"url(#clip630)\" d=\"M63.9319 664.65 Q60.3208 664.65 58.4921 668.215 Q56.6865 671.756 56.6865 678.886 Q56.6865 685.993 58.4921 689.557 Q60.3208 693.099 63.9319 693.099 Q67.5661 693.099 69.3717 689.557 Q71.2004 685.993 71.2004 678.886 Q71.2004 671.756 69.3717 668.215 Q67.5661 664.65 63.9319 664.65 M63.9319 660.946 Q69.742 660.946 72.7976 665.553 Q75.8763 670.136 75.8763 678.886 Q75.8763 687.613 72.7976 692.219 Q69.742 696.803 63.9319 696.803 Q58.1217 696.803 55.043 692.219 Q51.9875 687.613 51.9875 678.886 Q51.9875 670.136 55.043 665.553 Q58.1217 660.946 63.9319 660.946 Z\" fill=\"#000000\" fill-rule=\"evenodd\" fill-opacity=\"1\" /><path clip-path=\"url(#clip630)\" d=\"M84.0938 690.252 L88.978 690.252 L88.978 696.131 L84.0938 696.131 L84.0938 690.252 Z\" fill=\"#000000\" fill-rule=\"evenodd\" fill-opacity=\"1\" /><path clip-path=\"url(#clip630)\" d=\"M97.9826 661.571 L120.205 661.571 L120.205 663.562 L107.658 696.131 L102.774 696.131 L114.58 665.507 L97.9826 665.507 L97.9826 661.571 Z\" fill=\"#000000\" fill-rule=\"evenodd\" fill-opacity=\"1\" /><path clip-path=\"url(#clip630)\" d=\"M129.371 661.571 L147.728 661.571 L147.728 665.507 L133.654 665.507 L133.654 673.979 Q134.672 673.631 135.691 673.469 Q136.709 673.284 137.728 673.284 Q143.515 673.284 146.894 676.456 Q150.274 679.627 150.274 685.043 Q150.274 690.622 146.802 693.724 Q143.33 696.803 137.01 696.803 Q134.834 696.803 132.566 696.432 Q130.32 696.062 127.913 695.321 L127.913 690.622 Q129.996 691.756 132.219 692.312 Q134.441 692.867 136.918 692.867 Q140.922 692.867 143.26 690.761 Q145.598 688.655 145.598 685.043 Q145.598 681.432 143.26 679.326 Q140.922 677.219 136.918 677.219 Q135.043 677.219 133.168 677.636 Q131.316 678.053 129.371 678.932 L129.371 661.571 Z\" fill=\"#000000\" fill-rule=\"evenodd\" fill-opacity=\"1\" /><path clip-path=\"url(#clip630)\" d=\"M53.7467 604.29 L61.3856 604.29 L61.3856 577.924 L53.0754 579.591 L53.0754 575.331 L61.3393 573.665 L66.0152 573.665 L66.0152 604.29 L73.654 604.29 L73.654 608.225 L53.7467 608.225 L53.7467 604.29 Z\" fill=\"#000000\" fill-rule=\"evenodd\" fill-opacity=\"1\" /><path clip-path=\"url(#clip630)\" d=\"M83.0984 602.345 L87.9827 602.345 L87.9827 608.225 L83.0984 608.225 L83.0984 602.345 Z\" fill=\"#000000\" fill-rule=\"evenodd\" fill-opacity=\"1\" /><path clip-path=\"url(#clip630)\" d=\"M108.168 576.743 Q104.557 576.743 102.728 580.308 Q100.922 583.85 100.922 590.98 Q100.922 598.086 102.728 601.651 Q104.557 605.192 108.168 605.192 Q111.802 605.192 113.608 601.651 Q115.436 598.086 115.436 590.98 Q115.436 583.85 113.608 580.308 Q111.802 576.743 108.168 576.743 M108.168 573.04 Q113.978 573.04 117.033 577.646 Q120.112 582.23 120.112 590.98 Q120.112 599.706 117.033 604.313 Q113.978 608.896 108.168 608.896 Q102.358 608.896 99.2789 604.313 Q96.2234 599.706 96.2234 590.98 Q96.2234 582.23 99.2789 577.646 Q102.358 573.04 108.168 573.04 Z\" fill=\"#000000\" fill-rule=\"evenodd\" fill-opacity=\"1\" /><path clip-path=\"url(#clip630)\" d=\"M138.33 576.743 Q134.719 576.743 132.89 580.308 Q131.084 583.85 131.084 590.98 Q131.084 598.086 132.89 601.651 Q134.719 605.192 138.33 605.192 Q141.964 605.192 143.769 601.651 Q145.598 598.086 145.598 590.98 Q145.598 583.85 143.769 580.308 Q141.964 576.743 138.33 576.743 M138.33 573.04 Q144.14 573.04 147.195 577.646 Q150.274 582.23 150.274 590.98 Q150.274 599.706 147.195 604.313 Q144.14 608.896 138.33 608.896 Q132.519 608.896 129.441 604.313 Q126.385 599.706 126.385 590.98 Q126.385 582.23 129.441 577.646 Q132.519 573.04 138.33 573.04 Z\" fill=\"#000000\" fill-rule=\"evenodd\" fill-opacity=\"1\" /><polyline clip-path=\"url(#clip634)\" style=\"stroke:#3da44d; stroke-linecap:round; stroke-linejoin:round; stroke-width:8; stroke-opacity:1; fill:none\" stroke-dasharray=\"32, 16, 4, 16, 4, 16\" points=\"\n",
       "  213.627,942.571 219.563,942.571 274.452,942.571 307.437,942.571 335.326,942.571 365.621,942.571 393.551,942.571 423.494,942.571 458.187,942.571 489.017,942.571 \n",
       "  516.052,942.571 545.528,942.571 575.179,942.571 591.571,942.571 607.963,942.571 623.559,942.571 639.155,942.571 647.263,942.571 655.371,942.571 659.425,942.571 \n",
       "  663.479,942.571 664.493,942.571 665.507,942.571 666.52,942.571 667.534,942.571 668.04,942.571 668.547,942.571 668.8,942.571 669.054,942.571 669.307,942.571 \n",
       "  669.561,591.121 669.814,592.096 670.067,593.069 670.321,594.039 670.574,595.006 671.081,596.932 671.588,598.848 673.294,605.221 675,611.476 676.707,617.614 \n",
       "  678.413,623.639 681.826,635.356 685.238,646.642 688.651,657.514 692.064,667.986 695.476,678.073 698.889,687.79 703.056,699.171 707.222,710.043 711.389,720.43 \n",
       "  715.555,730.352 719.722,739.832 723.888,748.888 728.055,757.539 732.221,765.804 736.038,773.051 739.855,780.001 743.672,786.666 747.488,793.057 751.305,799.187 \n",
       "  755.122,805.065 758.939,810.703 762.755,816.109 769.806,825.519 776.856,834.229 783.906,842.29 790.956,849.752 798.098,856.745 805.239,863.211 812.381,869.19 \n",
       "  819.523,874.718 827.526,880.42 835.53,885.644 843.534,890.428 851.538,894.81 858.79,898.462 866.043,901.834 873.296,904.949 880.548,907.826 888.852,910.851 \n",
       "  897.156,913.612 905.46,916.133 913.764,918.434 929.141,922.18 944.518,925.345 959.678,927.983 974.838,930.218 989.558,932.06 1004.28,933.627 1034.45,936.147 \n",
       "  1067.52,938.101 1115.55,939.931 1125.4,940.202 \n",
       "  \"/>\n",
       "<path clip-path=\"url(#clip630)\" d=\"\n",
       "M218.49 696.675 L356.527 696.675 L356.527 592.995 L218.49 592.995  Z\n",
       "  \" fill=\"#ffffff\" fill-rule=\"evenodd\" fill-opacity=\"1\"/>\n",
       "<polyline clip-path=\"url(#clip630)\" style=\"stroke:#000000; stroke-linecap:round; stroke-linejoin:round; stroke-width:4; stroke-opacity:0; fill:none\" points=\"\n",
       "  218.49,696.675 356.527,696.675 356.527,592.995 218.49,592.995 218.49,696.675 \n",
       "  \"/>\n",
       "<polyline clip-path=\"url(#clip630)\" style=\"stroke:#3da44d; stroke-linecap:round; stroke-linejoin:round; stroke-width:8; stroke-opacity:1; fill:none\" stroke-dasharray=\"32, 16, 4, 16, 4, 16\" points=\"\n",
       "  229.229,644.835 293.661,644.835 \n",
       "  \"/>\n",
       "<path clip-path=\"url(#clip630)\" d=\"M320.904 626.097 L320.904 629.639 L316.83 629.639 Q314.538 629.639 313.636 630.565 Q312.756 631.49 312.756 633.898 L312.756 636.19 L319.77 636.19 L319.77 639.5 L312.756 639.5 L312.756 662.115 L308.474 662.115 L308.474 639.5 L304.4 639.5 L304.4 636.19 L308.474 636.19 L308.474 634.384 Q308.474 630.055 310.487 628.088 Q312.501 626.097 316.876 626.097 L320.904 626.097 Z\" fill=\"#000000\" fill-rule=\"evenodd\" fill-opacity=\"1\" /><path clip-path=\"url(#clip630)\" d=\"M325.881 658.18 L333.52 658.18 L333.52 631.815 L325.21 633.481 L325.21 629.222 L333.473 627.555 L338.149 627.555 L338.149 658.18 L345.788 658.18 L345.788 662.115 L325.881 662.115 L325.881 658.18 Z\" fill=\"#000000\" fill-rule=\"evenodd\" fill-opacity=\"1\" /><path clip-path=\"url(#clip630)\" d=\"\n",
       "M1386.27 953.115 L2352.76 953.115 L2352.76 580.577 L1386.27 580.577  Z\n",
       "  \" fill=\"#ffffff\" fill-rule=\"evenodd\" fill-opacity=\"1\"/>\n",
       "<defs>\n",
       "  <clipPath id=\"clip635\">\n",
       "    <rect x=\"1386\" y=\"580\" width=\"967\" height=\"374\"/>\n",
       "  </clipPath>\n",
       "</defs>\n",
       "<polyline clip-path=\"url(#clip635)\" style=\"stroke:#000000; stroke-linecap:round; stroke-linejoin:round; stroke-width:2; stroke-opacity:0.1; fill:none\" points=\"\n",
       "  1504.8,953.115 1504.8,580.577 \n",
       "  \"/>\n",
       "<polyline clip-path=\"url(#clip635)\" style=\"stroke:#000000; stroke-linecap:round; stroke-linejoin:round; stroke-width:2; stroke-opacity:0.1; fill:none\" points=\"\n",
       "  1687.16,953.115 1687.16,580.577 \n",
       "  \"/>\n",
       "<polyline clip-path=\"url(#clip635)\" style=\"stroke:#000000; stroke-linecap:round; stroke-linejoin:round; stroke-width:2; stroke-opacity:0.1; fill:none\" points=\"\n",
       "  1869.51,953.115 1869.51,580.577 \n",
       "  \"/>\n",
       "<polyline clip-path=\"url(#clip635)\" style=\"stroke:#000000; stroke-linecap:round; stroke-linejoin:round; stroke-width:2; stroke-opacity:0.1; fill:none\" points=\"\n",
       "  2051.87,953.115 2051.87,580.577 \n",
       "  \"/>\n",
       "<polyline clip-path=\"url(#clip635)\" style=\"stroke:#000000; stroke-linecap:round; stroke-linejoin:round; stroke-width:2; stroke-opacity:0.1; fill:none\" points=\"\n",
       "  2234.23,953.115 2234.23,580.577 \n",
       "  \"/>\n",
       "<polyline clip-path=\"url(#clip630)\" style=\"stroke:#000000; stroke-linecap:round; stroke-linejoin:round; stroke-width:4; stroke-opacity:1; fill:none\" points=\"\n",
       "  1386.27,953.115 2352.76,953.115 \n",
       "  \"/>\n",
       "<polyline clip-path=\"url(#clip630)\" style=\"stroke:#000000; stroke-linecap:round; stroke-linejoin:round; stroke-width:4; stroke-opacity:1; fill:none\" points=\"\n",
       "  1504.8,953.115 1504.8,934.217 \n",
       "  \"/>\n",
       "<polyline clip-path=\"url(#clip630)\" style=\"stroke:#000000; stroke-linecap:round; stroke-linejoin:round; stroke-width:4; stroke-opacity:1; fill:none\" points=\"\n",
       "  1687.16,953.115 1687.16,934.217 \n",
       "  \"/>\n",
       "<polyline clip-path=\"url(#clip630)\" style=\"stroke:#000000; stroke-linecap:round; stroke-linejoin:round; stroke-width:4; stroke-opacity:1; fill:none\" points=\"\n",
       "  1869.51,953.115 1869.51,934.217 \n",
       "  \"/>\n",
       "<polyline clip-path=\"url(#clip630)\" style=\"stroke:#000000; stroke-linecap:round; stroke-linejoin:round; stroke-width:4; stroke-opacity:1; fill:none\" points=\"\n",
       "  2051.87,953.115 2051.87,934.217 \n",
       "  \"/>\n",
       "<polyline clip-path=\"url(#clip630)\" style=\"stroke:#000000; stroke-linecap:round; stroke-linejoin:round; stroke-width:4; stroke-opacity:1; fill:none\" points=\"\n",
       "  2234.23,953.115 2234.23,934.217 \n",
       "  \"/>\n",
       "<path clip-path=\"url(#clip630)\" d=\"M1473.71 998.686 L1503.38 998.686 L1503.38 1002.62 L1473.71 1002.62 L1473.71 998.686 Z\" fill=\"#000000\" fill-rule=\"evenodd\" fill-opacity=\"1\" /><path clip-path=\"url(#clip630)\" d=\"M1526.32 985.029 L1514.52 1003.48 L1526.32 1003.48 L1526.32 985.029 M1525.09 980.955 L1530.97 980.955 L1530.97 1003.48 L1535.9 1003.48 L1535.9 1007.37 L1530.97 1007.37 L1530.97 1015.51 L1526.32 1015.51 L1526.32 1007.37 L1510.72 1007.37 L1510.72 1002.85 L1525.09 980.955 Z\" fill=\"#000000\" fill-rule=\"evenodd\" fill-opacity=\"1\" /><path clip-path=\"url(#clip630)\" d=\"M1657.1 998.686 L1686.78 998.686 L1686.78 1002.62 L1657.1 1002.62 L1657.1 998.686 Z\" fill=\"#000000\" fill-rule=\"evenodd\" fill-opacity=\"1\" /><path clip-path=\"url(#clip630)\" d=\"M1700.9 1011.58 L1717.22 1011.58 L1717.22 1015.51 L1695.27 1015.51 L1695.27 1011.58 Q1697.94 1008.82 1702.52 1004.2 Q1707.13 999.542 1708.31 998.2 Q1710.55 995.677 1711.43 993.941 Q1712.33 992.181 1712.33 990.492 Q1712.33 987.737 1710.39 986.001 Q1708.47 984.265 1705.37 984.265 Q1703.17 984.265 1700.71 985.029 Q1698.28 985.792 1695.5 987.343 L1695.5 982.621 Q1698.33 981.487 1700.78 980.908 Q1703.24 980.33 1705.27 980.33 Q1710.64 980.33 1713.84 983.015 Q1717.03 985.7 1717.03 990.191 Q1717.03 992.32 1716.22 994.242 Q1715.44 996.14 1713.33 998.732 Q1712.75 999.404 1709.65 1002.62 Q1706.55 1005.82 1700.9 1011.58 Z\" fill=\"#000000\" fill-rule=\"evenodd\" fill-opacity=\"1\" /><path clip-path=\"url(#clip630)\" d=\"M1869.51 984.033 Q1865.9 984.033 1864.08 987.598 Q1862.27 991.14 1862.27 998.269 Q1862.27 1005.38 1864.08 1008.94 Q1865.9 1012.48 1869.51 1012.48 Q1873.15 1012.48 1874.95 1008.94 Q1876.78 1005.38 1876.78 998.269 Q1876.78 991.14 1874.95 987.598 Q1873.15 984.033 1869.51 984.033 M1869.51 980.33 Q1875.33 980.33 1878.38 984.936 Q1881.46 989.519 1881.46 998.269 Q1881.46 1007 1878.38 1011.6 Q1875.33 1016.19 1869.51 1016.19 Q1863.7 1016.19 1860.63 1011.6 Q1857.57 1007 1857.57 998.269 Q1857.57 989.519 1860.63 984.936 Q1863.7 980.33 1869.51 980.33 Z\" fill=\"#000000\" fill-rule=\"evenodd\" fill-opacity=\"1\" /><path clip-path=\"url(#clip630)\" d=\"M2046.52 1011.58 L2062.84 1011.58 L2062.84 1015.51 L2040.9 1015.51 L2040.9 1011.58 Q2043.56 1008.82 2048.14 1004.2 Q2052.75 999.542 2053.93 998.2 Q2056.18 995.677 2057.06 993.941 Q2057.96 992.181 2057.96 990.492 Q2057.96 987.737 2056.01 986.001 Q2054.09 984.265 2050.99 984.265 Q2048.79 984.265 2046.34 985.029 Q2043.91 985.792 2041.13 987.343 L2041.13 982.621 Q2043.95 981.487 2046.41 980.908 Q2048.86 980.33 2050.9 980.33 Q2056.27 980.33 2059.46 983.015 Q2062.66 985.7 2062.66 990.191 Q2062.66 992.32 2061.85 994.242 Q2061.06 996.14 2058.95 998.732 Q2058.37 999.404 2055.27 1002.62 Q2052.17 1005.82 2046.52 1011.58 Z\" fill=\"#000000\" fill-rule=\"evenodd\" fill-opacity=\"1\" /><path clip-path=\"url(#clip630)\" d=\"M2237.23 985.029 L2225.43 1003.48 L2237.23 1003.48 L2237.23 985.029 M2236.01 980.955 L2241.89 980.955 L2241.89 1003.48 L2246.82 1003.48 L2246.82 1007.37 L2241.89 1007.37 L2241.89 1015.51 L2237.23 1015.51 L2237.23 1007.37 L2221.63 1007.37 L2221.63 1002.85 L2236.01 980.955 Z\" fill=\"#000000\" fill-rule=\"evenodd\" fill-opacity=\"1\" /><polyline clip-path=\"url(#clip635)\" style=\"stroke:#000000; stroke-linecap:round; stroke-linejoin:round; stroke-width:2; stroke-opacity:0.1; fill:none\" points=\"\n",
       "  1386.27,899.215 2352.76,899.215 \n",
       "  \"/>\n",
       "<polyline clip-path=\"url(#clip635)\" style=\"stroke:#000000; stroke-linecap:round; stroke-linejoin:round; stroke-width:2; stroke-opacity:0.1; fill:none\" points=\"\n",
       "  1386.27,841.801 2352.76,841.801 \n",
       "  \"/>\n",
       "<polyline clip-path=\"url(#clip635)\" style=\"stroke:#000000; stroke-linecap:round; stroke-linejoin:round; stroke-width:2; stroke-opacity:0.1; fill:none\" points=\"\n",
       "  1386.27,784.387 2352.76,784.387 \n",
       "  \"/>\n",
       "<polyline clip-path=\"url(#clip635)\" style=\"stroke:#000000; stroke-linecap:round; stroke-linejoin:round; stroke-width:2; stroke-opacity:0.1; fill:none\" points=\"\n",
       "  1386.27,726.973 2352.76,726.973 \n",
       "  \"/>\n",
       "<polyline clip-path=\"url(#clip635)\" style=\"stroke:#000000; stroke-linecap:round; stroke-linejoin:round; stroke-width:2; stroke-opacity:0.1; fill:none\" points=\"\n",
       "  1386.27,669.56 2352.76,669.56 \n",
       "  \"/>\n",
       "<polyline clip-path=\"url(#clip635)\" style=\"stroke:#000000; stroke-linecap:round; stroke-linejoin:round; stroke-width:2; stroke-opacity:0.1; fill:none\" points=\"\n",
       "  1386.27,612.146 2352.76,612.146 \n",
       "  \"/>\n",
       "<polyline clip-path=\"url(#clip630)\" style=\"stroke:#000000; stroke-linecap:round; stroke-linejoin:round; stroke-width:4; stroke-opacity:1; fill:none\" points=\"\n",
       "  1386.27,953.115 1386.27,580.577 \n",
       "  \"/>\n",
       "<polyline clip-path=\"url(#clip630)\" style=\"stroke:#000000; stroke-linecap:round; stroke-linejoin:round; stroke-width:4; stroke-opacity:1; fill:none\" points=\"\n",
       "  1386.27,899.215 1405.17,899.215 \n",
       "  \"/>\n",
       "<polyline clip-path=\"url(#clip630)\" style=\"stroke:#000000; stroke-linecap:round; stroke-linejoin:round; stroke-width:4; stroke-opacity:1; fill:none\" points=\"\n",
       "  1386.27,841.801 1405.17,841.801 \n",
       "  \"/>\n",
       "<polyline clip-path=\"url(#clip630)\" style=\"stroke:#000000; stroke-linecap:round; stroke-linejoin:round; stroke-width:4; stroke-opacity:1; fill:none\" points=\"\n",
       "  1386.27,784.387 1405.17,784.387 \n",
       "  \"/>\n",
       "<polyline clip-path=\"url(#clip630)\" style=\"stroke:#000000; stroke-linecap:round; stroke-linejoin:round; stroke-width:4; stroke-opacity:1; fill:none\" points=\"\n",
       "  1386.27,726.973 1405.17,726.973 \n",
       "  \"/>\n",
       "<polyline clip-path=\"url(#clip630)\" style=\"stroke:#000000; stroke-linecap:round; stroke-linejoin:round; stroke-width:4; stroke-opacity:1; fill:none\" points=\"\n",
       "  1386.27,669.56 1405.17,669.56 \n",
       "  \"/>\n",
       "<polyline clip-path=\"url(#clip630)\" style=\"stroke:#000000; stroke-linecap:round; stroke-linejoin:round; stroke-width:4; stroke-opacity:1; fill:none\" points=\"\n",
       "  1386.27,612.146 1405.17,612.146 \n",
       "  \"/>\n",
       "<path clip-path=\"url(#clip630)\" d=\"M1263.93 885.014 Q1260.32 885.014 1258.49 888.579 Q1256.69 892.12 1256.69 899.25 Q1256.69 906.356 1258.49 909.921 Q1260.32 913.463 1263.93 913.463 Q1267.57 913.463 1269.37 909.921 Q1271.2 906.356 1271.2 899.25 Q1271.2 892.12 1269.37 888.579 Q1267.57 885.014 1263.93 885.014 M1263.93 881.31 Q1269.74 881.31 1272.8 885.917 Q1275.88 890.5 1275.88 899.25 Q1275.88 907.977 1272.8 912.583 Q1269.74 917.166 1263.93 917.166 Q1258.12 917.166 1255.04 912.583 Q1251.99 907.977 1251.99 899.25 Q1251.99 890.5 1255.04 885.917 Q1258.12 881.31 1263.93 881.31 Z\" fill=\"#000000\" fill-rule=\"evenodd\" fill-opacity=\"1\" /><path clip-path=\"url(#clip630)\" d=\"M1284.09 910.616 L1288.98 910.616 L1288.98 916.495 L1284.09 916.495 L1284.09 910.616 Z\" fill=\"#000000\" fill-rule=\"evenodd\" fill-opacity=\"1\" /><path clip-path=\"url(#clip630)\" d=\"M1309.16 885.014 Q1305.55 885.014 1303.72 888.579 Q1301.92 892.12 1301.92 899.25 Q1301.92 906.356 1303.72 909.921 Q1305.55 913.463 1309.16 913.463 Q1312.8 913.463 1314.6 909.921 Q1316.43 906.356 1316.43 899.25 Q1316.43 892.12 1314.6 888.579 Q1312.8 885.014 1309.16 885.014 M1309.16 881.31 Q1314.97 881.31 1318.03 885.917 Q1321.11 890.5 1321.11 899.25 Q1321.11 907.977 1318.03 912.583 Q1314.97 917.166 1309.16 917.166 Q1303.35 917.166 1300.27 912.583 Q1297.22 907.977 1297.22 899.25 Q1297.22 890.5 1300.27 885.917 Q1303.35 881.31 1309.16 881.31 Z\" fill=\"#000000\" fill-rule=\"evenodd\" fill-opacity=\"1\" /><path clip-path=\"url(#clip630)\" d=\"M1329.37 881.935 L1347.73 881.935 L1347.73 885.87 L1333.65 885.87 L1333.65 894.342 Q1334.67 893.995 1335.69 893.833 Q1336.71 893.648 1337.73 893.648 Q1343.51 893.648 1346.89 896.819 Q1350.27 899.991 1350.27 905.407 Q1350.27 910.986 1346.8 914.088 Q1343.33 917.166 1337.01 917.166 Q1334.83 917.166 1332.57 916.796 Q1330.32 916.426 1327.91 915.685 L1327.91 910.986 Q1330 912.12 1332.22 912.676 Q1334.44 913.231 1336.92 913.231 Q1340.92 913.231 1343.26 911.125 Q1345.6 909.018 1345.6 905.407 Q1345.6 901.796 1343.26 899.69 Q1340.92 897.583 1336.92 897.583 Q1335.04 897.583 1333.17 898 Q1331.32 898.417 1329.37 899.296 L1329.37 881.935 Z\" fill=\"#000000\" fill-rule=\"evenodd\" fill-opacity=\"1\" /><path clip-path=\"url(#clip630)\" d=\"M1262.94 827.6 Q1259.33 827.6 1257.5 831.165 Q1255.69 834.706 1255.69 841.836 Q1255.69 848.942 1257.5 852.507 Q1259.33 856.049 1262.94 856.049 Q1266.57 856.049 1268.38 852.507 Q1270.2 848.942 1270.2 841.836 Q1270.2 834.706 1268.38 831.165 Q1266.57 827.6 1262.94 827.6 M1262.94 823.896 Q1268.75 823.896 1271.8 828.503 Q1274.88 833.086 1274.88 841.836 Q1274.88 850.563 1271.8 855.169 Q1268.75 859.753 1262.94 859.753 Q1257.13 859.753 1254.05 855.169 Q1250.99 850.563 1250.99 841.836 Q1250.99 833.086 1254.05 828.503 Q1257.13 823.896 1262.94 823.896 Z\" fill=\"#000000\" fill-rule=\"evenodd\" fill-opacity=\"1\" /><path clip-path=\"url(#clip630)\" d=\"M1283.1 853.202 L1287.98 853.202 L1287.98 859.081 L1283.1 859.081 L1283.1 853.202 Z\" fill=\"#000000\" fill-rule=\"evenodd\" fill-opacity=\"1\" /><path clip-path=\"url(#clip630)\" d=\"M1298.98 855.146 L1306.62 855.146 L1306.62 828.78 L1298.31 830.447 L1298.31 826.188 L1306.57 824.521 L1311.25 824.521 L1311.25 855.146 L1318.89 855.146 L1318.89 859.081 L1298.98 859.081 L1298.98 855.146 Z\" fill=\"#000000\" fill-rule=\"evenodd\" fill-opacity=\"1\" /><path clip-path=\"url(#clip630)\" d=\"M1338.33 827.6 Q1334.72 827.6 1332.89 831.165 Q1331.08 834.706 1331.08 841.836 Q1331.08 848.942 1332.89 852.507 Q1334.72 856.049 1338.33 856.049 Q1341.96 856.049 1343.77 852.507 Q1345.6 848.942 1345.6 841.836 Q1345.6 834.706 1343.77 831.165 Q1341.96 827.6 1338.33 827.6 M1338.33 823.896 Q1344.14 823.896 1347.2 828.503 Q1350.27 833.086 1350.27 841.836 Q1350.27 850.563 1347.2 855.169 Q1344.14 859.753 1338.33 859.753 Q1332.52 859.753 1329.44 855.169 Q1326.39 850.563 1326.39 841.836 Q1326.39 833.086 1329.44 828.503 Q1332.52 823.896 1338.33 823.896 Z\" fill=\"#000000\" fill-rule=\"evenodd\" fill-opacity=\"1\" /><path clip-path=\"url(#clip630)\" d=\"M1263.93 770.186 Q1260.32 770.186 1258.49 773.751 Q1256.69 777.292 1256.69 784.422 Q1256.69 791.529 1258.49 795.093 Q1260.32 798.635 1263.93 798.635 Q1267.57 798.635 1269.37 795.093 Q1271.2 791.529 1271.2 784.422 Q1271.2 777.292 1269.37 773.751 Q1267.57 770.186 1263.93 770.186 M1263.93 766.482 Q1269.74 766.482 1272.8 771.089 Q1275.88 775.672 1275.88 784.422 Q1275.88 793.149 1272.8 797.755 Q1269.74 802.339 1263.93 802.339 Q1258.12 802.339 1255.04 797.755 Q1251.99 793.149 1251.99 784.422 Q1251.99 775.672 1255.04 771.089 Q1258.12 766.482 1263.93 766.482 Z\" fill=\"#000000\" fill-rule=\"evenodd\" fill-opacity=\"1\" /><path clip-path=\"url(#clip630)\" d=\"M1284.09 795.788 L1288.98 795.788 L1288.98 801.667 L1284.09 801.667 L1284.09 795.788 Z\" fill=\"#000000\" fill-rule=\"evenodd\" fill-opacity=\"1\" /><path clip-path=\"url(#clip630)\" d=\"M1299.97 797.732 L1307.61 797.732 L1307.61 771.367 L1299.3 773.033 L1299.3 768.774 L1307.57 767.107 L1312.24 767.107 L1312.24 797.732 L1319.88 797.732 L1319.88 801.667 L1299.97 801.667 L1299.97 797.732 Z\" fill=\"#000000\" fill-rule=\"evenodd\" fill-opacity=\"1\" /><path clip-path=\"url(#clip630)\" d=\"M1329.37 767.107 L1347.73 767.107 L1347.73 771.043 L1333.65 771.043 L1333.65 779.515 Q1334.67 779.167 1335.69 779.005 Q1336.71 778.82 1337.73 778.82 Q1343.51 778.82 1346.89 781.992 Q1350.27 785.163 1350.27 790.579 Q1350.27 796.158 1346.8 799.26 Q1343.33 802.339 1337.01 802.339 Q1334.83 802.339 1332.57 801.968 Q1330.32 801.598 1327.91 800.857 L1327.91 796.158 Q1330 797.292 1332.22 797.848 Q1334.44 798.403 1336.92 798.403 Q1340.92 798.403 1343.26 796.297 Q1345.6 794.191 1345.6 790.579 Q1345.6 786.968 1343.26 784.862 Q1340.92 782.755 1336.92 782.755 Q1335.04 782.755 1333.17 783.172 Q1331.32 783.589 1329.37 784.468 L1329.37 767.107 Z\" fill=\"#000000\" fill-rule=\"evenodd\" fill-opacity=\"1\" /><path clip-path=\"url(#clip630)\" d=\"M1262.94 712.772 Q1259.33 712.772 1257.5 716.337 Q1255.69 719.879 1255.69 727.008 Q1255.69 734.115 1257.5 737.679 Q1259.33 741.221 1262.94 741.221 Q1266.57 741.221 1268.38 737.679 Q1270.2 734.115 1270.2 727.008 Q1270.2 719.879 1268.38 716.337 Q1266.57 712.772 1262.94 712.772 M1262.94 709.068 Q1268.75 709.068 1271.8 713.675 Q1274.88 718.258 1274.88 727.008 Q1274.88 735.735 1271.8 740.341 Q1268.75 744.925 1262.94 744.925 Q1257.13 744.925 1254.05 740.341 Q1250.99 735.735 1250.99 727.008 Q1250.99 718.258 1254.05 713.675 Q1257.13 709.068 1262.94 709.068 Z\" fill=\"#000000\" fill-rule=\"evenodd\" fill-opacity=\"1\" /><path clip-path=\"url(#clip630)\" d=\"M1283.1 738.374 L1287.98 738.374 L1287.98 744.253 L1283.1 744.253 L1283.1 738.374 Z\" fill=\"#000000\" fill-rule=\"evenodd\" fill-opacity=\"1\" /><path clip-path=\"url(#clip630)\" d=\"M1302.2 740.318 L1318.51 740.318 L1318.51 744.253 L1296.57 744.253 L1296.57 740.318 Q1299.23 737.564 1303.82 732.934 Q1308.42 728.281 1309.6 726.939 Q1311.85 724.416 1312.73 722.68 Q1313.63 720.92 1313.63 719.23 Q1313.63 716.476 1311.69 714.74 Q1309.76 713.004 1306.66 713.004 Q1304.46 713.004 1302.01 713.768 Q1299.58 714.531 1296.8 716.082 L1296.8 711.36 Q1299.63 710.226 1302.08 709.647 Q1304.53 709.068 1306.57 709.068 Q1311.94 709.068 1315.14 711.754 Q1318.33 714.439 1318.33 718.93 Q1318.33 721.059 1317.52 722.98 Q1316.73 724.879 1314.63 727.471 Q1314.05 728.142 1310.95 731.36 Q1307.84 734.554 1302.2 740.318 Z\" fill=\"#000000\" fill-rule=\"evenodd\" fill-opacity=\"1\" /><path clip-path=\"url(#clip630)\" d=\"M1338.33 712.772 Q1334.72 712.772 1332.89 716.337 Q1331.08 719.879 1331.08 727.008 Q1331.08 734.115 1332.89 737.679 Q1334.72 741.221 1338.33 741.221 Q1341.96 741.221 1343.77 737.679 Q1345.6 734.115 1345.6 727.008 Q1345.6 719.879 1343.77 716.337 Q1341.96 712.772 1338.33 712.772 M1338.33 709.068 Q1344.14 709.068 1347.2 713.675 Q1350.27 718.258 1350.27 727.008 Q1350.27 735.735 1347.2 740.341 Q1344.14 744.925 1338.33 744.925 Q1332.52 744.925 1329.44 740.341 Q1326.39 735.735 1326.39 727.008 Q1326.39 718.258 1329.44 713.675 Q1332.52 709.068 1338.33 709.068 Z\" fill=\"#000000\" fill-rule=\"evenodd\" fill-opacity=\"1\" /><path clip-path=\"url(#clip630)\" d=\"M1263.93 655.358 Q1260.32 655.358 1258.49 658.923 Q1256.69 662.465 1256.69 669.594 Q1256.69 676.701 1258.49 680.266 Q1260.32 683.807 1263.93 683.807 Q1267.57 683.807 1269.37 680.266 Q1271.2 676.701 1271.2 669.594 Q1271.2 662.465 1269.37 658.923 Q1267.57 655.358 1263.93 655.358 M1263.93 651.655 Q1269.74 651.655 1272.8 656.261 Q1275.88 660.844 1275.88 669.594 Q1275.88 678.321 1272.8 682.928 Q1269.74 687.511 1263.93 687.511 Q1258.12 687.511 1255.04 682.928 Q1251.99 678.321 1251.99 669.594 Q1251.99 660.844 1255.04 656.261 Q1258.12 651.655 1263.93 651.655 Z\" fill=\"#000000\" fill-rule=\"evenodd\" fill-opacity=\"1\" /><path clip-path=\"url(#clip630)\" d=\"M1284.09 680.96 L1288.98 680.96 L1288.98 686.84 L1284.09 686.84 L1284.09 680.96 Z\" fill=\"#000000\" fill-rule=\"evenodd\" fill-opacity=\"1\" /><path clip-path=\"url(#clip630)\" d=\"M1303.19 682.904 L1319.51 682.904 L1319.51 686.84 L1297.57 686.84 L1297.57 682.904 Q1300.23 680.15 1304.81 675.52 Q1309.42 670.867 1310.6 669.525 Q1312.84 667.002 1313.72 665.266 Q1314.63 663.506 1314.63 661.817 Q1314.63 659.062 1312.68 657.326 Q1310.76 655.59 1307.66 655.59 Q1305.46 655.59 1303.01 656.354 Q1300.58 657.118 1297.8 658.668 L1297.8 653.946 Q1300.62 652.812 1303.08 652.233 Q1305.53 651.655 1307.57 651.655 Q1312.94 651.655 1316.13 654.34 Q1319.33 657.025 1319.33 661.516 Q1319.33 663.645 1318.51 665.567 Q1317.73 667.465 1315.62 670.057 Q1315.04 670.729 1311.94 673.946 Q1308.84 677.141 1303.19 682.904 Z\" fill=\"#000000\" fill-rule=\"evenodd\" fill-opacity=\"1\" /><path clip-path=\"url(#clip630)\" d=\"M1329.37 652.28 L1347.73 652.28 L1347.73 656.215 L1333.65 656.215 L1333.65 664.687 Q1334.67 664.34 1335.69 664.178 Q1336.71 663.992 1337.73 663.992 Q1343.51 663.992 1346.89 667.164 Q1350.27 670.335 1350.27 675.752 Q1350.27 681.33 1346.8 684.432 Q1343.33 687.511 1337.01 687.511 Q1334.83 687.511 1332.57 687.14 Q1330.32 686.77 1327.91 686.029 L1327.91 681.33 Q1330 682.465 1332.22 683.02 Q1334.44 683.576 1336.92 683.576 Q1340.92 683.576 1343.26 681.469 Q1345.6 679.363 1345.6 675.752 Q1345.6 672.141 1343.26 670.034 Q1340.92 667.928 1336.92 667.928 Q1335.04 667.928 1333.17 668.344 Q1331.32 668.761 1329.37 669.641 L1329.37 652.28 Z\" fill=\"#000000\" fill-rule=\"evenodd\" fill-opacity=\"1\" /><path clip-path=\"url(#clip630)\" d=\"M1262.94 597.944 Q1259.33 597.944 1257.5 601.509 Q1255.69 605.051 1255.69 612.18 Q1255.69 619.287 1257.5 622.852 Q1259.33 626.393 1262.94 626.393 Q1266.57 626.393 1268.38 622.852 Q1270.2 619.287 1270.2 612.18 Q1270.2 605.051 1268.38 601.509 Q1266.57 597.944 1262.94 597.944 M1262.94 594.241 Q1268.75 594.241 1271.8 598.847 Q1274.88 603.43 1274.88 612.18 Q1274.88 620.907 1271.8 625.514 Q1268.75 630.097 1262.94 630.097 Q1257.13 630.097 1254.05 625.514 Q1250.99 620.907 1250.99 612.18 Q1250.99 603.43 1254.05 598.847 Q1257.13 594.241 1262.94 594.241 Z\" fill=\"#000000\" fill-rule=\"evenodd\" fill-opacity=\"1\" /><path clip-path=\"url(#clip630)\" d=\"M1283.1 623.546 L1287.98 623.546 L1287.98 629.426 L1283.1 629.426 L1283.1 623.546 Z\" fill=\"#000000\" fill-rule=\"evenodd\" fill-opacity=\"1\" /><path clip-path=\"url(#clip630)\" d=\"M1312.33 610.792 Q1315.69 611.509 1317.57 613.778 Q1319.46 616.046 1319.46 619.379 Q1319.46 624.495 1315.95 627.296 Q1312.43 630.097 1305.95 630.097 Q1303.77 630.097 1301.45 629.657 Q1299.16 629.24 1296.71 628.384 L1296.71 623.87 Q1298.65 625.004 1300.97 625.583 Q1303.28 626.162 1305.81 626.162 Q1310.2 626.162 1312.5 624.426 Q1314.81 622.69 1314.81 619.379 Q1314.81 616.324 1312.66 614.611 Q1310.53 612.875 1306.71 612.875 L1302.68 612.875 L1302.68 609.032 L1306.89 609.032 Q1310.34 609.032 1312.17 607.667 Q1314 606.278 1314 603.685 Q1314 601.023 1312.1 599.611 Q1310.23 598.176 1306.71 598.176 Q1304.79 598.176 1302.59 598.593 Q1300.39 599.009 1297.75 599.889 L1297.75 595.722 Q1300.41 594.981 1302.73 594.611 Q1305.07 594.241 1307.13 594.241 Q1312.45 594.241 1315.55 596.671 Q1318.65 599.079 1318.65 603.199 Q1318.65 606.069 1317.01 608.06 Q1315.37 610.028 1312.33 610.792 Z\" fill=\"#000000\" fill-rule=\"evenodd\" fill-opacity=\"1\" /><path clip-path=\"url(#clip630)\" d=\"M1338.33 597.944 Q1334.72 597.944 1332.89 601.509 Q1331.08 605.051 1331.08 612.18 Q1331.08 619.287 1332.89 622.852 Q1334.72 626.393 1338.33 626.393 Q1341.96 626.393 1343.77 622.852 Q1345.6 619.287 1345.6 612.18 Q1345.6 605.051 1343.77 601.509 Q1341.96 597.944 1338.33 597.944 M1338.33 594.241 Q1344.14 594.241 1347.2 598.847 Q1350.27 603.43 1350.27 612.18 Q1350.27 620.907 1347.2 625.514 Q1344.14 630.097 1338.33 630.097 Q1332.52 630.097 1329.44 625.514 Q1326.39 620.907 1326.39 612.18 Q1326.39 603.43 1329.44 598.847 Q1332.52 594.241 1338.33 594.241 Z\" fill=\"#000000\" fill-rule=\"evenodd\" fill-opacity=\"1\" /><polyline clip-path=\"url(#clip635)\" style=\"stroke:#c271d2; stroke-linecap:round; stroke-linejoin:round; stroke-width:8; stroke-opacity:1; fill:none\" stroke-dasharray=\"32, 16, 4, 16, 4, 16\" points=\"\n",
       "  1413.63,942.571 1419.56,942.212 1474.45,938.145 1507.44,934.833 1535.33,931.306 1550.47,929.031 1565.62,926.444 1579.59,923.734 1593.55,920.656 1608.52,916.873 \n",
       "  1623.49,912.489 1632.17,909.626 1640.84,906.492 1649.51,903.052 1658.19,899.268 1665.89,895.582 1673.6,891.556 1681.31,887.151 1689.02,882.323 1695.78,877.702 \n",
       "  1702.53,872.68 1709.29,867.217 1716.05,861.268 1723.42,854.17 1730.79,846.367 1738.16,837.784 1745.53,828.343 1749.23,823.244 1752.94,817.898 1756.65,812.294 \n",
       "  1760.35,806.423 1764.06,800.275 1767.77,793.842 1771.47,787.117 1775.18,780.095 1779.28,771.981 1783.38,763.499 1787.47,754.651 1791.57,745.448 1795.67,735.906 \n",
       "  1799.77,726.051 1803.86,715.916 1807.96,705.548 1815.76,685.395 1823.56,665.166 1827.46,655.245 1831.36,645.597 1835.26,636.34 1839.15,627.601 1843.21,619.208 \n",
       "  1847.26,611.667 1849.29,608.262 1851.32,605.123 1853.34,602.267 1855.37,599.709 1857.4,597.464 1859.43,595.542 1861.45,593.957 1863.48,592.715 1865.51,591.826 \n",
       "  1867.53,591.293 1869.56,591.121 1871.59,591.31 1873.29,591.748 1875,592.439 1876.71,593.381 1878.41,594.569 1880.12,595.999 1881.83,597.665 1883.53,599.56 \n",
       "  1885.24,601.677 1888.65,606.542 1892.06,612.187 1895.48,618.532 1898.89,625.49 1903.06,634.687 1907.22,644.504 1911.39,654.784 1915.56,665.382 1923.89,687.006 \n",
       "  1932.22,708.488 1939.85,727.492 1947.49,745.516 1951.31,754.096 1955.12,762.369 1958.94,770.326 1962.76,777.963 1966.28,784.733 1969.81,791.232 1973.33,797.466 \n",
       "  1976.86,803.438 1980.38,809.157 1983.91,814.63 1987.43,819.863 1990.96,824.867 1998.1,834.336 2005.24,842.971 2012.38,850.843 2019.52,858.023 2027.53,865.328 \n",
       "  2035.53,871.928 2043.53,877.901 2051.54,883.314 2058.79,887.787 2066.04,891.891 2073.3,895.662 2080.55,899.133 2088.85,902.774 2097.16,906.098 2105.46,909.139 \n",
       "  2113.76,911.925 2129.14,916.499 2144.52,920.429 2159.68,923.782 2174.84,926.703 2189.56,929.19 2204.28,931.387 2234.45,935.154 2267.52,938.403 2315.55,941.968 \n",
       "  2325.4,942.571 \n",
       "  \"/>\n",
       "<path clip-path=\"url(#clip630)\" d=\"\n",
       "M1418.49 696.675 L1556.16 696.675 L1556.16 592.995 L1418.49 592.995  Z\n",
       "  \" fill=\"#ffffff\" fill-rule=\"evenodd\" fill-opacity=\"1\"/>\n",
       "<polyline clip-path=\"url(#clip630)\" style=\"stroke:#000000; stroke-linecap:round; stroke-linejoin:round; stroke-width:4; stroke-opacity:0; fill:none\" points=\"\n",
       "  1418.49,696.675 1556.16,696.675 1556.16,592.995 1418.49,592.995 1418.49,696.675 \n",
       "  \"/>\n",
       "<polyline clip-path=\"url(#clip630)\" style=\"stroke:#c271d2; stroke-linecap:round; stroke-linejoin:round; stroke-width:8; stroke-opacity:1; fill:none\" stroke-dasharray=\"32, 16, 4, 16, 4, 16\" points=\"\n",
       "  1429.23,644.835 1493.66,644.835 \n",
       "  \"/>\n",
       "<path clip-path=\"url(#clip630)\" d=\"M1520.9 626.097 L1520.9 629.639 L1516.83 629.639 Q1514.54 629.639 1513.64 630.565 Q1512.76 631.49 1512.76 633.898 L1512.76 636.19 L1519.77 636.19 L1519.77 639.5 L1512.76 639.5 L1512.76 662.115 L1508.47 662.115 L1508.47 639.5 L1504.4 639.5 L1504.4 636.19 L1508.47 636.19 L1508.47 634.384 Q1508.47 630.055 1510.49 628.088 Q1512.5 626.097 1516.88 626.097 L1520.9 626.097 Z\" fill=\"#000000\" fill-rule=\"evenodd\" fill-opacity=\"1\" /><path clip-path=\"url(#clip630)\" d=\"M1529.1 658.18 L1545.42 658.18 L1545.42 662.115 L1523.47 662.115 L1523.47 658.18 Q1526.14 655.426 1530.72 650.796 Q1535.33 646.143 1536.51 644.801 Q1538.75 642.277 1539.63 640.541 Q1540.53 638.782 1540.53 637.092 Q1540.53 634.338 1538.59 632.602 Q1536.67 630.865 1533.57 630.865 Q1531.37 630.865 1528.91 631.629 Q1526.48 632.393 1523.71 633.944 L1523.71 629.222 Q1526.53 628.088 1528.98 627.509 Q1531.44 626.93 1533.47 626.93 Q1538.84 626.93 1542.04 629.616 Q1545.23 632.301 1545.23 636.791 Q1545.23 638.921 1544.42 640.842 Q1543.64 642.74 1541.53 645.333 Q1540.95 646.004 1537.85 649.222 Q1534.75 652.416 1529.1 658.18 Z\" fill=\"#000000\" fill-rule=\"evenodd\" fill-opacity=\"1\" /><path clip-path=\"url(#clip630)\" d=\"\n",
       "M186.274 1486.45 L1152.76 1486.45 L1152.76 1113.91 L186.274 1113.91  Z\n",
       "  \" fill=\"#ffffff\" fill-rule=\"evenodd\" fill-opacity=\"1\"/>\n",
       "<defs>\n",
       "  <clipPath id=\"clip636\">\n",
       "    <rect x=\"186\" y=\"1113\" width=\"967\" height=\"374\"/>\n",
       "  </clipPath>\n",
       "</defs>\n",
       "<polyline clip-path=\"url(#clip636)\" style=\"stroke:#000000; stroke-linecap:round; stroke-linejoin:round; stroke-width:2; stroke-opacity:0.1; fill:none\" points=\"\n",
       "  304.805,1486.45 304.805,1113.91 \n",
       "  \"/>\n",
       "<polyline clip-path=\"url(#clip636)\" style=\"stroke:#000000; stroke-linecap:round; stroke-linejoin:round; stroke-width:2; stroke-opacity:0.1; fill:none\" points=\"\n",
       "  487.16,1486.45 487.16,1113.91 \n",
       "  \"/>\n",
       "<polyline clip-path=\"url(#clip636)\" style=\"stroke:#000000; stroke-linecap:round; stroke-linejoin:round; stroke-width:2; stroke-opacity:0.1; fill:none\" points=\"\n",
       "  669.515,1486.45 669.515,1113.91 \n",
       "  \"/>\n",
       "<polyline clip-path=\"url(#clip636)\" style=\"stroke:#000000; stroke-linecap:round; stroke-linejoin:round; stroke-width:2; stroke-opacity:0.1; fill:none\" points=\"\n",
       "  851.87,1486.45 851.87,1113.91 \n",
       "  \"/>\n",
       "<polyline clip-path=\"url(#clip636)\" style=\"stroke:#000000; stroke-linecap:round; stroke-linejoin:round; stroke-width:2; stroke-opacity:0.1; fill:none\" points=\"\n",
       "  1034.23,1486.45 1034.23,1113.91 \n",
       "  \"/>\n",
       "<polyline clip-path=\"url(#clip630)\" style=\"stroke:#000000; stroke-linecap:round; stroke-linejoin:round; stroke-width:4; stroke-opacity:1; fill:none\" points=\"\n",
       "  186.274,1486.45 1152.76,1486.45 \n",
       "  \"/>\n",
       "<polyline clip-path=\"url(#clip630)\" style=\"stroke:#000000; stroke-linecap:round; stroke-linejoin:round; stroke-width:4; stroke-opacity:1; fill:none\" points=\"\n",
       "  304.805,1486.45 304.805,1467.55 \n",
       "  \"/>\n",
       "<polyline clip-path=\"url(#clip630)\" style=\"stroke:#000000; stroke-linecap:round; stroke-linejoin:round; stroke-width:4; stroke-opacity:1; fill:none\" points=\"\n",
       "  487.16,1486.45 487.16,1467.55 \n",
       "  \"/>\n",
       "<polyline clip-path=\"url(#clip630)\" style=\"stroke:#000000; stroke-linecap:round; stroke-linejoin:round; stroke-width:4; stroke-opacity:1; fill:none\" points=\"\n",
       "  669.515,1486.45 669.515,1467.55 \n",
       "  \"/>\n",
       "<polyline clip-path=\"url(#clip630)\" style=\"stroke:#000000; stroke-linecap:round; stroke-linejoin:round; stroke-width:4; stroke-opacity:1; fill:none\" points=\"\n",
       "  851.87,1486.45 851.87,1467.55 \n",
       "  \"/>\n",
       "<polyline clip-path=\"url(#clip630)\" style=\"stroke:#000000; stroke-linecap:round; stroke-linejoin:round; stroke-width:4; stroke-opacity:1; fill:none\" points=\"\n",
       "  1034.23,1486.45 1034.23,1467.55 \n",
       "  \"/>\n",
       "<path clip-path=\"url(#clip630)\" d=\"M273.705 1532.02 L303.381 1532.02 L303.381 1535.95 L273.705 1535.95 L273.705 1532.02 Z\" fill=\"#000000\" fill-rule=\"evenodd\" fill-opacity=\"1\" /><path clip-path=\"url(#clip630)\" d=\"M326.321 1518.36 L314.515 1536.81 L326.321 1536.81 L326.321 1518.36 M325.094 1514.29 L330.974 1514.29 L330.974 1536.81 L335.904 1536.81 L335.904 1540.7 L330.974 1540.7 L330.974 1548.85 L326.321 1548.85 L326.321 1540.7 L310.719 1540.7 L310.719 1536.19 L325.094 1514.29 Z\" fill=\"#000000\" fill-rule=\"evenodd\" fill-opacity=\"1\" /><path clip-path=\"url(#clip630)\" d=\"M457.102 1532.02 L486.778 1532.02 L486.778 1535.95 L457.102 1535.95 L457.102 1532.02 Z\" fill=\"#000000\" fill-rule=\"evenodd\" fill-opacity=\"1\" /><path clip-path=\"url(#clip630)\" d=\"M500.898 1544.91 L517.218 1544.91 L517.218 1548.85 L495.273 1548.85 L495.273 1544.91 Q497.935 1542.16 502.519 1537.53 Q507.125 1532.88 508.306 1531.53 Q510.551 1529.01 511.431 1527.27 Q512.333 1525.51 512.333 1523.82 Q512.333 1521.07 510.389 1519.33 Q508.468 1517.6 505.366 1517.6 Q503.167 1517.6 500.713 1518.36 Q498.283 1519.13 495.505 1520.68 L495.505 1515.95 Q498.329 1514.82 500.782 1514.24 Q503.236 1513.66 505.273 1513.66 Q510.644 1513.66 513.838 1516.35 Q517.032 1519.03 517.032 1523.52 Q517.032 1525.65 516.222 1527.57 Q515.435 1529.47 513.329 1532.07 Q512.75 1532.74 509.648 1535.95 Q506.546 1539.15 500.898 1544.91 Z\" fill=\"#000000\" fill-rule=\"evenodd\" fill-opacity=\"1\" /><path clip-path=\"url(#clip630)\" d=\"M669.515 1517.37 Q665.904 1517.37 664.075 1520.93 Q662.27 1524.47 662.27 1531.6 Q662.27 1538.71 664.075 1542.27 Q665.904 1545.82 669.515 1545.82 Q673.149 1545.82 674.955 1542.27 Q676.783 1538.71 676.783 1531.6 Q676.783 1524.47 674.955 1520.93 Q673.149 1517.37 669.515 1517.37 M669.515 1513.66 Q675.325 1513.66 678.381 1518.27 Q681.459 1522.85 681.459 1531.6 Q681.459 1540.33 678.381 1544.94 Q675.325 1549.52 669.515 1549.52 Q663.705 1549.52 660.626 1544.94 Q657.571 1540.33 657.571 1531.6 Q657.571 1522.85 660.626 1518.27 Q663.705 1513.66 669.515 1513.66 Z\" fill=\"#000000\" fill-rule=\"evenodd\" fill-opacity=\"1\" /><path clip-path=\"url(#clip630)\" d=\"M846.523 1544.91 L862.842 1544.91 L862.842 1548.85 L840.898 1548.85 L840.898 1544.91 Q843.56 1542.16 848.143 1537.53 Q852.75 1532.88 853.93 1531.53 Q856.176 1529.01 857.055 1527.27 Q857.958 1525.51 857.958 1523.82 Q857.958 1521.07 856.014 1519.33 Q854.092 1517.6 850.99 1517.6 Q848.791 1517.6 846.338 1518.36 Q843.907 1519.13 841.129 1520.68 L841.129 1515.95 Q843.953 1514.82 846.407 1514.24 Q848.861 1513.66 850.898 1513.66 Q856.268 1513.66 859.463 1516.35 Q862.657 1519.03 862.657 1523.52 Q862.657 1525.65 861.847 1527.57 Q861.06 1529.47 858.953 1532.07 Q858.375 1532.74 855.273 1535.95 Q852.171 1539.15 846.523 1544.91 Z\" fill=\"#000000\" fill-rule=\"evenodd\" fill-opacity=\"1\" /><path clip-path=\"url(#clip630)\" d=\"M1037.23 1518.36 L1025.43 1536.81 L1037.23 1536.81 L1037.23 1518.36 M1036.01 1514.29 L1041.89 1514.29 L1041.89 1536.81 L1046.82 1536.81 L1046.82 1540.7 L1041.89 1540.7 L1041.89 1548.85 L1037.23 1548.85 L1037.23 1540.7 L1021.63 1540.7 L1021.63 1536.19 L1036.01 1514.29 Z\" fill=\"#000000\" fill-rule=\"evenodd\" fill-opacity=\"1\" /><polyline clip-path=\"url(#clip636)\" style=\"stroke:#000000; stroke-linecap:round; stroke-linejoin:round; stroke-width:2; stroke-opacity:0.1; fill:none\" points=\"\n",
       "  186.274,1475.9 1152.76,1475.9 \n",
       "  \"/>\n",
       "<polyline clip-path=\"url(#clip636)\" style=\"stroke:#000000; stroke-linecap:round; stroke-linejoin:round; stroke-width:2; stroke-opacity:0.1; fill:none\" points=\"\n",
       "  186.274,1364.77 1152.76,1364.77 \n",
       "  \"/>\n",
       "<polyline clip-path=\"url(#clip636)\" style=\"stroke:#000000; stroke-linecap:round; stroke-linejoin:round; stroke-width:2; stroke-opacity:0.1; fill:none\" points=\"\n",
       "  186.274,1253.63 1152.76,1253.63 \n",
       "  \"/>\n",
       "<polyline clip-path=\"url(#clip636)\" style=\"stroke:#000000; stroke-linecap:round; stroke-linejoin:round; stroke-width:2; stroke-opacity:0.1; fill:none\" points=\"\n",
       "  186.274,1142.5 1152.76,1142.5 \n",
       "  \"/>\n",
       "<polyline clip-path=\"url(#clip630)\" style=\"stroke:#000000; stroke-linecap:round; stroke-linejoin:round; stroke-width:4; stroke-opacity:1; fill:none\" points=\"\n",
       "  186.274,1486.45 186.274,1113.91 \n",
       "  \"/>\n",
       "<polyline clip-path=\"url(#clip630)\" style=\"stroke:#000000; stroke-linecap:round; stroke-linejoin:round; stroke-width:4; stroke-opacity:1; fill:none\" points=\"\n",
       "  186.274,1475.9 205.172,1475.9 \n",
       "  \"/>\n",
       "<polyline clip-path=\"url(#clip630)\" style=\"stroke:#000000; stroke-linecap:round; stroke-linejoin:round; stroke-width:4; stroke-opacity:1; fill:none\" points=\"\n",
       "  186.274,1364.77 205.172,1364.77 \n",
       "  \"/>\n",
       "<polyline clip-path=\"url(#clip630)\" style=\"stroke:#000000; stroke-linecap:round; stroke-linejoin:round; stroke-width:4; stroke-opacity:1; fill:none\" points=\"\n",
       "  186.274,1253.63 205.172,1253.63 \n",
       "  \"/>\n",
       "<polyline clip-path=\"url(#clip630)\" style=\"stroke:#000000; stroke-linecap:round; stroke-linejoin:round; stroke-width:4; stroke-opacity:1; fill:none\" points=\"\n",
       "  186.274,1142.5 205.172,1142.5 \n",
       "  \"/>\n",
       "<path clip-path=\"url(#clip630)\" d=\"M93.0984 1461.7 Q89.4873 1461.7 87.6586 1465.27 Q85.8531 1468.81 85.8531 1475.94 Q85.8531 1483.05 87.6586 1486.61 Q89.4873 1490.15 93.0984 1490.15 Q96.7326 1490.15 98.5382 1486.61 Q100.367 1483.05 100.367 1475.94 Q100.367 1468.81 98.5382 1465.27 Q96.7326 1461.7 93.0984 1461.7 M93.0984 1458 Q98.9085 1458 101.964 1462.61 Q105.043 1467.19 105.043 1475.94 Q105.043 1484.67 101.964 1489.27 Q98.9085 1493.86 93.0984 1493.86 Q87.2882 1493.86 84.2095 1489.27 Q81.154 1484.67 81.154 1475.94 Q81.154 1467.19 84.2095 1462.61 Q87.2882 1458 93.0984 1458 Z\" fill=\"#000000\" fill-rule=\"evenodd\" fill-opacity=\"1\" /><path clip-path=\"url(#clip630)\" d=\"M113.26 1487.3 L118.145 1487.3 L118.145 1493.18 L113.26 1493.18 L113.26 1487.3 Z\" fill=\"#000000\" fill-rule=\"evenodd\" fill-opacity=\"1\" /><path clip-path=\"url(#clip630)\" d=\"M138.33 1461.7 Q134.719 1461.7 132.89 1465.27 Q131.084 1468.81 131.084 1475.94 Q131.084 1483.05 132.89 1486.61 Q134.719 1490.15 138.33 1490.15 Q141.964 1490.15 143.769 1486.61 Q145.598 1483.05 145.598 1475.94 Q145.598 1468.81 143.769 1465.27 Q141.964 1461.7 138.33 1461.7 M138.33 1458 Q144.14 1458 147.195 1462.61 Q150.274 1467.19 150.274 1475.94 Q150.274 1484.67 147.195 1489.27 Q144.14 1493.86 138.33 1493.86 Q132.519 1493.86 129.441 1489.27 Q126.385 1484.67 126.385 1475.94 Q126.385 1467.19 129.441 1462.61 Q132.519 1458 138.33 1458 Z\" fill=\"#000000\" fill-rule=\"evenodd\" fill-opacity=\"1\" /><path clip-path=\"url(#clip630)\" d=\"M94.0937 1350.57 Q90.4827 1350.57 88.654 1354.13 Q86.8484 1357.67 86.8484 1364.8 Q86.8484 1371.91 88.654 1375.48 Q90.4827 1379.02 94.0937 1379.02 Q97.728 1379.02 99.5335 1375.48 Q101.362 1371.91 101.362 1364.8 Q101.362 1357.67 99.5335 1354.13 Q97.728 1350.57 94.0937 1350.57 M94.0937 1346.86 Q99.9039 1346.86 102.959 1351.47 Q106.038 1356.05 106.038 1364.8 Q106.038 1373.53 102.959 1378.14 Q99.9039 1382.72 94.0937 1382.72 Q88.2836 1382.72 85.2049 1378.14 Q82.1494 1373.53 82.1494 1364.8 Q82.1494 1356.05 85.2049 1351.47 Q88.2836 1346.86 94.0937 1346.86 Z\" fill=\"#000000\" fill-rule=\"evenodd\" fill-opacity=\"1\" /><path clip-path=\"url(#clip630)\" d=\"M114.256 1376.17 L119.14 1376.17 L119.14 1382.05 L114.256 1382.05 L114.256 1376.17 Z\" fill=\"#000000\" fill-rule=\"evenodd\" fill-opacity=\"1\" /><path clip-path=\"url(#clip630)\" d=\"M129.371 1347.49 L147.728 1347.49 L147.728 1351.42 L133.654 1351.42 L133.654 1359.9 Q134.672 1359.55 135.691 1359.39 Q136.709 1359.2 137.728 1359.2 Q143.515 1359.2 146.894 1362.37 Q150.274 1365.54 150.274 1370.96 Q150.274 1376.54 146.802 1379.64 Q143.33 1382.72 137.01 1382.72 Q134.834 1382.72 132.566 1382.35 Q130.32 1381.98 127.913 1381.24 L127.913 1376.54 Q129.996 1377.67 132.219 1378.23 Q134.441 1378.79 136.918 1378.79 Q140.922 1378.79 143.26 1376.68 Q145.598 1374.57 145.598 1370.96 Q145.598 1367.35 143.26 1365.24 Q140.922 1363.14 136.918 1363.14 Q135.043 1363.14 133.168 1363.55 Q131.316 1363.97 129.371 1364.85 L129.371 1347.49 Z\" fill=\"#000000\" fill-rule=\"evenodd\" fill-opacity=\"1\" /><path clip-path=\"url(#clip630)\" d=\"M83.9086 1266.98 L91.5475 1266.98 L91.5475 1240.61 L83.2373 1242.28 L83.2373 1238.02 L91.5012 1236.35 L96.1771 1236.35 L96.1771 1266.98 L103.816 1266.98 L103.816 1270.91 L83.9086 1270.91 L83.9086 1266.98 Z\" fill=\"#000000\" fill-rule=\"evenodd\" fill-opacity=\"1\" /><path clip-path=\"url(#clip630)\" d=\"M113.26 1265.03 L118.145 1265.03 L118.145 1270.91 L113.26 1270.91 L113.26 1265.03 Z\" fill=\"#000000\" fill-rule=\"evenodd\" fill-opacity=\"1\" /><path clip-path=\"url(#clip630)\" d=\"M138.33 1239.43 Q134.719 1239.43 132.89 1243 Q131.084 1246.54 131.084 1253.67 Q131.084 1260.78 132.89 1264.34 Q134.719 1267.88 138.33 1267.88 Q141.964 1267.88 143.769 1264.34 Q145.598 1260.78 145.598 1253.67 Q145.598 1246.54 143.769 1243 Q141.964 1239.43 138.33 1239.43 M138.33 1235.73 Q144.14 1235.73 147.195 1240.34 Q150.274 1244.92 150.274 1253.67 Q150.274 1262.4 147.195 1267 Q144.14 1271.59 138.33 1271.59 Q132.519 1271.59 129.441 1267 Q126.385 1262.4 126.385 1253.67 Q126.385 1244.92 129.441 1240.34 Q132.519 1235.73 138.33 1235.73 Z\" fill=\"#000000\" fill-rule=\"evenodd\" fill-opacity=\"1\" /><path clip-path=\"url(#clip630)\" d=\"M84.904 1155.84 L92.5428 1155.84 L92.5428 1129.48 L84.2327 1131.14 L84.2327 1126.89 L92.4965 1125.22 L97.1724 1125.22 L97.1724 1155.84 L104.811 1155.84 L104.811 1159.78 L84.904 1159.78 L84.904 1155.84 Z\" fill=\"#000000\" fill-rule=\"evenodd\" fill-opacity=\"1\" /><path clip-path=\"url(#clip630)\" d=\"M114.256 1153.9 L119.14 1153.9 L119.14 1159.78 L114.256 1159.78 L114.256 1153.9 Z\" fill=\"#000000\" fill-rule=\"evenodd\" fill-opacity=\"1\" /><path clip-path=\"url(#clip630)\" d=\"M129.371 1125.22 L147.728 1125.22 L147.728 1129.15 L133.654 1129.15 L133.654 1137.63 Q134.672 1137.28 135.691 1137.12 Q136.709 1136.93 137.728 1136.93 Q143.515 1136.93 146.894 1140.1 Q150.274 1143.27 150.274 1148.69 Q150.274 1154.27 146.802 1157.37 Q143.33 1160.45 137.01 1160.45 Q134.834 1160.45 132.566 1160.08 Q130.32 1159.71 127.913 1158.97 L127.913 1154.27 Q129.996 1155.4 132.219 1155.96 Q134.441 1156.52 136.918 1156.52 Q140.922 1156.52 143.26 1154.41 Q145.598 1152.3 145.598 1148.69 Q145.598 1145.08 143.26 1142.97 Q140.922 1140.87 136.918 1140.87 Q135.043 1140.87 133.168 1141.28 Q131.316 1141.7 129.371 1142.58 L129.371 1125.22 Z\" fill=\"#000000\" fill-rule=\"evenodd\" fill-opacity=\"1\" /><polyline clip-path=\"url(#clip636)\" style=\"stroke:#ac8d18; stroke-linecap:round; stroke-linejoin:round; stroke-width:8; stroke-opacity:1; fill:none\" stroke-dasharray=\"32, 16, 4, 16, 4, 16\" points=\"\n",
       "  213.627,1475.9 219.563,1475.9 274.452,1475.9 307.437,1475.9 335.326,1475.9 365.621,1475.9 393.551,1475.9 423.494,1475.9 458.187,1475.9 489.017,1475.9 \n",
       "  516.052,1475.9 545.528,1475.9 575.179,1475.9 591.571,1475.9 607.963,1475.9 623.559,1475.9 639.155,1475.9 647.263,1475.9 655.371,1475.9 659.425,1475.9 \n",
       "  663.479,1475.9 664.493,1475.9 665.507,1475.9 666.52,1475.9 667.534,1475.9 668.04,1475.9 668.547,1475.9 668.8,1475.9 669.054,1475.9 669.307,1475.9 \n",
       "  669.561,1124.45 669.814,1125.43 670.067,1126.4 670.321,1127.37 670.574,1128.34 671.081,1130.27 671.588,1132.18 673.294,1138.55 675,1144.81 676.707,1150.95 \n",
       "  678.413,1156.97 681.826,1168.69 685.238,1179.98 688.651,1190.85 692.064,1201.32 695.476,1211.41 698.889,1221.12 703.056,1232.5 707.222,1243.38 711.389,1253.76 \n",
       "  715.555,1263.69 719.722,1273.17 723.888,1282.22 728.055,1290.87 732.221,1299.14 736.038,1306.38 739.855,1313.33 743.672,1320 747.488,1326.39 751.305,1332.52 \n",
       "  755.122,1338.4 756.076,1339.83 757.03,1341.25 757.984,1342.65 758.939,1344.04 759.416,1344.72 759.893,1345.41 760.131,1345.75 760.37,1346.09 760.608,1346.43 \n",
       "  760.847,1475.9 761.086,1475.9 761.324,1475.9 761.563,1475.9 761.801,1475.9 762.278,1475.9 762.755,1475.9 764.518,1475.9 766.28,1475.9 768.043,1475.9 \n",
       "  769.806,1475.9 773.331,1475.9 776.856,1475.9 783.906,1475.9 790.956,1475.9 805.239,1475.9 819.523,1475.9 851.538,1475.9 880.548,1475.9 913.764,1475.9 \n",
       "  944.518,1475.9 974.838,1475.9 1004.28,1475.9 1034.45,1475.9 1067.52,1475.9 1115.55,1475.9 1125.4,1475.9 \n",
       "  \"/>\n",
       "<path clip-path=\"url(#clip630)\" d=\"\n",
       "M218.49 1230.01 L357.106 1230.01 L357.106 1126.33 L218.49 1126.33  Z\n",
       "  \" fill=\"#ffffff\" fill-rule=\"evenodd\" fill-opacity=\"1\"/>\n",
       "<polyline clip-path=\"url(#clip630)\" style=\"stroke:#000000; stroke-linecap:round; stroke-linejoin:round; stroke-width:4; stroke-opacity:0; fill:none\" points=\"\n",
       "  218.49,1230.01 357.106,1230.01 357.106,1126.33 218.49,1126.33 218.49,1230.01 \n",
       "  \"/>\n",
       "<polyline clip-path=\"url(#clip630)\" style=\"stroke:#ac8d18; stroke-linecap:round; stroke-linejoin:round; stroke-width:8; stroke-opacity:1; fill:none\" stroke-dasharray=\"32, 16, 4, 16, 4, 16\" points=\"\n",
       "  229.229,1178.17 293.661,1178.17 \n",
       "  \"/>\n",
       "<path clip-path=\"url(#clip630)\" d=\"M320.904 1159.43 L320.904 1162.97 L316.83 1162.97 Q314.538 1162.97 313.636 1163.9 Q312.756 1164.82 312.756 1167.23 L312.756 1169.52 L319.77 1169.52 L319.77 1172.83 L312.756 1172.83 L312.756 1195.45 L308.474 1195.45 L308.474 1172.83 L304.4 1172.83 L304.4 1169.52 L308.474 1169.52 L308.474 1167.72 Q308.474 1163.39 310.487 1161.42 Q312.501 1159.43 316.876 1159.43 L320.904 1159.43 Z\" fill=\"#000000\" fill-rule=\"evenodd\" fill-opacity=\"1\" /><path clip-path=\"url(#clip630)\" d=\"M339.237 1176.81 Q342.594 1177.53 344.469 1179.8 Q346.367 1182.07 346.367 1185.4 Q346.367 1190.52 342.848 1193.32 Q339.33 1196.12 332.848 1196.12 Q330.673 1196.12 328.358 1195.68 Q326.066 1195.26 323.612 1194.41 L323.612 1189.89 Q325.557 1191.03 327.872 1191.61 Q330.186 1192.18 332.71 1192.18 Q337.108 1192.18 339.399 1190.45 Q341.714 1188.71 341.714 1185.4 Q341.714 1182.35 339.561 1180.63 Q337.432 1178.9 333.612 1178.9 L329.585 1178.9 L329.585 1175.06 L333.798 1175.06 Q337.247 1175.06 339.075 1173.69 Q340.904 1172.3 340.904 1169.71 Q340.904 1167.05 339.006 1165.63 Q337.131 1164.2 333.612 1164.2 Q331.691 1164.2 329.492 1164.62 Q327.293 1165.03 324.654 1165.91 L324.654 1161.75 Q327.316 1161 329.631 1160.63 Q331.969 1160.26 334.029 1160.26 Q339.353 1160.26 342.455 1162.69 Q345.557 1165.1 345.557 1169.22 Q345.557 1172.09 343.913 1174.08 Q342.27 1176.05 339.237 1176.81 Z\" fill=\"#000000\" fill-rule=\"evenodd\" fill-opacity=\"1\" /><path clip-path=\"url(#clip630)\" d=\"\n",
       "M1386.27 1486.45 L2352.76 1486.45 L2352.76 1113.91 L1386.27 1113.91  Z\n",
       "  \" fill=\"#ffffff\" fill-rule=\"evenodd\" fill-opacity=\"1\"/>\n",
       "<defs>\n",
       "  <clipPath id=\"clip637\">\n",
       "    <rect x=\"1386\" y=\"1113\" width=\"967\" height=\"374\"/>\n",
       "  </clipPath>\n",
       "</defs>\n",
       "<polyline clip-path=\"url(#clip637)\" style=\"stroke:#000000; stroke-linecap:round; stroke-linejoin:round; stroke-width:2; stroke-opacity:0.1; fill:none\" points=\"\n",
       "  1504.8,1486.45 1504.8,1113.91 \n",
       "  \"/>\n",
       "<polyline clip-path=\"url(#clip637)\" style=\"stroke:#000000; stroke-linecap:round; stroke-linejoin:round; stroke-width:2; stroke-opacity:0.1; fill:none\" points=\"\n",
       "  1687.16,1486.45 1687.16,1113.91 \n",
       "  \"/>\n",
       "<polyline clip-path=\"url(#clip637)\" style=\"stroke:#000000; stroke-linecap:round; stroke-linejoin:round; stroke-width:2; stroke-opacity:0.1; fill:none\" points=\"\n",
       "  1869.51,1486.45 1869.51,1113.91 \n",
       "  \"/>\n",
       "<polyline clip-path=\"url(#clip637)\" style=\"stroke:#000000; stroke-linecap:round; stroke-linejoin:round; stroke-width:2; stroke-opacity:0.1; fill:none\" points=\"\n",
       "  2051.87,1486.45 2051.87,1113.91 \n",
       "  \"/>\n",
       "<polyline clip-path=\"url(#clip637)\" style=\"stroke:#000000; stroke-linecap:round; stroke-linejoin:round; stroke-width:2; stroke-opacity:0.1; fill:none\" points=\"\n",
       "  2234.23,1486.45 2234.23,1113.91 \n",
       "  \"/>\n",
       "<polyline clip-path=\"url(#clip630)\" style=\"stroke:#000000; stroke-linecap:round; stroke-linejoin:round; stroke-width:4; stroke-opacity:1; fill:none\" points=\"\n",
       "  1386.27,1486.45 2352.76,1486.45 \n",
       "  \"/>\n",
       "<polyline clip-path=\"url(#clip630)\" style=\"stroke:#000000; stroke-linecap:round; stroke-linejoin:round; stroke-width:4; stroke-opacity:1; fill:none\" points=\"\n",
       "  1504.8,1486.45 1504.8,1467.55 \n",
       "  \"/>\n",
       "<polyline clip-path=\"url(#clip630)\" style=\"stroke:#000000; stroke-linecap:round; stroke-linejoin:round; stroke-width:4; stroke-opacity:1; fill:none\" points=\"\n",
       "  1687.16,1486.45 1687.16,1467.55 \n",
       "  \"/>\n",
       "<polyline clip-path=\"url(#clip630)\" style=\"stroke:#000000; stroke-linecap:round; stroke-linejoin:round; stroke-width:4; stroke-opacity:1; fill:none\" points=\"\n",
       "  1869.51,1486.45 1869.51,1467.55 \n",
       "  \"/>\n",
       "<polyline clip-path=\"url(#clip630)\" style=\"stroke:#000000; stroke-linecap:round; stroke-linejoin:round; stroke-width:4; stroke-opacity:1; fill:none\" points=\"\n",
       "  2051.87,1486.45 2051.87,1467.55 \n",
       "  \"/>\n",
       "<polyline clip-path=\"url(#clip630)\" style=\"stroke:#000000; stroke-linecap:round; stroke-linejoin:round; stroke-width:4; stroke-opacity:1; fill:none\" points=\"\n",
       "  2234.23,1486.45 2234.23,1467.55 \n",
       "  \"/>\n",
       "<path clip-path=\"url(#clip630)\" d=\"M1473.71 1532.02 L1503.38 1532.02 L1503.38 1535.95 L1473.71 1535.95 L1473.71 1532.02 Z\" fill=\"#000000\" fill-rule=\"evenodd\" fill-opacity=\"1\" /><path clip-path=\"url(#clip630)\" d=\"M1526.32 1518.36 L1514.52 1536.81 L1526.32 1536.81 L1526.32 1518.36 M1525.09 1514.29 L1530.97 1514.29 L1530.97 1536.81 L1535.9 1536.81 L1535.9 1540.7 L1530.97 1540.7 L1530.97 1548.85 L1526.32 1548.85 L1526.32 1540.7 L1510.72 1540.7 L1510.72 1536.19 L1525.09 1514.29 Z\" fill=\"#000000\" fill-rule=\"evenodd\" fill-opacity=\"1\" /><path clip-path=\"url(#clip630)\" d=\"M1657.1 1532.02 L1686.78 1532.02 L1686.78 1535.95 L1657.1 1535.95 L1657.1 1532.02 Z\" fill=\"#000000\" fill-rule=\"evenodd\" fill-opacity=\"1\" /><path clip-path=\"url(#clip630)\" d=\"M1700.9 1544.91 L1717.22 1544.91 L1717.22 1548.85 L1695.27 1548.85 L1695.27 1544.91 Q1697.94 1542.16 1702.52 1537.53 Q1707.13 1532.88 1708.31 1531.53 Q1710.55 1529.01 1711.43 1527.27 Q1712.33 1525.51 1712.33 1523.82 Q1712.33 1521.07 1710.39 1519.33 Q1708.47 1517.6 1705.37 1517.6 Q1703.17 1517.6 1700.71 1518.36 Q1698.28 1519.13 1695.5 1520.68 L1695.5 1515.95 Q1698.33 1514.82 1700.78 1514.24 Q1703.24 1513.66 1705.27 1513.66 Q1710.64 1513.66 1713.84 1516.35 Q1717.03 1519.03 1717.03 1523.52 Q1717.03 1525.65 1716.22 1527.57 Q1715.44 1529.47 1713.33 1532.07 Q1712.75 1532.74 1709.65 1535.95 Q1706.55 1539.15 1700.9 1544.91 Z\" fill=\"#000000\" fill-rule=\"evenodd\" fill-opacity=\"1\" /><path clip-path=\"url(#clip630)\" d=\"M1869.51 1517.37 Q1865.9 1517.37 1864.08 1520.93 Q1862.27 1524.47 1862.27 1531.6 Q1862.27 1538.71 1864.08 1542.27 Q1865.9 1545.82 1869.51 1545.82 Q1873.15 1545.82 1874.95 1542.27 Q1876.78 1538.71 1876.78 1531.6 Q1876.78 1524.47 1874.95 1520.93 Q1873.15 1517.37 1869.51 1517.37 M1869.51 1513.66 Q1875.33 1513.66 1878.38 1518.27 Q1881.46 1522.85 1881.46 1531.6 Q1881.46 1540.33 1878.38 1544.94 Q1875.33 1549.52 1869.51 1549.52 Q1863.7 1549.52 1860.63 1544.94 Q1857.57 1540.33 1857.57 1531.6 Q1857.57 1522.85 1860.63 1518.27 Q1863.7 1513.66 1869.51 1513.66 Z\" fill=\"#000000\" fill-rule=\"evenodd\" fill-opacity=\"1\" /><path clip-path=\"url(#clip630)\" d=\"M2046.52 1544.91 L2062.84 1544.91 L2062.84 1548.85 L2040.9 1548.85 L2040.9 1544.91 Q2043.56 1542.16 2048.14 1537.53 Q2052.75 1532.88 2053.93 1531.53 Q2056.18 1529.01 2057.06 1527.27 Q2057.96 1525.51 2057.96 1523.82 Q2057.96 1521.07 2056.01 1519.33 Q2054.09 1517.6 2050.99 1517.6 Q2048.79 1517.6 2046.34 1518.36 Q2043.91 1519.13 2041.13 1520.68 L2041.13 1515.95 Q2043.95 1514.82 2046.41 1514.24 Q2048.86 1513.66 2050.9 1513.66 Q2056.27 1513.66 2059.46 1516.35 Q2062.66 1519.03 2062.66 1523.52 Q2062.66 1525.65 2061.85 1527.57 Q2061.06 1529.47 2058.95 1532.07 Q2058.37 1532.74 2055.27 1535.95 Q2052.17 1539.15 2046.52 1544.91 Z\" fill=\"#000000\" fill-rule=\"evenodd\" fill-opacity=\"1\" /><path clip-path=\"url(#clip630)\" d=\"M2237.23 1518.36 L2225.43 1536.81 L2237.23 1536.81 L2237.23 1518.36 M2236.01 1514.29 L2241.89 1514.29 L2241.89 1536.81 L2246.82 1536.81 L2246.82 1540.7 L2241.89 1540.7 L2241.89 1548.85 L2237.23 1548.85 L2237.23 1540.7 L2221.63 1540.7 L2221.63 1536.19 L2236.01 1514.29 Z\" fill=\"#000000\" fill-rule=\"evenodd\" fill-opacity=\"1\" /><polyline clip-path=\"url(#clip637)\" style=\"stroke:#000000; stroke-linecap:round; stroke-linejoin:round; stroke-width:2; stroke-opacity:0.1; fill:none\" points=\"\n",
       "  1386.27,1475.9 2352.76,1475.9 \n",
       "  \"/>\n",
       "<polyline clip-path=\"url(#clip637)\" style=\"stroke:#000000; stroke-linecap:round; stroke-linejoin:round; stroke-width:2; stroke-opacity:0.1; fill:none\" points=\"\n",
       "  1386.27,1420.7 2352.76,1420.7 \n",
       "  \"/>\n",
       "<polyline clip-path=\"url(#clip637)\" style=\"stroke:#000000; stroke-linecap:round; stroke-linejoin:round; stroke-width:2; stroke-opacity:0.1; fill:none\" points=\"\n",
       "  1386.27,1365.49 2352.76,1365.49 \n",
       "  \"/>\n",
       "<polyline clip-path=\"url(#clip637)\" style=\"stroke:#000000; stroke-linecap:round; stroke-linejoin:round; stroke-width:2; stroke-opacity:0.1; fill:none\" points=\"\n",
       "  1386.27,1310.29 2352.76,1310.29 \n",
       "  \"/>\n",
       "<polyline clip-path=\"url(#clip637)\" style=\"stroke:#000000; stroke-linecap:round; stroke-linejoin:round; stroke-width:2; stroke-opacity:0.1; fill:none\" points=\"\n",
       "  1386.27,1255.08 2352.76,1255.08 \n",
       "  \"/>\n",
       "<polyline clip-path=\"url(#clip637)\" style=\"stroke:#000000; stroke-linecap:round; stroke-linejoin:round; stroke-width:2; stroke-opacity:0.1; fill:none\" points=\"\n",
       "  1386.27,1199.88 2352.76,1199.88 \n",
       "  \"/>\n",
       "<polyline clip-path=\"url(#clip637)\" style=\"stroke:#000000; stroke-linecap:round; stroke-linejoin:round; stroke-width:2; stroke-opacity:0.1; fill:none\" points=\"\n",
       "  1386.27,1144.67 2352.76,1144.67 \n",
       "  \"/>\n",
       "<polyline clip-path=\"url(#clip630)\" style=\"stroke:#000000; stroke-linecap:round; stroke-linejoin:round; stroke-width:4; stroke-opacity:1; fill:none\" points=\"\n",
       "  1386.27,1486.45 1386.27,1113.91 \n",
       "  \"/>\n",
       "<polyline clip-path=\"url(#clip630)\" style=\"stroke:#000000; stroke-linecap:round; stroke-linejoin:round; stroke-width:4; stroke-opacity:1; fill:none\" points=\"\n",
       "  1386.27,1475.9 1405.17,1475.9 \n",
       "  \"/>\n",
       "<polyline clip-path=\"url(#clip630)\" style=\"stroke:#000000; stroke-linecap:round; stroke-linejoin:round; stroke-width:4; stroke-opacity:1; fill:none\" points=\"\n",
       "  1386.27,1420.7 1405.17,1420.7 \n",
       "  \"/>\n",
       "<polyline clip-path=\"url(#clip630)\" style=\"stroke:#000000; stroke-linecap:round; stroke-linejoin:round; stroke-width:4; stroke-opacity:1; fill:none\" points=\"\n",
       "  1386.27,1365.49 1405.17,1365.49 \n",
       "  \"/>\n",
       "<polyline clip-path=\"url(#clip630)\" style=\"stroke:#000000; stroke-linecap:round; stroke-linejoin:round; stroke-width:4; stroke-opacity:1; fill:none\" points=\"\n",
       "  1386.27,1310.29 1405.17,1310.29 \n",
       "  \"/>\n",
       "<polyline clip-path=\"url(#clip630)\" style=\"stroke:#000000; stroke-linecap:round; stroke-linejoin:round; stroke-width:4; stroke-opacity:1; fill:none\" points=\"\n",
       "  1386.27,1255.08 1405.17,1255.08 \n",
       "  \"/>\n",
       "<polyline clip-path=\"url(#clip630)\" style=\"stroke:#000000; stroke-linecap:round; stroke-linejoin:round; stroke-width:4; stroke-opacity:1; fill:none\" points=\"\n",
       "  1386.27,1199.88 1405.17,1199.88 \n",
       "  \"/>\n",
       "<polyline clip-path=\"url(#clip630)\" style=\"stroke:#000000; stroke-linecap:round; stroke-linejoin:round; stroke-width:4; stroke-opacity:1; fill:none\" points=\"\n",
       "  1386.27,1144.67 1405.17,1144.67 \n",
       "  \"/>\n",
       "<path clip-path=\"url(#clip630)\" d=\"M1293.1 1461.7 Q1289.49 1461.7 1287.66 1465.27 Q1285.85 1468.81 1285.85 1475.94 Q1285.85 1483.05 1287.66 1486.61 Q1289.49 1490.15 1293.1 1490.15 Q1296.73 1490.15 1298.54 1486.61 Q1300.37 1483.05 1300.37 1475.94 Q1300.37 1468.81 1298.54 1465.27 Q1296.73 1461.7 1293.1 1461.7 M1293.1 1458 Q1298.91 1458 1301.96 1462.61 Q1305.04 1467.19 1305.04 1475.94 Q1305.04 1484.67 1301.96 1489.27 Q1298.91 1493.86 1293.1 1493.86 Q1287.29 1493.86 1284.21 1489.27 Q1281.15 1484.67 1281.15 1475.94 Q1281.15 1467.19 1284.21 1462.61 Q1287.29 1458 1293.1 1458 Z\" fill=\"#000000\" fill-rule=\"evenodd\" fill-opacity=\"1\" /><path clip-path=\"url(#clip630)\" d=\"M1313.26 1487.3 L1318.14 1487.3 L1318.14 1493.18 L1313.26 1493.18 L1313.26 1487.3 Z\" fill=\"#000000\" fill-rule=\"evenodd\" fill-opacity=\"1\" /><path clip-path=\"url(#clip630)\" d=\"M1338.33 1461.7 Q1334.72 1461.7 1332.89 1465.27 Q1331.08 1468.81 1331.08 1475.94 Q1331.08 1483.05 1332.89 1486.61 Q1334.72 1490.15 1338.33 1490.15 Q1341.96 1490.15 1343.77 1486.61 Q1345.6 1483.05 1345.6 1475.94 Q1345.6 1468.81 1343.77 1465.27 Q1341.96 1461.7 1338.33 1461.7 M1338.33 1458 Q1344.14 1458 1347.2 1462.61 Q1350.27 1467.19 1350.27 1475.94 Q1350.27 1484.67 1347.2 1489.27 Q1344.14 1493.86 1338.33 1493.86 Q1332.52 1493.86 1329.44 1489.27 Q1326.39 1484.67 1326.39 1475.94 Q1326.39 1467.19 1329.44 1462.61 Q1332.52 1458 1338.33 1458 Z\" fill=\"#000000\" fill-rule=\"evenodd\" fill-opacity=\"1\" /><path clip-path=\"url(#clip630)\" d=\"M1294.7 1406.5 Q1291.08 1406.5 1289.26 1410.06 Q1287.45 1413.6 1287.45 1420.73 Q1287.45 1427.84 1289.26 1431.4 Q1291.08 1434.95 1294.7 1434.95 Q1298.33 1434.95 1300.14 1431.4 Q1301.96 1427.84 1301.96 1420.73 Q1301.96 1413.6 1300.14 1410.06 Q1298.33 1406.5 1294.7 1406.5 M1294.7 1402.79 Q1300.51 1402.79 1303.56 1407.4 Q1306.64 1411.98 1306.64 1420.73 Q1306.64 1429.46 1303.56 1434.07 Q1300.51 1438.65 1294.7 1438.65 Q1288.89 1438.65 1285.81 1434.07 Q1282.75 1429.46 1282.75 1420.73 Q1282.75 1411.98 1285.81 1407.4 Q1288.89 1402.79 1294.7 1402.79 Z\" fill=\"#000000\" fill-rule=\"evenodd\" fill-opacity=\"1\" /><path clip-path=\"url(#clip630)\" d=\"M1314.86 1432.1 L1319.74 1432.1 L1319.74 1437.98 L1314.86 1437.98 L1314.86 1432.1 Z\" fill=\"#000000\" fill-rule=\"evenodd\" fill-opacity=\"1\" /><path clip-path=\"url(#clip630)\" d=\"M1333.95 1434.04 L1350.27 1434.04 L1350.27 1437.98 L1328.33 1437.98 L1328.33 1434.04 Q1330.99 1431.29 1335.58 1426.66 Q1340.18 1422.01 1341.36 1420.66 Q1343.61 1418.14 1344.49 1416.4 Q1345.39 1414.65 1345.39 1412.96 Q1345.39 1410.2 1343.45 1408.46 Q1341.52 1406.73 1338.42 1406.73 Q1336.22 1406.73 1333.77 1407.49 Q1331.34 1408.26 1328.56 1409.81 L1328.56 1405.09 Q1331.39 1403.95 1333.84 1403.37 Q1336.29 1402.79 1338.33 1402.79 Q1343.7 1402.79 1346.89 1405.48 Q1350.09 1408.16 1350.09 1412.65 Q1350.09 1414.78 1349.28 1416.71 Q1348.49 1418.6 1346.39 1421.2 Q1345.81 1421.87 1342.7 1425.09 Q1339.6 1428.28 1333.95 1434.04 Z\" fill=\"#000000\" fill-rule=\"evenodd\" fill-opacity=\"1\" /><path clip-path=\"url(#clip630)\" d=\"M1292.61 1351.29 Q1289 1351.29 1287.17 1354.86 Q1285.37 1358.4 1285.37 1365.53 Q1285.37 1372.63 1287.17 1376.2 Q1289 1379.74 1292.61 1379.74 Q1296.25 1379.74 1298.05 1376.2 Q1299.88 1372.63 1299.88 1365.53 Q1299.88 1358.4 1298.05 1354.86 Q1296.25 1351.29 1292.61 1351.29 M1292.61 1347.59 Q1298.42 1347.59 1301.48 1352.19 Q1304.56 1356.78 1304.56 1365.53 Q1304.56 1374.25 1301.48 1378.86 Q1298.42 1383.44 1292.61 1383.44 Q1286.8 1383.44 1283.72 1378.86 Q1280.67 1374.25 1280.67 1365.53 Q1280.67 1356.78 1283.72 1352.19 Q1286.8 1347.59 1292.61 1347.59 Z\" fill=\"#000000\" fill-rule=\"evenodd\" fill-opacity=\"1\" /><path clip-path=\"url(#clip630)\" d=\"M1312.77 1376.89 L1317.66 1376.89 L1317.66 1382.77 L1312.77 1382.77 L1312.77 1376.89 Z\" fill=\"#000000\" fill-rule=\"evenodd\" fill-opacity=\"1\" /><path clip-path=\"url(#clip630)\" d=\"M1340.69 1352.29 L1328.89 1370.74 L1340.69 1370.74 L1340.69 1352.29 M1339.46 1348.21 L1345.34 1348.21 L1345.34 1370.74 L1350.27 1370.74 L1350.27 1374.62 L1345.34 1374.62 L1345.34 1382.77 L1340.69 1382.77 L1340.69 1374.62 L1325.09 1374.62 L1325.09 1370.11 L1339.46 1348.21 Z\" fill=\"#000000\" fill-rule=\"evenodd\" fill-opacity=\"1\" /><path clip-path=\"url(#clip630)\" d=\"M1292.94 1296.09 Q1289.33 1296.09 1287.5 1299.65 Q1285.69 1303.19 1285.69 1310.32 Q1285.69 1317.43 1287.5 1320.99 Q1289.33 1324.53 1292.94 1324.53 Q1296.57 1324.53 1298.38 1320.99 Q1300.2 1317.43 1300.2 1310.32 Q1300.2 1303.19 1298.38 1299.65 Q1296.57 1296.09 1292.94 1296.09 M1292.94 1292.38 Q1298.75 1292.38 1301.8 1296.99 Q1304.88 1301.57 1304.88 1310.32 Q1304.88 1319.05 1301.8 1323.66 Q1298.75 1328.24 1292.94 1328.24 Q1287.13 1328.24 1284.05 1323.66 Q1280.99 1319.05 1280.99 1310.32 Q1280.99 1301.57 1284.05 1296.99 Q1287.13 1292.38 1292.94 1292.38 Z\" fill=\"#000000\" fill-rule=\"evenodd\" fill-opacity=\"1\" /><path clip-path=\"url(#clip630)\" d=\"M1313.1 1321.69 L1317.98 1321.69 L1317.98 1327.57 L1313.1 1327.57 L1313.1 1321.69 Z\" fill=\"#000000\" fill-rule=\"evenodd\" fill-opacity=\"1\" /><path clip-path=\"url(#clip630)\" d=\"M1338.75 1308.42 Q1335.6 1308.42 1333.75 1310.58 Q1331.92 1312.73 1331.92 1316.48 Q1331.92 1320.21 1333.75 1322.38 Q1335.6 1324.53 1338.75 1324.53 Q1341.89 1324.53 1343.72 1322.38 Q1345.57 1320.21 1345.57 1316.48 Q1345.57 1312.73 1343.72 1310.58 Q1341.89 1308.42 1338.75 1308.42 M1348.03 1293.77 L1348.03 1298.03 Q1346.27 1297.2 1344.46 1296.76 Q1342.68 1296.32 1340.92 1296.32 Q1336.29 1296.32 1333.84 1299.44 Q1331.41 1302.57 1331.06 1308.89 Q1332.43 1306.87 1334.49 1305.81 Q1336.55 1304.72 1339.02 1304.72 Q1344.23 1304.72 1347.24 1307.89 Q1350.27 1311.04 1350.27 1316.48 Q1350.27 1321.8 1347.13 1325.02 Q1343.98 1328.24 1338.75 1328.24 Q1332.75 1328.24 1329.58 1323.66 Q1326.41 1319.05 1326.41 1310.32 Q1326.41 1302.13 1330.3 1297.27 Q1334.19 1292.38 1340.74 1292.38 Q1342.5 1292.38 1344.28 1292.73 Q1346.08 1293.08 1348.03 1293.77 Z\" fill=\"#000000\" fill-rule=\"evenodd\" fill-opacity=\"1\" /><path clip-path=\"url(#clip630)\" d=\"M1293.19 1240.88 Q1289.58 1240.88 1287.75 1244.45 Q1285.95 1247.99 1285.95 1255.12 Q1285.95 1262.22 1287.75 1265.79 Q1289.58 1269.33 1293.19 1269.33 Q1296.83 1269.33 1298.63 1265.79 Q1300.46 1262.22 1300.46 1255.12 Q1300.46 1247.99 1298.63 1244.45 Q1296.83 1240.88 1293.19 1240.88 M1293.19 1237.18 Q1299 1237.18 1302.06 1241.78 Q1305.14 1246.37 1305.14 1255.12 Q1305.14 1263.84 1302.06 1268.45 Q1299 1273.03 1293.19 1273.03 Q1287.38 1273.03 1284.3 1268.45 Q1281.25 1263.84 1281.25 1255.12 Q1281.25 1246.37 1284.3 1241.78 Q1287.38 1237.18 1293.19 1237.18 Z\" fill=\"#000000\" fill-rule=\"evenodd\" fill-opacity=\"1\" /><path clip-path=\"url(#clip630)\" d=\"M1313.35 1266.48 L1318.24 1266.48 L1318.24 1272.36 L1313.35 1272.36 L1313.35 1266.48 Z\" fill=\"#000000\" fill-rule=\"evenodd\" fill-opacity=\"1\" /><path clip-path=\"url(#clip630)\" d=\"M1338.42 1255.95 Q1335.09 1255.95 1333.17 1257.73 Q1331.27 1259.51 1331.27 1262.64 Q1331.27 1265.76 1333.17 1267.55 Q1335.09 1269.33 1338.42 1269.33 Q1341.76 1269.33 1343.68 1267.55 Q1345.6 1265.74 1345.6 1262.64 Q1345.6 1259.51 1343.68 1257.73 Q1341.78 1255.95 1338.42 1255.95 M1333.75 1253.96 Q1330.74 1253.22 1329.05 1251.16 Q1327.38 1249.1 1327.38 1246.13 Q1327.38 1241.99 1330.32 1239.58 Q1333.28 1237.18 1338.42 1237.18 Q1343.58 1237.18 1346.52 1239.58 Q1349.46 1241.99 1349.46 1246.13 Q1349.46 1249.1 1347.77 1251.16 Q1346.11 1253.22 1343.12 1253.96 Q1346.5 1254.75 1348.38 1257.04 Q1350.27 1259.33 1350.27 1262.64 Q1350.27 1267.66 1347.2 1270.35 Q1344.14 1273.03 1338.42 1273.03 Q1332.7 1273.03 1329.63 1270.35 Q1326.57 1267.66 1326.57 1262.64 Q1326.57 1259.33 1328.47 1257.04 Q1330.37 1254.75 1333.75 1253.96 M1332.03 1246.57 Q1332.03 1249.26 1333.7 1250.76 Q1335.39 1252.27 1338.42 1252.27 Q1341.43 1252.27 1343.12 1250.76 Q1344.83 1249.26 1344.83 1246.57 Q1344.83 1243.89 1343.12 1242.39 Q1341.43 1240.88 1338.42 1240.88 Q1335.39 1240.88 1333.7 1242.39 Q1332.03 1243.89 1332.03 1246.57 Z\" fill=\"#000000\" fill-rule=\"evenodd\" fill-opacity=\"1\" /><path clip-path=\"url(#clip630)\" d=\"M1283.91 1213.22 L1291.55 1213.22 L1291.55 1186.86 L1283.24 1188.52 L1283.24 1184.26 L1291.5 1182.6 L1296.18 1182.6 L1296.18 1213.22 L1303.82 1213.22 L1303.82 1217.16 L1283.91 1217.16 L1283.91 1213.22 Z\" fill=\"#000000\" fill-rule=\"evenodd\" fill-opacity=\"1\" /><path clip-path=\"url(#clip630)\" d=\"M1313.26 1211.28 L1318.14 1211.28 L1318.14 1217.16 L1313.26 1217.16 L1313.26 1211.28 Z\" fill=\"#000000\" fill-rule=\"evenodd\" fill-opacity=\"1\" /><path clip-path=\"url(#clip630)\" d=\"M1338.33 1185.67 Q1334.72 1185.67 1332.89 1189.24 Q1331.08 1192.78 1331.08 1199.91 Q1331.08 1207.02 1332.89 1210.58 Q1334.72 1214.12 1338.33 1214.12 Q1341.96 1214.12 1343.77 1210.58 Q1345.6 1207.02 1345.6 1199.91 Q1345.6 1192.78 1343.77 1189.24 Q1341.96 1185.67 1338.33 1185.67 M1338.33 1181.97 Q1344.14 1181.97 1347.2 1186.58 Q1350.27 1191.16 1350.27 1199.91 Q1350.27 1208.64 1347.2 1213.24 Q1344.14 1217.83 1338.33 1217.83 Q1332.52 1217.83 1329.44 1213.24 Q1326.39 1208.64 1326.39 1199.91 Q1326.39 1191.16 1329.44 1186.58 Q1332.52 1181.97 1338.33 1181.97 Z\" fill=\"#000000\" fill-rule=\"evenodd\" fill-opacity=\"1\" /><path clip-path=\"url(#clip630)\" d=\"M1285.51 1158.02 L1293.14 1158.02 L1293.14 1131.65 L1284.83 1133.32 L1284.83 1129.06 L1293.1 1127.39 L1297.77 1127.39 L1297.77 1158.02 L1305.41 1158.02 L1305.41 1161.95 L1285.51 1161.95 L1285.51 1158.02 Z\" fill=\"#000000\" fill-rule=\"evenodd\" fill-opacity=\"1\" /><path clip-path=\"url(#clip630)\" d=\"M1314.86 1156.07 L1319.74 1156.07 L1319.74 1161.95 L1314.86 1161.95 L1314.86 1156.07 Z\" fill=\"#000000\" fill-rule=\"evenodd\" fill-opacity=\"1\" /><path clip-path=\"url(#clip630)\" d=\"M1333.95 1158.02 L1350.27 1158.02 L1350.27 1161.95 L1328.33 1161.95 L1328.33 1158.02 Q1330.99 1155.26 1335.58 1150.63 Q1340.18 1145.98 1341.36 1144.64 Q1343.61 1142.11 1344.49 1140.38 Q1345.39 1138.62 1345.39 1136.93 Q1345.39 1134.17 1343.45 1132.44 Q1341.52 1130.7 1338.42 1130.7 Q1336.22 1130.7 1333.77 1131.46 Q1331.34 1132.23 1328.56 1133.78 L1328.56 1129.06 Q1331.39 1127.92 1333.84 1127.34 Q1336.29 1126.77 1338.33 1126.77 Q1343.7 1126.77 1346.89 1129.45 Q1350.09 1132.14 1350.09 1136.63 Q1350.09 1138.76 1349.28 1140.68 Q1348.49 1142.58 1346.39 1145.17 Q1345.81 1145.84 1342.7 1149.06 Q1339.6 1152.25 1333.95 1158.02 Z\" fill=\"#000000\" fill-rule=\"evenodd\" fill-opacity=\"1\" /><polyline clip-path=\"url(#clip637)\" style=\"stroke:#00a9ad; stroke-linecap:round; stroke-linejoin:round; stroke-width:8; stroke-opacity:1; fill:none\" stroke-dasharray=\"32, 16, 4, 16, 4, 16\" points=\"\n",
       "  1413.63,1475.9 1419.56,1475.9 1474.45,1475.9 1507.44,1475.9 1535.33,1475.9 1565.62,1475.9 1593.55,1475.9 1623.49,1475.9 1658.19,1475.9 1689.02,1475.9 \n",
       "  1716.05,1475.9 1745.53,1475.9 1775.18,1475.9 1791.57,1475.9 1807.96,1475.9 1823.56,1475.9 1839.15,1475.9 1847.26,1475.9 1855.37,1475.9 1859.43,1475.9 \n",
       "  1863.48,1475.9 1864.49,1475.9 1865.51,1475.9 1866.52,1475.9 1867.53,1475.9 1868.04,1475.9 1868.55,1475.9 1868.8,1475.9 1869.05,1475.9 1869.31,1475.9 \n",
       "  1869.56,1124.45 1869.81,1124.46 1870.07,1124.47 1870.32,1124.48 1870.57,1124.5 1871.08,1124.56 1871.59,1124.64 1873.29,1125.06 1875,1125.72 1876.71,1126.63 \n",
       "  1878.41,1127.77 1881.83,1130.75 1885.24,1134.6 1888.65,1139.28 1892.06,1144.71 1895.48,1150.81 1898.89,1157.5 1903.06,1166.34 1907.22,1175.78 1911.39,1185.67 \n",
       "  1915.56,1195.86 1923.89,1216.65 1932.22,1237.31 1936.04,1246.55 1939.85,1255.58 1943.67,1264.38 1947.49,1272.91 1951.31,1281.16 1955.12,1289.12 1956.08,1291.06 \n",
       "  1957.03,1292.98 1957.98,1294.88 1958.94,1296.77 1959.42,1297.7 1959.89,1298.63 1960.13,1299.09 1960.37,1299.56 1960.61,1300.02 1960.85,1475.9 1961.09,1475.9 \n",
       "  1961.32,1475.9 1961.56,1475.9 1961.8,1475.9 1962.28,1475.9 1962.76,1475.9 1964.52,1475.9 1966.28,1475.9 1968.04,1475.9 1969.81,1475.9 1973.33,1475.9 \n",
       "  1976.86,1475.9 1983.91,1475.9 1990.96,1475.9 2005.24,1475.9 2019.52,1475.9 2051.54,1475.9 2080.55,1475.9 2113.76,1475.9 2144.52,1475.9 2174.84,1475.9 \n",
       "  2204.28,1475.9 2234.45,1475.9 2267.52,1475.9 2315.55,1475.9 2325.4,1475.9 \n",
       "  \"/>\n",
       "<path clip-path=\"url(#clip630)\" d=\"\n",
       "M1418.49 1230.01 L1558.24 1230.01 L1558.24 1126.33 L1418.49 1126.33  Z\n",
       "  \" fill=\"#ffffff\" fill-rule=\"evenodd\" fill-opacity=\"1\"/>\n",
       "<polyline clip-path=\"url(#clip630)\" style=\"stroke:#000000; stroke-linecap:round; stroke-linejoin:round; stroke-width:4; stroke-opacity:0; fill:none\" points=\"\n",
       "  1418.49,1230.01 1558.24,1230.01 1558.24,1126.33 1418.49,1126.33 1418.49,1230.01 \n",
       "  \"/>\n",
       "<polyline clip-path=\"url(#clip630)\" style=\"stroke:#00a9ad; stroke-linecap:round; stroke-linejoin:round; stroke-width:8; stroke-opacity:1; fill:none\" stroke-dasharray=\"32, 16, 4, 16, 4, 16\" points=\"\n",
       "  1429.23,1178.17 1493.66,1178.17 \n",
       "  \"/>\n",
       "<path clip-path=\"url(#clip630)\" d=\"M1520.9 1159.43 L1520.9 1162.97 L1516.83 1162.97 Q1514.54 1162.97 1513.64 1163.9 Q1512.76 1164.82 1512.76 1167.23 L1512.76 1169.52 L1519.77 1169.52 L1519.77 1172.83 L1512.76 1172.83 L1512.76 1195.45 L1508.47 1195.45 L1508.47 1172.83 L1504.4 1172.83 L1504.4 1169.52 L1508.47 1169.52 L1508.47 1167.72 Q1508.47 1163.39 1510.49 1161.42 Q1512.5 1159.43 1516.88 1159.43 L1520.9 1159.43 Z\" fill=\"#000000\" fill-rule=\"evenodd\" fill-opacity=\"1\" /><path clip-path=\"url(#clip630)\" d=\"M1537.92 1164.96 L1526.11 1183.41 L1537.92 1183.41 L1537.92 1164.96 M1536.69 1160.89 L1542.57 1160.89 L1542.57 1183.41 L1547.5 1183.41 L1547.5 1187.3 L1542.57 1187.3 L1542.57 1195.45 L1537.92 1195.45 L1537.92 1187.3 L1522.32 1187.3 L1522.32 1182.79 L1536.69 1160.89 Z\" fill=\"#000000\" fill-rule=\"evenodd\" fill-opacity=\"1\" /></svg>\n"
      ]
     },
     "execution_count": 17,
     "metadata": {},
     "output_type": "execute_result"
    }
   ],
   "source": [
    "\n",
    "p1 = plot(g,-1,2,color = 1,linewidth = 2,linestyle = :dashdot,label = \"g\",fg_legend = false)\n",
    "p2 = plot(f0,color = 2,linestyle = :dashdotdot,linewidth = 2,label = \"f0\",fg_legend = false)\n",
    "p3 = plot(f1,color = 3,linestyle = :dashdotdot,linewidth = 2,label = \"f1\",fg_legend = false)\n",
    "p4 = plot(f2,color = 4,linestyle = :dashdotdot,linewidth = 2,label = \"f2\",fg_legend = false)\n",
    "p5 = plot(f3,color = 5,linestyle = :dashdotdot,linewidth = 2,label = \"f3\",fg_legend = false)\n",
    "p6 = plot(f4,color = 6,linestyle = :dashdotdot,linewidth = 2,label = \"f4\",fg_legend = false)\n",
    "plot(p1,p2,p3,p4,p5,p6,layout = (3,2))"
   ]
  },
  {
   "cell_type": "code",
   "execution_count": 18,
   "id": "f21eef5f",
   "metadata": {},
   "outputs": [
    {
     "name": "stdout",
     "output_type": "stream",
     "text": [
      "\u001b[34mAny[0.5222681642833257]\u001b[39m"
     ]
    },
    {
     "data": {
      "text/plain": [
       "1-element Vector{Any}:\n",
       " 0.0024272221229010675"
      ]
     },
     "execution_count": 18,
     "metadata": {},
     "output_type": "execute_result"
    }
   ],
   "source": [
    "m2 = 10000\n",
    "theta_hat = []\n",
    "se_theta_hat = []\n",
    "\n",
    "## for f0 function\n",
    "x = u = rand(Uniform(),m2)\n",
    "gf_0 = g.(x)./f0.(x)\n",
    "push!(theta_hat,mean(gf_0))\n",
    "printstyled(theta_hat,color = :blue)\n",
    "theta_hat\n",
    "push!(se_theta_hat,std(gf_0)/sqrt(m2))\n",
    "\n",
    "\n"
   ]
  },
  {
   "cell_type": "code",
   "execution_count": 19,
   "id": "915f55e3",
   "metadata": {},
   "outputs": [
    {
     "data": {
      "text/plain": [
       "2-element Vector{Any}:\n",
       " 0.0024272221229010675\n",
       " 0.00418052879073382"
      ]
     },
     "execution_count": 19,
     "metadata": {},
     "output_type": "execute_result"
    }
   ],
   "source": [
    "## for f1 function\n",
    "x = -log.(1 .- u)\n",
    "gf_1 = g.(x)./f1.(x)\n",
    "push!(theta_hat,mean(gf_1))\n",
    "push!(se_theta_hat,std(gf_1)/sqrt(m2))"
   ]
  },
  {
   "cell_type": "code",
   "execution_count": 20,
   "id": "f346060a",
   "metadata": {},
   "outputs": [],
   "source": [
    "## for f2 function\n",
    "x = tan.(pi*(u .- 1/2));\n",
    "gf_2 = g.(x)./f2.(x);"
   ]
  },
  {
   "cell_type": "code",
   "execution_count": 21,
   "id": "ad7617cd",
   "metadata": {},
   "outputs": [
    {
     "data": {
      "text/plain": [
       "3-element Vector{Any}:\n",
       " 0.0024272221229010675\n",
       " 0.00418052879073382\n",
       " 0.00956841356340864"
      ]
     },
     "execution_count": 21,
     "metadata": {},
     "output_type": "execute_result"
    }
   ],
   "source": [
    "push!(theta_hat,mean(gf_2))\n",
    "push!(se_theta_hat,std(gf_2)/sqrt(m2))"
   ]
  },
  {
   "cell_type": "code",
   "execution_count": 22,
   "id": "dde79041",
   "metadata": {},
   "outputs": [
    {
     "data": {
      "text/plain": [
       "4-element Vector{Any}:\n",
       " 0.0024272221229010675\n",
       " 0.00418052879073382\n",
       " 0.00956841356340864\n",
       " 0.0009599628308418644"
      ]
     },
     "execution_count": 22,
     "metadata": {},
     "output_type": "execute_result"
    }
   ],
   "source": [
    "## for f3 function\n",
    "x = - log.(1 .- u*(1 - exp(-1)))\n",
    "gf_3 = g.(x)./f3.(x)\n",
    "push!(theta_hat,mean(gf_3))\n",
    "push!(se_theta_hat,std(gf_3)/sqrt(m2))\n"
   ]
  },
  {
   "cell_type": "code",
   "execution_count": 23,
   "id": "91ae8bd8",
   "metadata": {},
   "outputs": [
    {
     "data": {
      "text/plain": [
       "5-element Vector{Any}:\n",
       " 0.0024272221229010675\n",
       " 0.00418052879073382\n",
       " 0.00956841356340864\n",
       " 0.0009599628308418644\n",
       " 0.0013981587118066753"
      ]
     },
     "execution_count": 23,
     "metadata": {},
     "output_type": "execute_result"
    }
   ],
   "source": [
    "## for f4 function\n",
    "x = tan.((u*pi)/4)\n",
    "gf_4 = g.(x)./f4.(x)\n",
    "push!(theta_hat,mean(gf_4))\n",
    "push!(se_theta_hat,std(gf_4)/sqrt(m2))\n"
   ]
  },
  {
   "cell_type": "code",
   "execution_count": 24,
   "id": "642b6dd2",
   "metadata": {},
   "outputs": [
    {
     "data": {
      "text/plain": [
       "2-element Vector{Vector{Float64}}:\n",
       " [0.52227, 0.5211, 0.53698, 0.52458, 0.52363]\n",
       " [0.0024272, 0.0041805, 0.0095684, 0.00096, 0.0013982]"
      ]
     },
     "execution_count": 24,
     "metadata": {},
     "output_type": "execute_result"
    }
   ],
   "source": [
    "[round.(theta_hat,digits = 5),round.(se_theta_hat,digits = 7)]"
   ]
  },
  {
   "cell_type": "code",
   "execution_count": 25,
   "id": "419742c2",
   "metadata": {},
   "outputs": [
    {
     "data": {
      "text/plain": [
       "\"C:\\\\Users\\\\hp\\\\Julia_files\\\\Statistics with Julia\\\\important sampling.png\""
      ]
     },
     "execution_count": 25,
     "metadata": {},
     "output_type": "execute_result"
    }
   ],
   "source": [
    "p = plot(g,0,1,color = 1,linewidth = 4,linestyle = :dot,label = \"g\",fg_legend = false)\n",
    "p = plot!(f0,color = 2,linestyle = :dashdotdot,linewidth = 2,label = \"f0\",fg_legend = false)\n",
    "p = plot!(f1,color = 3,linestyle = :dashdotdot,linewidth = 2,label = \"f1\",fg_legend = false)\n",
    "p = plot!(f2,color = 4,linestyle = :dashdotdot,linewidth = 2,label = \"f2\",fg_legend = false)\n",
    "p = plot!(f3,color = 5,linestyle = :dashdotdot,linewidth = 2,label = \"f3\",fg_legend = false)\n",
    "p = plot!(f4,color = :red,linestyle = :dashdotdot,linewidth = 2,label = \"f4\",fg_legend = false)\n",
    "savefig(\"important sampling\")"
   ]
  },
  {
   "cell_type": "code",
   "execution_count": null,
   "id": "0b5ce5cd",
   "metadata": {},
   "outputs": [],
   "source": []
  },
  {
   "cell_type": "code",
   "execution_count": 26,
   "id": "c3480202",
   "metadata": {},
   "outputs": [
    {
     "data": {
      "text/plain": [
       "\"C:\\\\Users\\\\hp\\\\Julia_files\\\\Statistics with Julia\\\\important sampling 1.png\""
      ]
     },
     "execution_count": 26,
     "metadata": {},
     "output_type": "execute_result"
    }
   ],
   "source": [
    "p1 = histogram(g.(x)./f0.(x),normalize = true,bins = 20,label = L\"g/f_0\",color = :red,fg_legend = :transparent)\n",
    "p2 = histogram(g.(x)./f1.(x),normalize = true,bins = 30,label = L\"g/f_1\",color = :green,fg_legend = :transparent)\n",
    "p3 = histogram(g.(x)./f2.(x),normalize = true,bins = 40,label = L\"g/f_2\",color = :yellow,fg_legend= :transparent)\n",
    "p4 = histogram(g.(x)./f3.(x),normalize = true,bins = 50,label = L\"g/f_3\",color = :blue,fg_legend = :transparent)\n",
    "p5 = histogram(g.(x)./f4.(x),normalize = true,bins = 60,label = L\"g/f_4\",color = :magenta,fg_legend = :transparent)\n",
    "plot!(p1,p2,p3,p4,p5,layout = (2,3))\n",
    "savefig(\"important sampling 1\")"
   ]
  },
  {
   "cell_type": "code",
   "execution_count": 27,
   "id": "ce688359",
   "metadata": {},
   "outputs": [
    {
     "data": {
      "text/plain": [
       "gf_04 (generic function with 1 method)"
      ]
     },
     "execution_count": 27,
     "metadata": {},
     "output_type": "execute_result"
    }
   ],
   "source": [
    "\n",
    "function gf_00(x)\n",
    "    g(x)/f0(x)\n",
    "end\n",
    "\n",
    "function gf_01(x)\n",
    "    g(x)/f1(x)\n",
    "end\n",
    "\n",
    "function gf_02(x)\n",
    "    g(x)/f2(x)\n",
    "end\n",
    "\n",
    "function gf_03(x)\n",
    "    g(x)/f3(x)\n",
    "end\n",
    "\n",
    "function gf_04(x)\n",
    "    g(x)/f4(x)\n",
    "end"
   ]
  },
  {
   "cell_type": "code",
   "execution_count": 28,
   "id": "da9612ab",
   "metadata": {},
   "outputs": [
    {
     "data": {
      "text/plain": [
       "\"C:\\\\Users\\\\hp\\\\Julia_files\\\\Statistics with Julia\\\\important sampling 2.png\""
      ]
     },
     "execution_count": 28,
     "metadata": {},
     "output_type": "execute_result"
    }
   ],
   "source": [
    "plot(gf_00,0,1,ylims = (0,3.3),style =:dashdot,linewidth = 3,fg_legend = false,label = L\"$g/f_0$\",color = 2)\n",
    "plot!(gf_01,style =:dashdot,linewidth = 3,fg_legend = false,label = L\"$g/f_1$\",color = 3)\n",
    "plot!(gf_02,style =:dashdot,linewidth = 3,fg_legend = false,label = L\"$g/f_2$\",color = 4)\n",
    "plot!(gf_03,style =:dashdot,linewidth = 3,fg_legend = false,label = L\"$g/f_3$\",color = 5)\n",
    "plot!(gf_04,style =:dashdot,linewidth = 3,fg_legend = false,label = L\"$g/f_4$\",color = 6)\n",
    "savefig(\"important sampling 2\")"
   ]
  },
  {
   "cell_type": "code",
   "execution_count": null,
   "id": "e864d96f",
   "metadata": {},
   "outputs": [],
   "source": []
  },
  {
   "cell_type": "code",
   "execution_count": null,
   "id": "c683ad26",
   "metadata": {},
   "outputs": [],
   "source": []
  },
  {
   "cell_type": "code",
   "execution_count": null,
   "id": "5299ab85",
   "metadata": {},
   "outputs": [],
   "source": []
  },
  {
   "cell_type": "code",
   "execution_count": null,
   "id": "3953837e",
   "metadata": {},
   "outputs": [],
   "source": []
  }
 ],
 "metadata": {
  "kernelspec": {
   "display_name": "Julia 1.7.3",
   "language": "julia",
   "name": "julia-1.7"
  },
  "language_info": {
   "file_extension": ".jl",
   "mimetype": "application/julia",
   "name": "julia",
   "version": "1.7.3"
  }
 },
 "nbformat": 4,
 "nbformat_minor": 5
}
